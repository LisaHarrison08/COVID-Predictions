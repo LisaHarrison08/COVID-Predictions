{
 "cells": [
  {
   "cell_type": "markdown",
   "metadata": {},
   "source": [
    "### Forecasting DC COVID-19 Deaths"
   ]
  },
  {
   "cell_type": "code",
   "execution_count": 1,
   "metadata": {
    "colab": {
     "base_uri": "https://localhost:8080/",
     "height": 74
    },
    "colab_type": "code",
    "id": "OT5QpVPKLDUv",
    "outputId": "9ceac6b4-f24e-4cc5-df93-b85432e64970"
   },
   "outputs": [],
   "source": [
    "import pandas as pd\n",
    "import numpy as np\n",
    "from sklearn.svm import SVC  \n",
    "from sklearn.linear_model import LinearRegression \n",
    "from sklearn.preprocessing import PolynomialFeatures\n",
    "from sklearn.model_selection import train_test_split\n",
    "from sklearn.metrics import mean_squared_error\n",
    "from sklearn.metrics import r2_score\n",
    "import seaborn as sns\n",
    "import matplotlib.pyplot as plt\n",
    "import matplotlib.pylab as plt\n",
    "%matplotlib inline\n",
    "import datetime as dt"
   ]
  },
  {
   "cell_type": "code",
   "execution_count": 2,
   "metadata": {
    "colab": {
     "base_uri": "https://localhost:8080/",
     "height": 198
    },
    "colab_type": "code",
    "id": "XoqKhNmjNJCe",
    "outputId": "22a28283-928c-4086-b3ef-ae1c2c3d8ae0"
   },
   "outputs": [],
   "source": [
    "# Get the curent date/time\n",
    "today = pd.to_datetime('today')"
   ]
  },
  {
   "cell_type": "code",
   "execution_count": 3,
   "metadata": {
    "colab": {
     "base_uri": "https://localhost:8080/",
     "height": 381
    },
    "colab_type": "code",
    "id": "pCtcBt_PN_F6",
    "outputId": "50698676-ce5f-476d-c70e-a4b7e118e254"
   },
   "outputs": [],
   "source": [
    "# Downloads the latest data availlable and saves it.\n",
    "# Run this step dayly to update the data.\n",
    "\n",
    "nat_data = pd.read_csv('https://covidtracking.com/data/download/national-history.csv')\n",
    "nat_data.to_csv('National_Covid_Data_'+today.strftime(\"%Y-%m-%d\")+'.csv')"
   ]
  },
  {
   "cell_type": "code",
   "execution_count": 3,
   "metadata": {},
   "outputs": [
    {
     "data": {
      "text/html": [
       "<div>\n",
       "<style scoped>\n",
       "    .dataframe tbody tr th:only-of-type {\n",
       "        vertical-align: middle;\n",
       "    }\n",
       "\n",
       "    .dataframe tbody tr th {\n",
       "        vertical-align: top;\n",
       "    }\n",
       "\n",
       "    .dataframe thead th {\n",
       "        text-align: right;\n",
       "    }\n",
       "</style>\n",
       "<table border=\"1\" class=\"dataframe\">\n",
       "  <thead>\n",
       "    <tr style=\"text-align: right;\">\n",
       "      <th></th>\n",
       "      <th>Unnamed: 0</th>\n",
       "      <th>date</th>\n",
       "      <th>death</th>\n",
       "      <th>deathIncrease</th>\n",
       "      <th>inIcuCumulative</th>\n",
       "      <th>inIcuCurrently</th>\n",
       "      <th>hospitalizedIncrease</th>\n",
       "      <th>hospitalizedCurrently</th>\n",
       "      <th>hospitalizedCumulative</th>\n",
       "      <th>negative</th>\n",
       "      <th>negativeIncrease</th>\n",
       "      <th>onVentilatorCumulative</th>\n",
       "      <th>onVentilatorCurrently</th>\n",
       "      <th>positive</th>\n",
       "      <th>positiveIncrease</th>\n",
       "      <th>recovered</th>\n",
       "      <th>states</th>\n",
       "      <th>totalTestResults</th>\n",
       "      <th>totalTestResultsIncrease</th>\n",
       "    </tr>\n",
       "  </thead>\n",
       "  <tbody>\n",
       "    <tr>\n",
       "      <th>0</th>\n",
       "      <td>0</td>\n",
       "      <td>2020-12-08</td>\n",
       "      <td>277367.0</td>\n",
       "      <td>2622</td>\n",
       "      <td>32406.0</td>\n",
       "      <td>20483.0</td>\n",
       "      <td>4193</td>\n",
       "      <td>104600.0</td>\n",
       "      <td>593679.0</td>\n",
       "      <td>164563564</td>\n",
       "      <td>1184838</td>\n",
       "      <td>3359.0</td>\n",
       "      <td>7245.0</td>\n",
       "      <td>14930563</td>\n",
       "      <td>213498</td>\n",
       "      <td>5786915.0</td>\n",
       "      <td>56</td>\n",
       "      <td>207572528</td>\n",
       "      <td>1638354</td>\n",
       "    </tr>\n",
       "    <tr>\n",
       "      <th>1</th>\n",
       "      <td>1</td>\n",
       "      <td>2020-12-07</td>\n",
       "      <td>274745.0</td>\n",
       "      <td>1347</td>\n",
       "      <td>32120.0</td>\n",
       "      <td>20098.0</td>\n",
       "      <td>3614</td>\n",
       "      <td>102148.0</td>\n",
       "      <td>589486.0</td>\n",
       "      <td>163378726</td>\n",
       "      <td>1386381</td>\n",
       "      <td>3328.0</td>\n",
       "      <td>7073.0</td>\n",
       "      <td>14717065</td>\n",
       "      <td>180193</td>\n",
       "      <td>5714557.0</td>\n",
       "      <td>56</td>\n",
       "      <td>205934174</td>\n",
       "      <td>1835388</td>\n",
       "    </tr>\n",
       "    <tr>\n",
       "      <th>2</th>\n",
       "      <td>2</td>\n",
       "      <td>2020-12-06</td>\n",
       "      <td>273398.0</td>\n",
       "      <td>1146</td>\n",
       "      <td>31946.0</td>\n",
       "      <td>20145.0</td>\n",
       "      <td>2311</td>\n",
       "      <td>101501.0</td>\n",
       "      <td>585872.0</td>\n",
       "      <td>161992345</td>\n",
       "      <td>1175503</td>\n",
       "      <td>3322.0</td>\n",
       "      <td>7095.0</td>\n",
       "      <td>14536872</td>\n",
       "      <td>177801</td>\n",
       "      <td>5624609.0</td>\n",
       "      <td>56</td>\n",
       "      <td>204098786</td>\n",
       "      <td>1648306</td>\n",
       "    </tr>\n",
       "    <tr>\n",
       "      <th>3</th>\n",
       "      <td>3</td>\n",
       "      <td>2020-12-05</td>\n",
       "      <td>272252.0</td>\n",
       "      <td>2461</td>\n",
       "      <td>31831.0</td>\n",
       "      <td>19947.0</td>\n",
       "      <td>3457</td>\n",
       "      <td>101192.0</td>\n",
       "      <td>583561.0</td>\n",
       "      <td>160816842</td>\n",
       "      <td>1530133</td>\n",
       "      <td>3321.0</td>\n",
       "      <td>7006.0</td>\n",
       "      <td>14359071</td>\n",
       "      <td>212880</td>\n",
       "      <td>5576152.0</td>\n",
       "      <td>56</td>\n",
       "      <td>202450480</td>\n",
       "      <td>2190899</td>\n",
       "    </tr>\n",
       "    <tr>\n",
       "      <th>4</th>\n",
       "      <td>4</td>\n",
       "      <td>2020-12-04</td>\n",
       "      <td>269791.0</td>\n",
       "      <td>2563</td>\n",
       "      <td>31608.0</td>\n",
       "      <td>19858.0</td>\n",
       "      <td>4652</td>\n",
       "      <td>101276.0</td>\n",
       "      <td>580104.0</td>\n",
       "      <td>159286709</td>\n",
       "      <td>1260657</td>\n",
       "      <td>3305.0</td>\n",
       "      <td>6999.0</td>\n",
       "      <td>14146191</td>\n",
       "      <td>224831</td>\n",
       "      <td>5470389.0</td>\n",
       "      <td>56</td>\n",
       "      <td>200259581</td>\n",
       "      <td>1854869</td>\n",
       "    </tr>\n",
       "    <tr>\n",
       "      <th>...</th>\n",
       "      <td>...</td>\n",
       "      <td>...</td>\n",
       "      <td>...</td>\n",
       "      <td>...</td>\n",
       "      <td>...</td>\n",
       "      <td>...</td>\n",
       "      <td>...</td>\n",
       "      <td>...</td>\n",
       "      <td>...</td>\n",
       "      <td>...</td>\n",
       "      <td>...</td>\n",
       "      <td>...</td>\n",
       "      <td>...</td>\n",
       "      <td>...</td>\n",
       "      <td>...</td>\n",
       "      <td>...</td>\n",
       "      <td>...</td>\n",
       "      <td>...</td>\n",
       "      <td>...</td>\n",
       "    </tr>\n",
       "    <tr>\n",
       "      <th>317</th>\n",
       "      <td>317</td>\n",
       "      <td>2020-01-26</td>\n",
       "      <td>NaN</td>\n",
       "      <td>0</td>\n",
       "      <td>NaN</td>\n",
       "      <td>NaN</td>\n",
       "      <td>0</td>\n",
       "      <td>NaN</td>\n",
       "      <td>NaN</td>\n",
       "      <td>0</td>\n",
       "      <td>0</td>\n",
       "      <td>NaN</td>\n",
       "      <td>NaN</td>\n",
       "      <td>0</td>\n",
       "      <td>0</td>\n",
       "      <td>NaN</td>\n",
       "      <td>2</td>\n",
       "      <td>2</td>\n",
       "      <td>0</td>\n",
       "    </tr>\n",
       "    <tr>\n",
       "      <th>318</th>\n",
       "      <td>318</td>\n",
       "      <td>2020-01-25</td>\n",
       "      <td>NaN</td>\n",
       "      <td>0</td>\n",
       "      <td>NaN</td>\n",
       "      <td>NaN</td>\n",
       "      <td>0</td>\n",
       "      <td>NaN</td>\n",
       "      <td>NaN</td>\n",
       "      <td>0</td>\n",
       "      <td>0</td>\n",
       "      <td>NaN</td>\n",
       "      <td>NaN</td>\n",
       "      <td>0</td>\n",
       "      <td>0</td>\n",
       "      <td>NaN</td>\n",
       "      <td>2</td>\n",
       "      <td>2</td>\n",
       "      <td>0</td>\n",
       "    </tr>\n",
       "    <tr>\n",
       "      <th>319</th>\n",
       "      <td>319</td>\n",
       "      <td>2020-01-24</td>\n",
       "      <td>NaN</td>\n",
       "      <td>0</td>\n",
       "      <td>NaN</td>\n",
       "      <td>NaN</td>\n",
       "      <td>0</td>\n",
       "      <td>NaN</td>\n",
       "      <td>NaN</td>\n",
       "      <td>0</td>\n",
       "      <td>0</td>\n",
       "      <td>NaN</td>\n",
       "      <td>NaN</td>\n",
       "      <td>0</td>\n",
       "      <td>0</td>\n",
       "      <td>NaN</td>\n",
       "      <td>2</td>\n",
       "      <td>2</td>\n",
       "      <td>0</td>\n",
       "    </tr>\n",
       "    <tr>\n",
       "      <th>320</th>\n",
       "      <td>320</td>\n",
       "      <td>2020-01-23</td>\n",
       "      <td>NaN</td>\n",
       "      <td>0</td>\n",
       "      <td>NaN</td>\n",
       "      <td>NaN</td>\n",
       "      <td>0</td>\n",
       "      <td>NaN</td>\n",
       "      <td>NaN</td>\n",
       "      <td>0</td>\n",
       "      <td>0</td>\n",
       "      <td>NaN</td>\n",
       "      <td>NaN</td>\n",
       "      <td>0</td>\n",
       "      <td>0</td>\n",
       "      <td>NaN</td>\n",
       "      <td>2</td>\n",
       "      <td>2</td>\n",
       "      <td>1</td>\n",
       "    </tr>\n",
       "    <tr>\n",
       "      <th>321</th>\n",
       "      <td>321</td>\n",
       "      <td>2020-01-22</td>\n",
       "      <td>NaN</td>\n",
       "      <td>0</td>\n",
       "      <td>NaN</td>\n",
       "      <td>NaN</td>\n",
       "      <td>0</td>\n",
       "      <td>NaN</td>\n",
       "      <td>NaN</td>\n",
       "      <td>0</td>\n",
       "      <td>0</td>\n",
       "      <td>NaN</td>\n",
       "      <td>NaN</td>\n",
       "      <td>0</td>\n",
       "      <td>0</td>\n",
       "      <td>NaN</td>\n",
       "      <td>2</td>\n",
       "      <td>1</td>\n",
       "      <td>0</td>\n",
       "    </tr>\n",
       "  </tbody>\n",
       "</table>\n",
       "<p>322 rows × 19 columns</p>\n",
       "</div>"
      ],
      "text/plain": [
       "     Unnamed: 0        date     death  deathIncrease  inIcuCumulative  \\\n",
       "0             0  2020-12-08  277367.0           2622          32406.0   \n",
       "1             1  2020-12-07  274745.0           1347          32120.0   \n",
       "2             2  2020-12-06  273398.0           1146          31946.0   \n",
       "3             3  2020-12-05  272252.0           2461          31831.0   \n",
       "4             4  2020-12-04  269791.0           2563          31608.0   \n",
       "..          ...         ...       ...            ...              ...   \n",
       "317         317  2020-01-26       NaN              0              NaN   \n",
       "318         318  2020-01-25       NaN              0              NaN   \n",
       "319         319  2020-01-24       NaN              0              NaN   \n",
       "320         320  2020-01-23       NaN              0              NaN   \n",
       "321         321  2020-01-22       NaN              0              NaN   \n",
       "\n",
       "     inIcuCurrently  hospitalizedIncrease  hospitalizedCurrently  \\\n",
       "0           20483.0                  4193               104600.0   \n",
       "1           20098.0                  3614               102148.0   \n",
       "2           20145.0                  2311               101501.0   \n",
       "3           19947.0                  3457               101192.0   \n",
       "4           19858.0                  4652               101276.0   \n",
       "..              ...                   ...                    ...   \n",
       "317             NaN                     0                    NaN   \n",
       "318             NaN                     0                    NaN   \n",
       "319             NaN                     0                    NaN   \n",
       "320             NaN                     0                    NaN   \n",
       "321             NaN                     0                    NaN   \n",
       "\n",
       "     hospitalizedCumulative   negative  negativeIncrease  \\\n",
       "0                  593679.0  164563564           1184838   \n",
       "1                  589486.0  163378726           1386381   \n",
       "2                  585872.0  161992345           1175503   \n",
       "3                  583561.0  160816842           1530133   \n",
       "4                  580104.0  159286709           1260657   \n",
       "..                      ...        ...               ...   \n",
       "317                     NaN          0                 0   \n",
       "318                     NaN          0                 0   \n",
       "319                     NaN          0                 0   \n",
       "320                     NaN          0                 0   \n",
       "321                     NaN          0                 0   \n",
       "\n",
       "     onVentilatorCumulative  onVentilatorCurrently  positive  \\\n",
       "0                    3359.0                 7245.0  14930563   \n",
       "1                    3328.0                 7073.0  14717065   \n",
       "2                    3322.0                 7095.0  14536872   \n",
       "3                    3321.0                 7006.0  14359071   \n",
       "4                    3305.0                 6999.0  14146191   \n",
       "..                      ...                    ...       ...   \n",
       "317                     NaN                    NaN         0   \n",
       "318                     NaN                    NaN         0   \n",
       "319                     NaN                    NaN         0   \n",
       "320                     NaN                    NaN         0   \n",
       "321                     NaN                    NaN         0   \n",
       "\n",
       "     positiveIncrease  recovered  states  totalTestResults  \\\n",
       "0              213498  5786915.0      56         207572528   \n",
       "1              180193  5714557.0      56         205934174   \n",
       "2              177801  5624609.0      56         204098786   \n",
       "3              212880  5576152.0      56         202450480   \n",
       "4              224831  5470389.0      56         200259581   \n",
       "..                ...        ...     ...               ...   \n",
       "317                 0        NaN       2                 2   \n",
       "318                 0        NaN       2                 2   \n",
       "319                 0        NaN       2                 2   \n",
       "320                 0        NaN       2                 2   \n",
       "321                 0        NaN       2                 1   \n",
       "\n",
       "     totalTestResultsIncrease  \n",
       "0                     1638354  \n",
       "1                     1835388  \n",
       "2                     1648306  \n",
       "3                     2190899  \n",
       "4                     1854869  \n",
       "..                        ...  \n",
       "317                         0  \n",
       "318                         0  \n",
       "319                         0  \n",
       "320                         1  \n",
       "321                         0  \n",
       "\n",
       "[322 rows x 19 columns]"
      ]
     },
     "execution_count": 3,
     "metadata": {},
     "output_type": "execute_result"
    }
   ],
   "source": [
    "# Loads the last saved data. Make sure the data is up to date by running the cell above. \n",
    "nat_data = pd.read_csv('National_Covid_Data_'+today.strftime(\"%Y-%m-%d\")+'.csv')\n",
    "nat_data"
   ]
  },
  {
   "cell_type": "code",
   "execution_count": 5,
   "metadata": {},
   "outputs": [
    {
     "name": "stdout",
     "output_type": "stream",
     "text": [
      "Size/Shape of the dataset (322, 19)\n",
      "Checking for null values:\n",
      " Unnamed: 0                   0\n",
      "date                         0\n",
      "death                       19\n",
      "deathIncrease                0\n",
      "inIcuCumulative             63\n",
      "inIcuCurrently              64\n",
      "hospitalizedIncrease         0\n",
      "hospitalizedCurrently       55\n",
      "hospitalizedCumulative      42\n",
      "negative                     0\n",
      "negativeIncrease             0\n",
      "onVentilatorCumulative      70\n",
      "onVentilatorCurrently       63\n",
      "positive                     0\n",
      "positiveIncrease             0\n",
      "recovered                   63\n",
      "states                       0\n",
      "totalTestResults             0\n",
      "totalTestResultsIncrease     0\n",
      "dtype: int64\n",
      "Checking Data-type: Unnamed: 0                    int64\n",
      "date                         object\n",
      "death                       float64\n",
      "deathIncrease                 int64\n",
      "inIcuCumulative             float64\n",
      "inIcuCurrently              float64\n",
      "hospitalizedIncrease          int64\n",
      "hospitalizedCurrently       float64\n",
      "hospitalizedCumulative      float64\n",
      "negative                      int64\n",
      "negativeIncrease              int64\n",
      "onVentilatorCumulative      float64\n",
      "onVentilatorCurrently       float64\n",
      "positive                      int64\n",
      "positiveIncrease              int64\n",
      "recovered                   float64\n",
      "states                        int64\n",
      "totalTestResults              int64\n",
      "totalTestResultsIncrease      int64\n",
      "dtype: object\n"
     ]
    }
   ],
   "source": [
    "# Check for shape, null values and data types of the data\n",
    "print(\"Size/Shape of the dataset\",nat_data.shape)\n",
    "print(\"Checking for null values:\\n\",nat_data.isnull().sum())\n",
    "print(\"Checking Data-type:\",nat_data.dtypes)"
   ]
  },
  {
   "cell_type": "code",
   "execution_count": 7,
   "metadata": {},
   "outputs": [
    {
     "data": {
      "text/plain": [
       "Index(['Unnamed: 0', 'date', 'death', 'deathIncrease', 'inIcuCumulative',\n",
       "       'inIcuCurrently', 'hospitalizedIncrease', 'hospitalizedCurrently',\n",
       "       'hospitalizedCumulative', 'negative', 'negativeIncrease',\n",
       "       'onVentilatorCumulative', 'onVentilatorCurrently', 'positive',\n",
       "       'positiveIncrease', 'recovered', 'states', 'totalTestResults',\n",
       "       'totalTestResultsIncrease'],\n",
       "      dtype='object')"
      ]
     },
     "execution_count": 7,
     "metadata": {},
     "output_type": "execute_result"
    }
   ],
   "source": [
    "nat_data.columns"
   ]
  },
  {
   "cell_type": "code",
   "execution_count": 9,
   "metadata": {},
   "outputs": [],
   "source": [
    "#Drop columns that are not needed for the model\n",
    "nat_data.drop(['Unnamed: 0',\\\n",
    "       'deathIncrease','onVentilatorCumulative','states'],1,inplace = True)"
   ]
  },
  {
   "cell_type": "markdown",
   "metadata": {},
   "source": [
    "### Remove Month March from Data to Eliminate empty values"
   ]
  },
  {
   "cell_type": "code",
   "execution_count": 10,
   "metadata": {},
   "outputs": [
    {
     "data": {
      "text/html": [
       "<div>\n",
       "<style scoped>\n",
       "    .dataframe tbody tr th:only-of-type {\n",
       "        vertical-align: middle;\n",
       "    }\n",
       "\n",
       "    .dataframe tbody tr th {\n",
       "        vertical-align: top;\n",
       "    }\n",
       "\n",
       "    .dataframe thead th {\n",
       "        text-align: right;\n",
       "    }\n",
       "</style>\n",
       "<table border=\"1\" class=\"dataframe\">\n",
       "  <thead>\n",
       "    <tr style=\"text-align: right;\">\n",
       "      <th></th>\n",
       "      <th>date</th>\n",
       "      <th>death</th>\n",
       "      <th>inIcuCumulative</th>\n",
       "      <th>inIcuCurrently</th>\n",
       "      <th>hospitalizedIncrease</th>\n",
       "      <th>hospitalizedCurrently</th>\n",
       "      <th>hospitalizedCumulative</th>\n",
       "      <th>negative</th>\n",
       "      <th>negativeIncrease</th>\n",
       "      <th>onVentilatorCurrently</th>\n",
       "      <th>positive</th>\n",
       "      <th>positiveIncrease</th>\n",
       "      <th>recovered</th>\n",
       "      <th>totalTestResults</th>\n",
       "      <th>totalTestResultsIncrease</th>\n",
       "    </tr>\n",
       "  </thead>\n",
       "  <tbody>\n",
       "    <tr>\n",
       "      <th>6</th>\n",
       "      <td>2020-12-02</td>\n",
       "      <td>264522.0</td>\n",
       "      <td>31038.0</td>\n",
       "      <td>19680.0</td>\n",
       "      <td>5028</td>\n",
       "      <td>100322.0</td>\n",
       "      <td>570121.0</td>\n",
       "      <td>156787587</td>\n",
       "      <td>982032</td>\n",
       "      <td>6855.0</td>\n",
       "      <td>13711156</td>\n",
       "      <td>195796</td>\n",
       "      <td>5322128.0</td>\n",
       "      <td>196576482</td>\n",
       "      <td>1459202</td>\n",
       "    </tr>\n",
       "    <tr>\n",
       "      <th>7</th>\n",
       "      <td>2020-12-01</td>\n",
       "      <td>261789.0</td>\n",
       "      <td>30749.0</td>\n",
       "      <td>19295.0</td>\n",
       "      <td>5222</td>\n",
       "      <td>98777.0</td>\n",
       "      <td>565093.0</td>\n",
       "      <td>155805555</td>\n",
       "      <td>1941714</td>\n",
       "      <td>6649.0</td>\n",
       "      <td>13515360</td>\n",
       "      <td>176753</td>\n",
       "      <td>5226581.0</td>\n",
       "      <td>195117280</td>\n",
       "      <td>2340996</td>\n",
       "    </tr>\n",
       "    <tr>\n",
       "      <th>8</th>\n",
       "      <td>2020-11-30</td>\n",
       "      <td>259316.0</td>\n",
       "      <td>30469.0</td>\n",
       "      <td>18801.0</td>\n",
       "      <td>3394</td>\n",
       "      <td>96149.0</td>\n",
       "      <td>559871.0</td>\n",
       "      <td>153863841</td>\n",
       "      <td>1219808</td>\n",
       "      <td>6520.0</td>\n",
       "      <td>13338607</td>\n",
       "      <td>147587</td>\n",
       "      <td>5146643.0</td>\n",
       "      <td>192776284</td>\n",
       "      <td>1603253</td>\n",
       "    </tr>\n",
       "    <tr>\n",
       "      <th>9</th>\n",
       "      <td>2020-11-29</td>\n",
       "      <td>258180.0</td>\n",
       "      <td>30274.0</td>\n",
       "      <td>18437.0</td>\n",
       "      <td>2429</td>\n",
       "      <td>93357.0</td>\n",
       "      <td>556477.0</td>\n",
       "      <td>152644033</td>\n",
       "      <td>883148</td>\n",
       "      <td>6245.0</td>\n",
       "      <td>13191020</td>\n",
       "      <td>135242</td>\n",
       "      <td>5065148.0</td>\n",
       "      <td>191173031</td>\n",
       "      <td>1289970</td>\n",
       "    </tr>\n",
       "    <tr>\n",
       "      <th>10</th>\n",
       "      <td>2020-11-28</td>\n",
       "      <td>257377.0</td>\n",
       "      <td>30109.0</td>\n",
       "      <td>18249.0</td>\n",
       "      <td>3404</td>\n",
       "      <td>91762.0</td>\n",
       "      <td>554048.0</td>\n",
       "      <td>151760885</td>\n",
       "      <td>1276935</td>\n",
       "      <td>6148.0</td>\n",
       "      <td>13055778</td>\n",
       "      <td>154522</td>\n",
       "      <td>5024447.0</td>\n",
       "      <td>189883061</td>\n",
       "      <td>1709566</td>\n",
       "    </tr>\n",
       "    <tr>\n",
       "      <th>...</th>\n",
       "      <td>...</td>\n",
       "      <td>...</td>\n",
       "      <td>...</td>\n",
       "      <td>...</td>\n",
       "      <td>...</td>\n",
       "      <td>...</td>\n",
       "      <td>...</td>\n",
       "      <td>...</td>\n",
       "      <td>...</td>\n",
       "      <td>...</td>\n",
       "      <td>...</td>\n",
       "      <td>...</td>\n",
       "      <td>...</td>\n",
       "      <td>...</td>\n",
       "      <td>...</td>\n",
       "    </tr>\n",
       "    <tr>\n",
       "      <th>246</th>\n",
       "      <td>2020-04-06</td>\n",
       "      <td>11932.0</td>\n",
       "      <td>663.0</td>\n",
       "      <td>7079.0</td>\n",
       "      <td>2943</td>\n",
       "      <td>36159.0</td>\n",
       "      <td>48623.0</td>\n",
       "      <td>1595189</td>\n",
       "      <td>121910</td>\n",
       "      <td>2961.0</td>\n",
       "      <td>370872</td>\n",
       "      <td>28409</td>\n",
       "      <td>16557.0</td>\n",
       "      <td>2022867</td>\n",
       "      <td>151277</td>\n",
       "    </tr>\n",
       "    <tr>\n",
       "      <th>247</th>\n",
       "      <td>2020-04-05</td>\n",
       "      <td>10619.0</td>\n",
       "      <td>609.0</td>\n",
       "      <td>5811.0</td>\n",
       "      <td>3937</td>\n",
       "      <td>32180.0</td>\n",
       "      <td>45680.0</td>\n",
       "      <td>1473279</td>\n",
       "      <td>94604</td>\n",
       "      <td>652.0</td>\n",
       "      <td>342463</td>\n",
       "      <td>25655</td>\n",
       "      <td>14589.0</td>\n",
       "      <td>1871590</td>\n",
       "      <td>122226</td>\n",
       "    </tr>\n",
       "    <tr>\n",
       "      <th>248</th>\n",
       "      <td>2020-04-04</td>\n",
       "      <td>9280.0</td>\n",
       "      <td>403.0</td>\n",
       "      <td>5500.0</td>\n",
       "      <td>5012</td>\n",
       "      <td>30268.0</td>\n",
       "      <td>41743.0</td>\n",
       "      <td>1378675</td>\n",
       "      <td>195398</td>\n",
       "      <td>656.0</td>\n",
       "      <td>316808</td>\n",
       "      <td>32885</td>\n",
       "      <td>12844.0</td>\n",
       "      <td>1749364</td>\n",
       "      <td>228244</td>\n",
       "    </tr>\n",
       "    <tr>\n",
       "      <th>249</th>\n",
       "      <td>2020-04-03</td>\n",
       "      <td>7799.0</td>\n",
       "      <td>335.0</td>\n",
       "      <td>4928.0</td>\n",
       "      <td>4603</td>\n",
       "      <td>25777.0</td>\n",
       "      <td>36731.0</td>\n",
       "      <td>1183277</td>\n",
       "      <td>100552</td>\n",
       "      <td>623.0</td>\n",
       "      <td>283923</td>\n",
       "      <td>31838</td>\n",
       "      <td>10861.0</td>\n",
       "      <td>1521120</td>\n",
       "      <td>135375</td>\n",
       "    </tr>\n",
       "    <tr>\n",
       "      <th>250</th>\n",
       "      <td>2020-04-02</td>\n",
       "      <td>6514.0</td>\n",
       "      <td>305.0</td>\n",
       "      <td>4513.0</td>\n",
       "      <td>4198</td>\n",
       "      <td>22997.0</td>\n",
       "      <td>32128.0</td>\n",
       "      <td>1082725</td>\n",
       "      <td>93116</td>\n",
       "      <td>574.0</td>\n",
       "      <td>252085</td>\n",
       "      <td>28045</td>\n",
       "      <td>8586.0</td>\n",
       "      <td>1385745</td>\n",
       "      <td>122911</td>\n",
       "    </tr>\n",
       "  </tbody>\n",
       "</table>\n",
       "<p>245 rows × 15 columns</p>\n",
       "</div>"
      ],
      "text/plain": [
       "           date     death  inIcuCumulative  inIcuCurrently  \\\n",
       "6    2020-12-02  264522.0          31038.0         19680.0   \n",
       "7    2020-12-01  261789.0          30749.0         19295.0   \n",
       "8    2020-11-30  259316.0          30469.0         18801.0   \n",
       "9    2020-11-29  258180.0          30274.0         18437.0   \n",
       "10   2020-11-28  257377.0          30109.0         18249.0   \n",
       "..          ...       ...              ...             ...   \n",
       "246  2020-04-06   11932.0            663.0          7079.0   \n",
       "247  2020-04-05   10619.0            609.0          5811.0   \n",
       "248  2020-04-04    9280.0            403.0          5500.0   \n",
       "249  2020-04-03    7799.0            335.0          4928.0   \n",
       "250  2020-04-02    6514.0            305.0          4513.0   \n",
       "\n",
       "     hospitalizedIncrease  hospitalizedCurrently  hospitalizedCumulative  \\\n",
       "6                    5028               100322.0                570121.0   \n",
       "7                    5222                98777.0                565093.0   \n",
       "8                    3394                96149.0                559871.0   \n",
       "9                    2429                93357.0                556477.0   \n",
       "10                   3404                91762.0                554048.0   \n",
       "..                    ...                    ...                     ...   \n",
       "246                  2943                36159.0                 48623.0   \n",
       "247                  3937                32180.0                 45680.0   \n",
       "248                  5012                30268.0                 41743.0   \n",
       "249                  4603                25777.0                 36731.0   \n",
       "250                  4198                22997.0                 32128.0   \n",
       "\n",
       "      negative  negativeIncrease  onVentilatorCurrently  positive  \\\n",
       "6    156787587            982032                 6855.0  13711156   \n",
       "7    155805555           1941714                 6649.0  13515360   \n",
       "8    153863841           1219808                 6520.0  13338607   \n",
       "9    152644033            883148                 6245.0  13191020   \n",
       "10   151760885           1276935                 6148.0  13055778   \n",
       "..         ...               ...                    ...       ...   \n",
       "246    1595189            121910                 2961.0    370872   \n",
       "247    1473279             94604                  652.0    342463   \n",
       "248    1378675            195398                  656.0    316808   \n",
       "249    1183277            100552                  623.0    283923   \n",
       "250    1082725             93116                  574.0    252085   \n",
       "\n",
       "     positiveIncrease  recovered  totalTestResults  totalTestResultsIncrease  \n",
       "6              195796  5322128.0         196576482                   1459202  \n",
       "7              176753  5226581.0         195117280                   2340996  \n",
       "8              147587  5146643.0         192776284                   1603253  \n",
       "9              135242  5065148.0         191173031                   1289970  \n",
       "10             154522  5024447.0         189883061                   1709566  \n",
       "..                ...        ...               ...                       ...  \n",
       "246             28409    16557.0           2022867                    151277  \n",
       "247             25655    14589.0           1871590                    122226  \n",
       "248             32885    12844.0           1749364                    228244  \n",
       "249             31838    10861.0           1521120                    135375  \n",
       "250             28045     8586.0           1385745                    122911  \n",
       "\n",
       "[245 rows x 15 columns]"
      ]
     },
     "execution_count": 10,
     "metadata": {},
     "output_type": "execute_result"
    }
   ],
   "source": [
    "# Cut the data by date - start date April end date December\n",
    "start_date = '2020-04-01'\n",
    "end_date = '2020-12-02'\n",
    "mask = (nat_data['date'] > start_date) & (nat_data['date'] <= end_date)\n",
    "natus  = nat_data.loc[mask]\n",
    "natus"
   ]
  },
  {
   "cell_type": "code",
   "execution_count": 11,
   "metadata": {},
   "outputs": [
    {
     "data": {
      "text/html": [
       "<div>\n",
       "<style scoped>\n",
       "    .dataframe tbody tr th:only-of-type {\n",
       "        vertical-align: middle;\n",
       "    }\n",
       "\n",
       "    .dataframe tbody tr th {\n",
       "        vertical-align: top;\n",
       "    }\n",
       "\n",
       "    .dataframe thead th {\n",
       "        text-align: right;\n",
       "    }\n",
       "</style>\n",
       "<table border=\"1\" class=\"dataframe\">\n",
       "  <thead>\n",
       "    <tr style=\"text-align: right;\">\n",
       "      <th></th>\n",
       "      <th>date</th>\n",
       "      <th>death</th>\n",
       "      <th>inIcuCumulative</th>\n",
       "      <th>inIcuCurrently</th>\n",
       "      <th>hospitalizedIncrease</th>\n",
       "      <th>hospitalizedCurrently</th>\n",
       "      <th>hospitalizedCumulative</th>\n",
       "      <th>negative</th>\n",
       "      <th>negativeIncrease</th>\n",
       "      <th>onVentilatorCurrently</th>\n",
       "      <th>positive</th>\n",
       "      <th>positiveIncrease</th>\n",
       "      <th>recovered</th>\n",
       "      <th>totalTestResults</th>\n",
       "      <th>totalTestResultsIncrease</th>\n",
       "    </tr>\n",
       "  </thead>\n",
       "  <tbody>\n",
       "    <tr>\n",
       "      <th>6</th>\n",
       "      <td>2020-12-02</td>\n",
       "      <td>264522.0</td>\n",
       "      <td>31038.0</td>\n",
       "      <td>19680.0</td>\n",
       "      <td>5028</td>\n",
       "      <td>100322.0</td>\n",
       "      <td>570121.0</td>\n",
       "      <td>156787587</td>\n",
       "      <td>982032</td>\n",
       "      <td>6855.0</td>\n",
       "      <td>13711156</td>\n",
       "      <td>195796</td>\n",
       "      <td>5322128.0</td>\n",
       "      <td>196576482</td>\n",
       "      <td>1459202</td>\n",
       "    </tr>\n",
       "    <tr>\n",
       "      <th>7</th>\n",
       "      <td>2020-12-01</td>\n",
       "      <td>261789.0</td>\n",
       "      <td>30749.0</td>\n",
       "      <td>19295.0</td>\n",
       "      <td>5222</td>\n",
       "      <td>98777.0</td>\n",
       "      <td>565093.0</td>\n",
       "      <td>155805555</td>\n",
       "      <td>1941714</td>\n",
       "      <td>6649.0</td>\n",
       "      <td>13515360</td>\n",
       "      <td>176753</td>\n",
       "      <td>5226581.0</td>\n",
       "      <td>195117280</td>\n",
       "      <td>2340996</td>\n",
       "    </tr>\n",
       "    <tr>\n",
       "      <th>8</th>\n",
       "      <td>2020-11-30</td>\n",
       "      <td>259316.0</td>\n",
       "      <td>30469.0</td>\n",
       "      <td>18801.0</td>\n",
       "      <td>3394</td>\n",
       "      <td>96149.0</td>\n",
       "      <td>559871.0</td>\n",
       "      <td>153863841</td>\n",
       "      <td>1219808</td>\n",
       "      <td>6520.0</td>\n",
       "      <td>13338607</td>\n",
       "      <td>147587</td>\n",
       "      <td>5146643.0</td>\n",
       "      <td>192776284</td>\n",
       "      <td>1603253</td>\n",
       "    </tr>\n",
       "    <tr>\n",
       "      <th>9</th>\n",
       "      <td>2020-11-29</td>\n",
       "      <td>258180.0</td>\n",
       "      <td>30274.0</td>\n",
       "      <td>18437.0</td>\n",
       "      <td>2429</td>\n",
       "      <td>93357.0</td>\n",
       "      <td>556477.0</td>\n",
       "      <td>152644033</td>\n",
       "      <td>883148</td>\n",
       "      <td>6245.0</td>\n",
       "      <td>13191020</td>\n",
       "      <td>135242</td>\n",
       "      <td>5065148.0</td>\n",
       "      <td>191173031</td>\n",
       "      <td>1289970</td>\n",
       "    </tr>\n",
       "    <tr>\n",
       "      <th>10</th>\n",
       "      <td>2020-11-28</td>\n",
       "      <td>257377.0</td>\n",
       "      <td>30109.0</td>\n",
       "      <td>18249.0</td>\n",
       "      <td>3404</td>\n",
       "      <td>91762.0</td>\n",
       "      <td>554048.0</td>\n",
       "      <td>151760885</td>\n",
       "      <td>1276935</td>\n",
       "      <td>6148.0</td>\n",
       "      <td>13055778</td>\n",
       "      <td>154522</td>\n",
       "      <td>5024447.0</td>\n",
       "      <td>189883061</td>\n",
       "      <td>1709566</td>\n",
       "    </tr>\n",
       "  </tbody>\n",
       "</table>\n",
       "</div>"
      ],
      "text/plain": [
       "          date     death  inIcuCumulative  inIcuCurrently  \\\n",
       "6   2020-12-02  264522.0          31038.0         19680.0   \n",
       "7   2020-12-01  261789.0          30749.0         19295.0   \n",
       "8   2020-11-30  259316.0          30469.0         18801.0   \n",
       "9   2020-11-29  258180.0          30274.0         18437.0   \n",
       "10  2020-11-28  257377.0          30109.0         18249.0   \n",
       "\n",
       "    hospitalizedIncrease  hospitalizedCurrently  hospitalizedCumulative  \\\n",
       "6                   5028               100322.0                570121.0   \n",
       "7                   5222                98777.0                565093.0   \n",
       "8                   3394                96149.0                559871.0   \n",
       "9                   2429                93357.0                556477.0   \n",
       "10                  3404                91762.0                554048.0   \n",
       "\n",
       "     negative  negativeIncrease  onVentilatorCurrently  positive  \\\n",
       "6   156787587            982032                 6855.0  13711156   \n",
       "7   155805555           1941714                 6649.0  13515360   \n",
       "8   153863841           1219808                 6520.0  13338607   \n",
       "9   152644033            883148                 6245.0  13191020   \n",
       "10  151760885           1276935                 6148.0  13055778   \n",
       "\n",
       "    positiveIncrease  recovered  totalTestResults  totalTestResultsIncrease  \n",
       "6             195796  5322128.0         196576482                   1459202  \n",
       "7             176753  5226581.0         195117280                   2340996  \n",
       "8             147587  5146643.0         192776284                   1603253  \n",
       "9             135242  5065148.0         191173031                   1289970  \n",
       "10            154522  5024447.0         189883061                   1709566  "
      ]
     },
     "execution_count": 11,
     "metadata": {},
     "output_type": "execute_result"
    }
   ],
   "source": [
    "nat_us = natus.fillna(0)\n",
    "nat_us.head()"
   ]
  },
  {
   "cell_type": "code",
   "execution_count": 12,
   "metadata": {},
   "outputs": [
    {
     "data": {
      "text/html": [
       "<div>\n",
       "<style scoped>\n",
       "    .dataframe tbody tr th:only-of-type {\n",
       "        vertical-align: middle;\n",
       "    }\n",
       "\n",
       "    .dataframe tbody tr th {\n",
       "        vertical-align: top;\n",
       "    }\n",
       "\n",
       "    .dataframe thead th {\n",
       "        text-align: right;\n",
       "    }\n",
       "</style>\n",
       "<table border=\"1\" class=\"dataframe\">\n",
       "  <thead>\n",
       "    <tr style=\"text-align: right;\">\n",
       "      <th></th>\n",
       "      <th>date</th>\n",
       "      <th>death</th>\n",
       "      <th>inIcuCumulative</th>\n",
       "      <th>inIcuCurrently</th>\n",
       "      <th>hospitalizedIncrease</th>\n",
       "      <th>hospitalizedCurrently</th>\n",
       "      <th>hospitalizedCumulative</th>\n",
       "      <th>negative</th>\n",
       "      <th>negativeIncrease</th>\n",
       "      <th>onVentilatorCurrently</th>\n",
       "      <th>positive</th>\n",
       "      <th>positiveIncrease</th>\n",
       "      <th>recovered</th>\n",
       "      <th>totalTestResults</th>\n",
       "      <th>totalTestResultsIncrease</th>\n",
       "    </tr>\n",
       "  </thead>\n",
       "  <tbody>\n",
       "    <tr>\n",
       "      <th>250</th>\n",
       "      <td>2020-04-02</td>\n",
       "      <td>6514.0</td>\n",
       "      <td>305.0</td>\n",
       "      <td>4513.0</td>\n",
       "      <td>4198</td>\n",
       "      <td>22997.0</td>\n",
       "      <td>32128.0</td>\n",
       "      <td>1082725</td>\n",
       "      <td>93116</td>\n",
       "      <td>574.0</td>\n",
       "      <td>252085</td>\n",
       "      <td>28045</td>\n",
       "      <td>8586.0</td>\n",
       "      <td>1385745</td>\n",
       "      <td>122911</td>\n",
       "    </tr>\n",
       "    <tr>\n",
       "      <th>249</th>\n",
       "      <td>2020-04-03</td>\n",
       "      <td>7799.0</td>\n",
       "      <td>335.0</td>\n",
       "      <td>4928.0</td>\n",
       "      <td>4603</td>\n",
       "      <td>25777.0</td>\n",
       "      <td>36731.0</td>\n",
       "      <td>1183277</td>\n",
       "      <td>100552</td>\n",
       "      <td>623.0</td>\n",
       "      <td>283923</td>\n",
       "      <td>31838</td>\n",
       "      <td>10861.0</td>\n",
       "      <td>1521120</td>\n",
       "      <td>135375</td>\n",
       "    </tr>\n",
       "    <tr>\n",
       "      <th>248</th>\n",
       "      <td>2020-04-04</td>\n",
       "      <td>9280.0</td>\n",
       "      <td>403.0</td>\n",
       "      <td>5500.0</td>\n",
       "      <td>5012</td>\n",
       "      <td>30268.0</td>\n",
       "      <td>41743.0</td>\n",
       "      <td>1378675</td>\n",
       "      <td>195398</td>\n",
       "      <td>656.0</td>\n",
       "      <td>316808</td>\n",
       "      <td>32885</td>\n",
       "      <td>12844.0</td>\n",
       "      <td>1749364</td>\n",
       "      <td>228244</td>\n",
       "    </tr>\n",
       "    <tr>\n",
       "      <th>247</th>\n",
       "      <td>2020-04-05</td>\n",
       "      <td>10619.0</td>\n",
       "      <td>609.0</td>\n",
       "      <td>5811.0</td>\n",
       "      <td>3937</td>\n",
       "      <td>32180.0</td>\n",
       "      <td>45680.0</td>\n",
       "      <td>1473279</td>\n",
       "      <td>94604</td>\n",
       "      <td>652.0</td>\n",
       "      <td>342463</td>\n",
       "      <td>25655</td>\n",
       "      <td>14589.0</td>\n",
       "      <td>1871590</td>\n",
       "      <td>122226</td>\n",
       "    </tr>\n",
       "    <tr>\n",
       "      <th>246</th>\n",
       "      <td>2020-04-06</td>\n",
       "      <td>11932.0</td>\n",
       "      <td>663.0</td>\n",
       "      <td>7079.0</td>\n",
       "      <td>2943</td>\n",
       "      <td>36159.0</td>\n",
       "      <td>48623.0</td>\n",
       "      <td>1595189</td>\n",
       "      <td>121910</td>\n",
       "      <td>2961.0</td>\n",
       "      <td>370872</td>\n",
       "      <td>28409</td>\n",
       "      <td>16557.0</td>\n",
       "      <td>2022867</td>\n",
       "      <td>151277</td>\n",
       "    </tr>\n",
       "  </tbody>\n",
       "</table>\n",
       "</div>"
      ],
      "text/plain": [
       "           date    death  inIcuCumulative  inIcuCurrently  \\\n",
       "250  2020-04-02   6514.0            305.0          4513.0   \n",
       "249  2020-04-03   7799.0            335.0          4928.0   \n",
       "248  2020-04-04   9280.0            403.0          5500.0   \n",
       "247  2020-04-05  10619.0            609.0          5811.0   \n",
       "246  2020-04-06  11932.0            663.0          7079.0   \n",
       "\n",
       "     hospitalizedIncrease  hospitalizedCurrently  hospitalizedCumulative  \\\n",
       "250                  4198                22997.0                 32128.0   \n",
       "249                  4603                25777.0                 36731.0   \n",
       "248                  5012                30268.0                 41743.0   \n",
       "247                  3937                32180.0                 45680.0   \n",
       "246                  2943                36159.0                 48623.0   \n",
       "\n",
       "     negative  negativeIncrease  onVentilatorCurrently  positive  \\\n",
       "250   1082725             93116                  574.0    252085   \n",
       "249   1183277            100552                  623.0    283923   \n",
       "248   1378675            195398                  656.0    316808   \n",
       "247   1473279             94604                  652.0    342463   \n",
       "246   1595189            121910                 2961.0    370872   \n",
       "\n",
       "     positiveIncrease  recovered  totalTestResults  totalTestResultsIncrease  \n",
       "250             28045     8586.0           1385745                    122911  \n",
       "249             31838    10861.0           1521120                    135375  \n",
       "248             32885    12844.0           1749364                    228244  \n",
       "247             25655    14589.0           1871590                    122226  \n",
       "246             28409    16557.0           2022867                    151277  "
      ]
     },
     "execution_count": 12,
     "metadata": {},
     "output_type": "execute_result"
    }
   ],
   "source": [
    "#Order the date \n",
    "nat_us = nat_us.sort_values(by = 'date', ascending = True)\n",
    "nat_us.head()"
   ]
  },
  {
   "cell_type": "code",
   "execution_count": 13,
   "metadata": {},
   "outputs": [
    {
     "data": {
      "text/plain": [
       "DatetimeIndex(['2020-04-02', '2020-04-03', '2020-04-04', '2020-04-05',\n",
       "               '2020-04-06', '2020-04-07', '2020-04-08', '2020-04-09',\n",
       "               '2020-04-10', '2020-04-11',\n",
       "               ...\n",
       "               '2020-11-23', '2020-11-24', '2020-11-25', '2020-11-26',\n",
       "               '2020-11-27', '2020-11-28', '2020-11-29', '2020-11-30',\n",
       "               '2020-12-01', '2020-12-02'],\n",
       "              dtype='datetime64[ns]', name='date', length=245, freq=None)"
      ]
     },
     "execution_count": 13,
     "metadata": {},
     "output_type": "execute_result"
    }
   ],
   "source": [
    "# convert date object to datetime\n",
    "con=nat_us['date']\n",
    "nat_us['date']=pd.to_datetime(nat_us['date'])\n",
    "nat_us.set_index('date', inplace=True)\n",
    "#check datatype of index\n",
    "nat_us.index"
   ]
  },
  {
   "cell_type": "code",
   "execution_count": 14,
   "metadata": {},
   "outputs": [
    {
     "data": {
      "text/plain": [
       "Index(['death', 'inIcuCumulative', 'inIcuCurrently', 'hospitalizedIncrease',\n",
       "       'hospitalizedCurrently', 'hospitalizedCumulative', 'negative',\n",
       "       'negativeIncrease', 'onVentilatorCurrently', 'positive',\n",
       "       'positiveIncrease', 'recovered', 'totalTestResults',\n",
       "       'totalTestResultsIncrease'],\n",
       "      dtype='object')"
      ]
     },
     "execution_count": 14,
     "metadata": {},
     "output_type": "execute_result"
    }
   ],
   "source": [
    "nat_us.columns"
   ]
  },
  {
   "cell_type": "code",
   "execution_count": 15,
   "metadata": {},
   "outputs": [
    {
     "data": {
      "text/html": [
       "<div>\n",
       "<style scoped>\n",
       "    .dataframe tbody tr th:only-of-type {\n",
       "        vertical-align: middle;\n",
       "    }\n",
       "\n",
       "    .dataframe tbody tr th {\n",
       "        vertical-align: top;\n",
       "    }\n",
       "\n",
       "    .dataframe thead th {\n",
       "        text-align: right;\n",
       "    }\n",
       "</style>\n",
       "<table border=\"1\" class=\"dataframe\">\n",
       "  <thead>\n",
       "    <tr style=\"text-align: right;\">\n",
       "      <th></th>\n",
       "      <th>death</th>\n",
       "      <th>inIcuCumulative</th>\n",
       "      <th>inIcuCurrently</th>\n",
       "      <th>hospitalizedIncrease</th>\n",
       "      <th>hospitalizedCurrently</th>\n",
       "      <th>hospitalizedCumulative</th>\n",
       "      <th>negative</th>\n",
       "      <th>negativeIncrease</th>\n",
       "      <th>onVentilatorCurrently</th>\n",
       "      <th>positive</th>\n",
       "      <th>positiveIncrease</th>\n",
       "      <th>recovered</th>\n",
       "      <th>totalTestResults</th>\n",
       "      <th>totalTestResultsIncrease</th>\n",
       "    </tr>\n",
       "    <tr>\n",
       "      <th>date</th>\n",
       "      <th></th>\n",
       "      <th></th>\n",
       "      <th></th>\n",
       "      <th></th>\n",
       "      <th></th>\n",
       "      <th></th>\n",
       "      <th></th>\n",
       "      <th></th>\n",
       "      <th></th>\n",
       "      <th></th>\n",
       "      <th></th>\n",
       "      <th></th>\n",
       "      <th></th>\n",
       "      <th></th>\n",
       "    </tr>\n",
       "  </thead>\n",
       "  <tbody>\n",
       "    <tr>\n",
       "      <th>2020-04-02</th>\n",
       "      <td>6514.0</td>\n",
       "      <td>305.0</td>\n",
       "      <td>4513.0</td>\n",
       "      <td>4198</td>\n",
       "      <td>22997.0</td>\n",
       "      <td>32128.0</td>\n",
       "      <td>1082725</td>\n",
       "      <td>93116</td>\n",
       "      <td>574.0</td>\n",
       "      <td>252085</td>\n",
       "      <td>28045</td>\n",
       "      <td>8586.0</td>\n",
       "      <td>1385745</td>\n",
       "      <td>122911</td>\n",
       "    </tr>\n",
       "    <tr>\n",
       "      <th>2020-04-03</th>\n",
       "      <td>7799.0</td>\n",
       "      <td>335.0</td>\n",
       "      <td>4928.0</td>\n",
       "      <td>4603</td>\n",
       "      <td>25777.0</td>\n",
       "      <td>36731.0</td>\n",
       "      <td>1183277</td>\n",
       "      <td>100552</td>\n",
       "      <td>623.0</td>\n",
       "      <td>283923</td>\n",
       "      <td>31838</td>\n",
       "      <td>10861.0</td>\n",
       "      <td>1521120</td>\n",
       "      <td>135375</td>\n",
       "    </tr>\n",
       "    <tr>\n",
       "      <th>2020-04-04</th>\n",
       "      <td>9280.0</td>\n",
       "      <td>403.0</td>\n",
       "      <td>5500.0</td>\n",
       "      <td>5012</td>\n",
       "      <td>30268.0</td>\n",
       "      <td>41743.0</td>\n",
       "      <td>1378675</td>\n",
       "      <td>195398</td>\n",
       "      <td>656.0</td>\n",
       "      <td>316808</td>\n",
       "      <td>32885</td>\n",
       "      <td>12844.0</td>\n",
       "      <td>1749364</td>\n",
       "      <td>228244</td>\n",
       "    </tr>\n",
       "    <tr>\n",
       "      <th>2020-04-05</th>\n",
       "      <td>10619.0</td>\n",
       "      <td>609.0</td>\n",
       "      <td>5811.0</td>\n",
       "      <td>3937</td>\n",
       "      <td>32180.0</td>\n",
       "      <td>45680.0</td>\n",
       "      <td>1473279</td>\n",
       "      <td>94604</td>\n",
       "      <td>652.0</td>\n",
       "      <td>342463</td>\n",
       "      <td>25655</td>\n",
       "      <td>14589.0</td>\n",
       "      <td>1871590</td>\n",
       "      <td>122226</td>\n",
       "    </tr>\n",
       "    <tr>\n",
       "      <th>2020-04-06</th>\n",
       "      <td>11932.0</td>\n",
       "      <td>663.0</td>\n",
       "      <td>7079.0</td>\n",
       "      <td>2943</td>\n",
       "      <td>36159.0</td>\n",
       "      <td>48623.0</td>\n",
       "      <td>1595189</td>\n",
       "      <td>121910</td>\n",
       "      <td>2961.0</td>\n",
       "      <td>370872</td>\n",
       "      <td>28409</td>\n",
       "      <td>16557.0</td>\n",
       "      <td>2022867</td>\n",
       "      <td>151277</td>\n",
       "    </tr>\n",
       "    <tr>\n",
       "      <th>2020-04-07</th>\n",
       "      <td>13976.0</td>\n",
       "      <td>738.0</td>\n",
       "      <td>9978.0</td>\n",
       "      <td>2997</td>\n",
       "      <td>43849.0</td>\n",
       "      <td>51620.0</td>\n",
       "      <td>1717557</td>\n",
       "      <td>122368</td>\n",
       "      <td>4076.0</td>\n",
       "      <td>401573</td>\n",
       "      <td>30701</td>\n",
       "      <td>18481.0</td>\n",
       "      <td>2177578</td>\n",
       "      <td>154711</td>\n",
       "    </tr>\n",
       "    <tr>\n",
       "      <th>2020-04-08</th>\n",
       "      <td>15973.0</td>\n",
       "      <td>862.0</td>\n",
       "      <td>10337.0</td>\n",
       "      <td>4321</td>\n",
       "      <td>45515.0</td>\n",
       "      <td>55941.0</td>\n",
       "      <td>1836690</td>\n",
       "      <td>119133</td>\n",
       "      <td>4131.0</td>\n",
       "      <td>432490</td>\n",
       "      <td>30917</td>\n",
       "      <td>21132.0</td>\n",
       "      <td>2335944</td>\n",
       "      <td>158366</td>\n",
       "    </tr>\n",
       "    <tr>\n",
       "      <th>2020-04-09</th>\n",
       "      <td>18035.0</td>\n",
       "      <td>918.0</td>\n",
       "      <td>12450.0</td>\n",
       "      <td>3831</td>\n",
       "      <td>51313.0</td>\n",
       "      <td>59772.0</td>\n",
       "      <td>1976687</td>\n",
       "      <td>139997</td>\n",
       "      <td>5794.0</td>\n",
       "      <td>467580</td>\n",
       "      <td>35090</td>\n",
       "      <td>24835.0</td>\n",
       "      <td>2510349</td>\n",
       "      <td>174405</td>\n",
       "    </tr>\n",
       "    <tr>\n",
       "      <th>2020-04-10</th>\n",
       "      <td>20107.0</td>\n",
       "      <td>1179.0</td>\n",
       "      <td>12693.0</td>\n",
       "      <td>4909</td>\n",
       "      <td>53167.0</td>\n",
       "      <td>64681.0</td>\n",
       "      <td>2094899</td>\n",
       "      <td>118212</td>\n",
       "      <td>5937.0</td>\n",
       "      <td>501069</td>\n",
       "      <td>33489</td>\n",
       "      <td>29015.0</td>\n",
       "      <td>2664907</td>\n",
       "      <td>154558</td>\n",
       "    </tr>\n",
       "    <tr>\n",
       "      <th>2020-04-11</th>\n",
       "      <td>22186.0</td>\n",
       "      <td>1399.0</td>\n",
       "      <td>13285.0</td>\n",
       "      <td>3747</td>\n",
       "      <td>55557.0</td>\n",
       "      <td>68428.0</td>\n",
       "      <td>2205059</td>\n",
       "      <td>110160</td>\n",
       "      <td>5978.0</td>\n",
       "      <td>532174</td>\n",
       "      <td>31105</td>\n",
       "      <td>31567.0</td>\n",
       "      <td>2806318</td>\n",
       "      <td>141411</td>\n",
       "    </tr>\n",
       "  </tbody>\n",
       "</table>\n",
       "</div>"
      ],
      "text/plain": [
       "              death  inIcuCumulative  inIcuCurrently  hospitalizedIncrease  \\\n",
       "date                                                                         \n",
       "2020-04-02   6514.0            305.0          4513.0                  4198   \n",
       "2020-04-03   7799.0            335.0          4928.0                  4603   \n",
       "2020-04-04   9280.0            403.0          5500.0                  5012   \n",
       "2020-04-05  10619.0            609.0          5811.0                  3937   \n",
       "2020-04-06  11932.0            663.0          7079.0                  2943   \n",
       "2020-04-07  13976.0            738.0          9978.0                  2997   \n",
       "2020-04-08  15973.0            862.0         10337.0                  4321   \n",
       "2020-04-09  18035.0            918.0         12450.0                  3831   \n",
       "2020-04-10  20107.0           1179.0         12693.0                  4909   \n",
       "2020-04-11  22186.0           1399.0         13285.0                  3747   \n",
       "\n",
       "            hospitalizedCurrently  hospitalizedCumulative  negative  \\\n",
       "date                                                                  \n",
       "2020-04-02                22997.0                 32128.0   1082725   \n",
       "2020-04-03                25777.0                 36731.0   1183277   \n",
       "2020-04-04                30268.0                 41743.0   1378675   \n",
       "2020-04-05                32180.0                 45680.0   1473279   \n",
       "2020-04-06                36159.0                 48623.0   1595189   \n",
       "2020-04-07                43849.0                 51620.0   1717557   \n",
       "2020-04-08                45515.0                 55941.0   1836690   \n",
       "2020-04-09                51313.0                 59772.0   1976687   \n",
       "2020-04-10                53167.0                 64681.0   2094899   \n",
       "2020-04-11                55557.0                 68428.0   2205059   \n",
       "\n",
       "            negativeIncrease  onVentilatorCurrently  positive  \\\n",
       "date                                                            \n",
       "2020-04-02             93116                  574.0    252085   \n",
       "2020-04-03            100552                  623.0    283923   \n",
       "2020-04-04            195398                  656.0    316808   \n",
       "2020-04-05             94604                  652.0    342463   \n",
       "2020-04-06            121910                 2961.0    370872   \n",
       "2020-04-07            122368                 4076.0    401573   \n",
       "2020-04-08            119133                 4131.0    432490   \n",
       "2020-04-09            139997                 5794.0    467580   \n",
       "2020-04-10            118212                 5937.0    501069   \n",
       "2020-04-11            110160                 5978.0    532174   \n",
       "\n",
       "            positiveIncrease  recovered  totalTestResults  \\\n",
       "date                                                        \n",
       "2020-04-02             28045     8586.0           1385745   \n",
       "2020-04-03             31838    10861.0           1521120   \n",
       "2020-04-04             32885    12844.0           1749364   \n",
       "2020-04-05             25655    14589.0           1871590   \n",
       "2020-04-06             28409    16557.0           2022867   \n",
       "2020-04-07             30701    18481.0           2177578   \n",
       "2020-04-08             30917    21132.0           2335944   \n",
       "2020-04-09             35090    24835.0           2510349   \n",
       "2020-04-10             33489    29015.0           2664907   \n",
       "2020-04-11             31105    31567.0           2806318   \n",
       "\n",
       "            totalTestResultsIncrease  \n",
       "date                                  \n",
       "2020-04-02                    122911  \n",
       "2020-04-03                    135375  \n",
       "2020-04-04                    228244  \n",
       "2020-04-05                    122226  \n",
       "2020-04-06                    151277  \n",
       "2020-04-07                    154711  \n",
       "2020-04-08                    158366  \n",
       "2020-04-09                    174405  \n",
       "2020-04-10                    154558  \n",
       "2020-04-11                    141411  "
      ]
     },
     "execution_count": 15,
     "metadata": {},
     "output_type": "execute_result"
    }
   ],
   "source": [
    "#convert to time series:\n",
    "ts_dc = nat_us\n",
    "ts_dc.head(10)"
   ]
  },
  {
   "cell_type": "code",
   "execution_count": 16,
   "metadata": {},
   "outputs": [
    {
     "data": {
      "text/plain": [
       "date\n",
       "2020-04-02     6514.0\n",
       "2020-04-03     7799.0\n",
       "2020-04-04     9280.0\n",
       "2020-04-05    10619.0\n",
       "2020-04-06    11932.0\n",
       "Name: death, dtype: float64"
      ]
     },
     "execution_count": 16,
     "metadata": {},
     "output_type": "execute_result"
    }
   ],
   "source": [
    "ts = nat_us['death']\n",
    "ts.head()"
   ]
  },
  {
   "cell_type": "code",
   "execution_count": 17,
   "metadata": {},
   "outputs": [
    {
     "data": {
      "text/plain": [
       "249069.0"
      ]
     },
     "execution_count": 17,
     "metadata": {},
     "output_type": "execute_result"
    }
   ],
   "source": [
    "#indexing techniques for TS data. \n",
    "#Lets start by selecting a particular value in the Series object.\n",
    "ts['2020-11-23']"
   ]
  },
  {
   "cell_type": "code",
   "execution_count": 18,
   "metadata": {},
   "outputs": [
    {
     "data": {
      "text/plain": [
       "date\n",
       "2020-04-02      6514.0\n",
       "2020-04-03      7799.0\n",
       "2020-04-04      9280.0\n",
       "2020-04-05     10619.0\n",
       "2020-04-06     11932.0\n",
       "                ...   \n",
       "2020-11-28    257377.0\n",
       "2020-11-29    258180.0\n",
       "2020-11-30    259316.0\n",
       "2020-12-01    261789.0\n",
       "2020-12-02    264522.0\n",
       "Name: death, Length: 245, dtype: float64"
      ]
     },
     "execution_count": 18,
     "metadata": {},
     "output_type": "execute_result"
    }
   ],
   "source": [
    "#Specify the entire range:\n",
    "ts['2020-01-22':]"
   ]
  },
  {
   "cell_type": "code",
   "execution_count": 19,
   "metadata": {},
   "outputs": [
    {
     "data": {
      "text/plain": [
       "[<matplotlib.lines.Line2D at 0x7faeb646e090>]"
      ]
     },
     "execution_count": 19,
     "metadata": {},
     "output_type": "execute_result"
    },
    {
     "data": {
      "image/png": "[encoded data removed]",
      "text/plain": [
       "<Figure size 432x288 with 1 Axes>"
      ]
     },
     "metadata": {
      "needs_background": "light"
     },
     "output_type": "display_data"
    }
   ],
   "source": [
    "plt.ylabel('death')\n",
    "plt.xlabel('date')\n",
    "plt.plot(ts)"
   ]
  },
  {
   "cell_type": "markdown",
   "metadata": {},
   "source": [
    "##### It is clearly evident that there is an overall increasing trend in the data "
   ]
  },
  {
   "cell_type": "markdown",
   "metadata": {},
   "source": [
    "## Check Stationarity Time Series Data"
   ]
  },
  {
   "cell_type": "markdown",
   "metadata": {},
   "source": [
    "#### TS is said to be stationary if its statistical properties such as mean, variance remain constant over time\n",
    "- constant mean\n",
    "- constant variance\n",
    "- an autocovariance that does not depend on time."
   ]
  },
  {
   "cell_type": "code",
   "execution_count": 20,
   "metadata": {},
   "outputs": [],
   "source": [
    "from statsmodels.tsa.stattools import adfuller"
   ]
  },
  {
   "cell_type": "code",
   "execution_count": 21,
   "metadata": {},
   "outputs": [],
   "source": [
    "def test_stationarity(timeseries):\n",
    "    \n",
    "    #Determing rolling statistics\n",
    "    rolmean = pd.Series(timeseries).rolling(window=12).mean()\n",
    "    rolstd = pd.Series(timeseries).rolling(window=12).std()\n",
    "\n",
    "    #Plot rolling statistics:\n",
    "    orig = plt.plot(timeseries, color='blue',label='Original')\n",
    "    mean = plt.plot(rolmean, color='red', label='Rolling Mean')\n",
    "    std = plt.plot(rolstd, color='black', label = 'Rolling Std')\n",
    "    plt.legend(loc='best')\n",
    "    plt.title('Rolling Mean & Standard Deviation')\n",
    "    plt.show(block=False)\n",
    "    \n",
    "    #Perform Dickey-Fuller test:\n",
    "    print ('Results of Dickey-Fuller Test:')\n",
    "    dftest = adfuller(timeseries, autolag='AIC')\n",
    "    dfoutput = pd.Series(dftest[0:4], index=['Test Statistic','p-value','#Lags Used','Number of Observations Used'])\n",
    "    for key,value in dftest[4].items():\n",
    "        dfoutput['Critical Value (%s)'%key] = value\n",
    "    print(dfoutput)"
   ]
  },
  {
   "cell_type": "code",
   "execution_count": 22,
   "metadata": {},
   "outputs": [
    {
     "data": {
      "image/png": "[encoded data removed]",
      "text/plain": [
       "<Figure size 432x288 with 1 Axes>"
      ]
     },
     "metadata": {
      "needs_background": "light"
     },
     "output_type": "display_data"
    },
    {
     "name": "stdout",
     "output_type": "stream",
     "text": [
      "Results of Dickey-Fuller Test:\n",
      "Test Statistic                   1.963591\n",
      "p-value                          0.998624\n",
      "#Lags Used                      16.000000\n",
      "Number of Observations Used    228.000000\n",
      "Critical Value (1%)             -3.459361\n",
      "Critical Value (5%)             -2.874302\n",
      "Critical Value (10%)            -2.573571\n",
      "dtype: float64\n"
     ]
    }
   ],
   "source": [
    "test_stationarity(ts)"
   ]
  },
  {
   "cell_type": "markdown",
   "metadata": {},
   "source": [
    "### The TS is stationary?"
   ]
  },
  {
   "cell_type": "markdown",
   "metadata": {},
   "source": [
    "### This TS is not stationary:\n",
    "- mean is increasing even though the std is small.\n",
    "- Test stat is > critical value."
   ]
  },
  {
   "cell_type": "markdown",
   "metadata": {},
   "source": [
    "### How to make the Time Series Stationary\n",
    "-The underlying principle is to model or estimate the trend and seasonality in the series and remove those from the series to get a stationary series. Then statistical forecasting techniques can be implemented on this series. The final step would be to convert the forecasted values into the original scale by applying trend and seasonality constraints back."
   ]
  },
  {
   "cell_type": "code",
   "execution_count": 23,
   "metadata": {},
   "outputs": [
    {
     "data": {
      "text/plain": [
       "[<matplotlib.lines.Line2D at 0x7faeb6c2f550>]"
      ]
     },
     "execution_count": 23,
     "metadata": {},
     "output_type": "execute_result"
    },
    {
     "data": {
      "image/png": "[encoded data removed]",
      "text/plain": [
       "<Figure size 432x288 with 1 Axes>"
      ]
     },
     "metadata": {
      "needs_background": "light"
     },
     "output_type": "display_data"
    }
   ],
   "source": [
    "ts_log = np.log(ts)\n",
    "plt.plot(ts_log)"
   ]
  },
  {
   "cell_type": "markdown",
   "metadata": {},
   "source": [
    "## Moving Average"
   ]
  },
  {
   "cell_type": "code",
   "execution_count": 24,
   "metadata": {},
   "outputs": [
    {
     "data": {
      "text/plain": [
       "[<matplotlib.lines.Line2D at 0x7faeba649950>]"
      ]
     },
     "execution_count": 24,
     "metadata": {},
     "output_type": "execute_result"
    },
    {
     "data": {
      "image/png": "[encoded data removed]",
      "text/plain": [
       "<Figure size 432x288 with 1 Axes>"
      ]
     },
     "metadata": {
      "needs_background": "light"
     },
     "output_type": "display_data"
    }
   ],
   "source": [
    "moving_avg = pd.Series.rolling(ts_log,12).mean()\n",
    "plt.plot(ts_log)\n",
    "plt.plot(moving_avg, color='red')"
   ]
  },
  {
   "cell_type": "code",
   "execution_count": 25,
   "metadata": {},
   "outputs": [
    {
     "data": {
      "text/plain": [
       "date\n",
       "2020-04-02         NaN\n",
       "2020-04-03         NaN\n",
       "2020-04-04         NaN\n",
       "2020-04-05         NaN\n",
       "2020-04-06         NaN\n",
       "2020-04-07         NaN\n",
       "2020-04-08         NaN\n",
       "2020-04-09         NaN\n",
       "2020-04-10         NaN\n",
       "2020-04-11         NaN\n",
       "2020-04-12         NaN\n",
       "2020-04-13    0.588359\n",
       "Name: death, dtype: float64"
      ]
     },
     "execution_count": 25,
     "metadata": {},
     "output_type": "execute_result"
    }
   ],
   "source": [
    "ts_log_moving_avg_diff = ts_log - moving_avg\n",
    "ts_log_moving_avg_diff.head(12)"
   ]
  },
  {
   "cell_type": "markdown",
   "metadata": {},
   "source": [
    "#### The reason there are null values is because we take the average of first 12 so 11 values are null. We can also see that in the visual representation. Thus it is dropped for further analysis. Now let’s parse it to the function to check for stationarity."
   ]
  },
  {
   "cell_type": "code",
   "execution_count": 26,
   "metadata": {},
   "outputs": [],
   "source": [
    "ts_log_moving_avg_diff.dropna(inplace=True)"
   ]
  },
  {
   "cell_type": "code",
   "execution_count": 27,
   "metadata": {},
   "outputs": [
    {
     "data": {
      "text/plain": [
       "0"
      ]
     },
     "execution_count": 27,
     "metadata": {},
     "output_type": "execute_result"
    }
   ],
   "source": [
    "ts_log_moving_avg_diff.isnull().sum()"
   ]
  },
  {
   "cell_type": "code",
   "execution_count": 28,
   "metadata": {},
   "outputs": [
    {
     "data": {
      "image/png": "[encoded data removed]",
      "text/plain": [
       "<Figure size 432x288 with 1 Axes>"
      ]
     },
     "metadata": {
      "needs_background": "light"
     },
     "output_type": "display_data"
    },
    {
     "name": "stdout",
     "output_type": "stream",
     "text": [
      "Results of Dickey-Fuller Test:\n",
      "Test Statistic                -6.092385e+00\n",
      "p-value                        1.029066e-07\n",
      "#Lags Used                     1.500000e+01\n",
      "Number of Observations Used    2.180000e+02\n",
      "Critical Value (1%)           -3.460708e+00\n",
      "Critical Value (5%)           -2.874891e+00\n",
      "Critical Value (10%)          -2.573886e+00\n",
      "dtype: float64\n"
     ]
    }
   ],
   "source": [
    "test_stationarity(ts_log_moving_avg_diff)"
   ]
  },
  {
   "cell_type": "code",
   "execution_count": 29,
   "metadata": {},
   "outputs": [
    {
     "data": {
      "text/plain": [
       "[<matplotlib.lines.Line2D at 0x7faeba8d4350>]"
      ]
     },
     "execution_count": 29,
     "metadata": {},
     "output_type": "execute_result"
    },
    {
     "data": {
      "image/png": "[encoded data removed]",
      "text/plain": [
       "<Figure size 432x288 with 1 Axes>"
      ]
     },
     "metadata": {
      "needs_background": "light"
     },
     "output_type": "display_data"
    }
   ],
   "source": [
    "#the parameter ‘halflife’ is used to define the amount of exponential decay\n",
    "#halflife? Is this the number of month/years data?\n",
    "expwighted_avg = ts_log.ewm(halflife=12).mean()\n",
    "plt.plot(ts_log)\n",
    "plt.plot(expwighted_avg, color='red')"
   ]
  },
  {
   "cell_type": "code",
   "execution_count": 30,
   "metadata": {},
   "outputs": [],
   "source": [
    "ts_log_ewma_diff = ts_log - expwighted_avg"
   ]
  },
  {
   "cell_type": "code",
   "execution_count": 31,
   "metadata": {},
   "outputs": [
    {
     "data": {
      "text/plain": [
       "date\n",
       "2020-04-02    0.000000\n",
       "2020-04-03    0.087422\n",
       "2020-04-04    0.169115\n",
       "2020-04-05    0.221220\n",
       "2020-04-06    0.262218\n",
       "                ...   \n",
       "2020-11-28    0.087473\n",
       "2020-11-29    0.085504\n",
       "2020-11-30    0.084849\n",
       "2020-12-01    0.089046\n",
       "2020-12-02    0.093851\n",
       "Name: death, Length: 245, dtype: float64"
      ]
     },
     "execution_count": 31,
     "metadata": {},
     "output_type": "execute_result"
    }
   ],
   "source": [
    "ts_log_ewma_diff"
   ]
  },
  {
   "cell_type": "code",
   "execution_count": 32,
   "metadata": {},
   "outputs": [
    {
     "data": {
      "text/plain": [
       "date\n",
       "2020-04-02    0.000000\n",
       "2020-04-03    0.087422\n",
       "2020-04-04    0.169115\n",
       "2020-04-05    0.221220\n",
       "2020-04-06    0.262218\n",
       "                ...   \n",
       "2020-11-28    0.087473\n",
       "2020-11-29    0.085504\n",
       "2020-11-30    0.084849\n",
       "2020-12-01    0.089046\n",
       "2020-12-02    0.093851\n",
       "Name: death, Length: 245, dtype: float64"
      ]
     },
     "execution_count": 32,
     "metadata": {},
     "output_type": "execute_result"
    }
   ],
   "source": [
    "ts_log_ewma_diff.replace([np.inf, -np.inf], np.nan)"
   ]
  },
  {
   "cell_type": "code",
   "execution_count": 33,
   "metadata": {},
   "outputs": [
    {
     "data": {
      "text/plain": [
       "date\n",
       "2020-04-02    0.000000\n",
       "2020-04-03    0.087422\n",
       "2020-04-04    0.169115\n",
       "2020-04-05    0.221220\n",
       "2020-04-06    0.262218\n",
       "                ...   \n",
       "2020-11-28    0.087473\n",
       "2020-11-29    0.085504\n",
       "2020-11-30    0.084849\n",
       "2020-12-01    0.089046\n",
       "2020-12-02    0.093851\n",
       "Name: death, Length: 245, dtype: float64"
      ]
     },
     "execution_count": 33,
     "metadata": {},
     "output_type": "execute_result"
    }
   ],
   "source": [
    "ts_log_ewma_diff.fillna(0)"
   ]
  },
  {
   "cell_type": "code",
   "execution_count": 34,
   "metadata": {},
   "outputs": [
    {
     "data": {
      "image/png": "[encoded data removed]",
      "text/plain": [
       "<Figure size 432x288 with 1 Axes>"
      ]
     },
     "metadata": {
      "needs_background": "light"
     },
     "output_type": "display_data"
    },
    {
     "name": "stdout",
     "output_type": "stream",
     "text": [
      "Results of Dickey-Fuller Test:\n",
      "Test Statistic                  -3.256902\n",
      "p-value                          0.016918\n",
      "#Lags Used                      16.000000\n",
      "Number of Observations Used    228.000000\n",
      "Critical Value (1%)             -3.459361\n",
      "Critical Value (5%)             -2.874302\n",
      "Critical Value (10%)            -2.573571\n",
      "dtype: float64\n"
     ]
    }
   ],
   "source": [
    "test_stationarity(ts_log_ewma_diff)"
   ]
  },
  {
   "cell_type": "markdown",
   "metadata": {},
   "source": [
    "### Differencing\n",
    "-One of the most common methods of dealing with both trend and seasonality is differencing"
   ]
  },
  {
   "cell_type": "code",
   "execution_count": 35,
   "metadata": {},
   "outputs": [
    {
     "data": {
      "text/plain": [
       "[<matplotlib.lines.Line2D at 0x7faebaae3c50>]"
      ]
     },
     "execution_count": 35,
     "metadata": {},
     "output_type": "execute_result"
    },
    {
     "data": {
      "image/png": "[encoded data removed]",
      "text/plain": [
       "<Figure size 432x288 with 1 Axes>"
      ]
     },
     "metadata": {
      "needs_background": "light"
     },
     "output_type": "display_data"
    }
   ],
   "source": [
    "ts_log_diff = ts_log - ts_log.shift()\n",
    "plt.plot(ts_log_diff)"
   ]
  },
  {
   "cell_type": "code",
   "execution_count": 36,
   "metadata": {},
   "outputs": [
    {
     "data": {
      "image/png": "[encoded data removed]",
      "text/plain": [
       "<Figure size 432x288 with 1 Axes>"
      ]
     },
     "metadata": {
      "needs_background": "light"
     },
     "output_type": "display_data"
    },
    {
     "name": "stdout",
     "output_type": "stream",
     "text": [
      "Results of Dickey-Fuller Test:\n",
      "Test Statistic                  -3.699663\n",
      "p-value                          0.004118\n",
      "#Lags Used                      15.000000\n",
      "Number of Observations Used    228.000000\n",
      "Critical Value (1%)             -3.459361\n",
      "Critical Value (5%)             -2.874302\n",
      "Critical Value (10%)            -2.573571\n",
      "dtype: float64\n"
     ]
    }
   ],
   "source": [
    "ts_log_diff.dropna(inplace=True)\n",
    "test_stationarity(ts_log_diff)"
   ]
  },
  {
   "cell_type": "code",
   "execution_count": 37,
   "metadata": {},
   "outputs": [
    {
     "data": {
      "image/png": "[encoded data removed]",
      "text/plain": [
       "<Figure size 432x288 with 4 Axes>"
      ]
     },
     "metadata": {
      "needs_background": "light"
     },
     "output_type": "display_data"
    }
   ],
   "source": [
    "from statsmodels.tsa.seasonal import seasonal_decompose\n",
    "decomposition = seasonal_decompose(ts_log)\n",
    "\n",
    "trend = decomposition.trend\n",
    "seasonal = decomposition.seasonal\n",
    "residual = decomposition.resid\n",
    "\n",
    "plt.subplot(411)\n",
    "plt.plot(ts_log, label='Original')\n",
    "plt.legend(loc='best')\n",
    "plt.subplot(412)\n",
    "plt.plot(trend, label='Trend')\n",
    "plt.legend(loc='best')\n",
    "plt.subplot(413)\n",
    "plt.plot(seasonal,label='Seasonality')\n",
    "plt.legend(loc='best')\n",
    "plt.subplot(414)\n",
    "plt.plot(residual, label='Residuals')\n",
    "plt.legend(loc='best')\n",
    "plt.tight_layout()"
   ]
  },
  {
   "cell_type": "markdown",
   "metadata": {},
   "source": [
    "### Here we can see that the trend, seasonality are separated out from data and we can model the residuals."
   ]
  },
  {
   "cell_type": "code",
   "execution_count": 38,
   "metadata": {},
   "outputs": [
    {
     "data": {
      "image/png": "[encoded data removed]",
      "text/plain": [
       "<Figure size 432x288 with 1 Axes>"
      ]
     },
     "metadata": {
      "needs_background": "light"
     },
     "output_type": "display_data"
    },
    {
     "name": "stdout",
     "output_type": "stream",
     "text": [
      "Results of Dickey-Fuller Test:\n",
      "Test Statistic                  -5.332383\n",
      "p-value                          0.000005\n",
      "#Lags Used                      14.000000\n",
      "Number of Observations Used    224.000000\n",
      "Critical Value (1%)             -3.459885\n",
      "Critical Value (5%)             -2.874531\n",
      "Critical Value (10%)            -2.573694\n",
      "dtype: float64\n"
     ]
    }
   ],
   "source": [
    "ts_log_decompose = residual\n",
    "ts_log_decompose.dropna(inplace=True)\n",
    "test_stationarity(ts_log_decompose)"
   ]
  },
  {
   "cell_type": "markdown",
   "metadata": {},
   "source": [
    "### Forecasting Time Series"
   ]
  },
  {
   "cell_type": "code",
   "execution_count": 39,
   "metadata": {},
   "outputs": [],
   "source": [
    "#ACF and PACF plots:\n",
    "from statsmodels.tsa.stattools import acf, pacf"
   ]
  },
  {
   "cell_type": "code",
   "execution_count": 40,
   "metadata": {},
   "outputs": [
    {
     "name": "stderr",
     "output_type": "stream",
     "text": [
      "/Applications/anaconda3/envs/PythonAdv/lib/python3.7/site-packages/statsmodels/tsa/stattools.py:669: FutureWarning: fft=True will become the default after the release of the 0.12 release of statsmodels. To suppress this warning, explicitly set fft=False.\n",
      "  FutureWarning,\n"
     ]
    }
   ],
   "source": [
    "lag_acf = acf(ts_log_diff, nlags=20)\n",
    "lag_pacf = pacf(ts_log_diff, nlags=20, method='ols')"
   ]
  },
  {
   "cell_type": "code",
   "execution_count": 41,
   "metadata": {},
   "outputs": [
    {
     "data": {
      "text/plain": [
       "Text(0.5, 1.0, 'Autocorrelation Function')"
      ]
     },
     "execution_count": 41,
     "metadata": {},
     "output_type": "execute_result"
    },
    {
     "data": {
      "image/png": "[encoded data removed]",
      "text/plain": [
       "<Figure size 432x288 with 1 Axes>"
      ]
     },
     "metadata": {
      "needs_background": "light"
     },
     "output_type": "display_data"
    }
   ],
   "source": [
    "#Plot ACF: \n",
    "plt.subplot(121) \n",
    "plt.plot(lag_acf)\n",
    "plt.axhline(y=0,linestyle='--',color='gray')\n",
    "plt.axhline(y=-1.96/np.sqrt(len(ts_log_diff)),linestyle='--',color='gray')\n",
    "plt.axhline(y=1.96/np.sqrt(len(ts_log_diff)),linestyle='--',color='gray')\n",
    "plt.title('Autocorrelation Function')"
   ]
  },
  {
   "cell_type": "code",
   "execution_count": 42,
   "metadata": {},
   "outputs": [
    {
     "data": {
      "image/png": "[encoded data removed]",
      "text/plain": [
       "<Figure size 432x288 with 1 Axes>"
      ]
     },
     "metadata": {
      "needs_background": "light"
     },
     "output_type": "display_data"
    }
   ],
   "source": [
    "#Plot PACF:\n",
    "plt.subplot(122)\n",
    "plt.plot(lag_pacf)\n",
    "plt.axhline(y=0,linestyle='--',color='gray')\n",
    "plt.axhline(y=-1.96/np.sqrt(len(ts_log_diff)),linestyle='--',color='gray')\n",
    "plt.axhline(y=1.96/np.sqrt(len(ts_log_diff)),linestyle='--',color='gray')\n",
    "plt.title('Partial Autocorrelation Function')\n",
    "plt.tight_layout()"
   ]
  },
  {
   "cell_type": "code",
   "execution_count": 43,
   "metadata": {},
   "outputs": [],
   "source": [
    "from statsmodels.tsa.arima_model import ARIMA"
   ]
  },
  {
   "cell_type": "code",
   "execution_count": 44,
   "metadata": {},
   "outputs": [
    {
     "name": "stderr",
     "output_type": "stream",
     "text": [
      "/Applications/anaconda3/envs/PythonAdv/lib/python3.7/site-packages/statsmodels/tsa/arima_model.py:472: FutureWarning: \n",
      "statsmodels.tsa.arima_model.ARMA and statsmodels.tsa.arima_model.ARIMA have\n",
      "been deprecated in favor of statsmodels.tsa.arima.model.ARIMA (note the .\n",
      "between arima and model) and\n",
      "statsmodels.tsa.SARIMAX. These will be removed after the 0.12 release.\n",
      "\n",
      "statsmodels.tsa.arima.model.ARIMA makes use of the statespace framework and\n",
      "is both well tested and maintained.\n",
      "\n",
      "To silence this warning and continue using ARMA and ARIMA until they are\n",
      "removed, use:\n",
      "\n",
      "import warnings\n",
      "warnings.filterwarnings('ignore', 'statsmodels.tsa.arima_model.ARMA',\n",
      "                        FutureWarning)\n",
      "warnings.filterwarnings('ignore', 'statsmodels.tsa.arima_model.ARIMA',\n",
      "                        FutureWarning)\n",
      "\n",
      "  warnings.warn(ARIMA_DEPRECATION_WARN, FutureWarning)\n",
      "/Applications/anaconda3/envs/PythonAdv/lib/python3.7/site-packages/statsmodels/tsa/base/tsa_model.py:527: ValueWarning: No frequency information was provided, so inferred frequency D will be used.\n",
      "  % freq, ValueWarning)\n",
      "/Applications/anaconda3/envs/PythonAdv/lib/python3.7/site-packages/statsmodels/tsa/base/tsa_model.py:527: ValueWarning: No frequency information was provided, so inferred frequency D will be used.\n",
      "  % freq, ValueWarning)\n"
     ]
    },
    {
     "data": {
      "text/plain": [
       "Text(0.5, 1.0, 'RSS: 0.0207')"
      ]
     },
     "execution_count": 44,
     "metadata": {},
     "output_type": "execute_result"
    },
    {
     "data": {
      "image/png": "[encoded data removed]",
      "text/plain": [
       "<Figure size 432x288 with 1 Axes>"
      ]
     },
     "metadata": {
      "needs_background": "light"
     },
     "output_type": "display_data"
    }
   ],
   "source": [
    "model = ARIMA(ts_log, order=(2, 1, 0))  \n",
    "results_AR = model.fit(disp=-1)  \n",
    "plt.plot(ts_log_diff)\n",
    "plt.plot(results_AR.fittedvalues, color='red')\n",
    "plt.title('RSS: %.4f'% sum((results_AR.fittedvalues-ts_log_diff)**2))"
   ]
  },
  {
   "cell_type": "markdown",
   "metadata": {},
   "source": [
    "## MA Model"
   ]
  },
  {
   "cell_type": "code",
   "execution_count": 45,
   "metadata": {},
   "outputs": [
    {
     "name": "stderr",
     "output_type": "stream",
     "text": [
      "/Applications/anaconda3/envs/PythonAdv/lib/python3.7/site-packages/statsmodels/tsa/base/tsa_model.py:527: ValueWarning: No frequency information was provided, so inferred frequency D will be used.\n",
      "  % freq, ValueWarning)\n",
      "/Applications/anaconda3/envs/PythonAdv/lib/python3.7/site-packages/statsmodels/tsa/base/tsa_model.py:527: ValueWarning: No frequency information was provided, so inferred frequency D will be used.\n",
      "  % freq, ValueWarning)\n"
     ]
    },
    {
     "data": {
      "text/plain": [
       "Text(0.5, 1.0, 'RSS: 0.0511')"
      ]
     },
     "execution_count": 45,
     "metadata": {},
     "output_type": "execute_result"
    },
    {
     "data": {
      "image/png": "[encoded data removed]",
      "text/plain": [
       "<Figure size 432x288 with 1 Axes>"
      ]
     },
     "metadata": {
      "needs_background": "light"
     },
     "output_type": "display_data"
    }
   ],
   "source": [
    "model = ARIMA(ts_log, order=(0, 1, 2))  \n",
    "results_MA = model.fit(disp=-1)  \n",
    "plt.plot(ts_log_diff)\n",
    "plt.plot(results_MA.fittedvalues, color='red')\n",
    "plt.title('RSS: %.4f'% sum((results_MA.fittedvalues-ts_log_diff)**2))"
   ]
  },
  {
   "cell_type": "code",
   "execution_count": 46,
   "metadata": {},
   "outputs": [
    {
     "name": "stdout",
     "output_type": "stream",
     "text": [
      "date\n",
      "2020-04-03    0.015567\n",
      "2020-04-04    0.131632\n",
      "2020-04-05    0.100676\n",
      "2020-04-06    0.076768\n",
      "2020-04-07    0.084984\n",
      "dtype: float64\n"
     ]
    }
   ],
   "source": [
    "predictions_ARIMA_diff = pd.Series(results_MA.fittedvalues, copy=True)\n",
    "print(predictions_ARIMA_diff.head())"
   ]
  },
  {
   "cell_type": "code",
   "execution_count": 47,
   "metadata": {},
   "outputs": [
    {
     "name": "stdout",
     "output_type": "stream",
     "text": [
      "date\n",
      "2020-04-03    0.015567\n",
      "2020-04-04    0.147200\n",
      "2020-04-05    0.247876\n",
      "2020-04-06    0.324644\n",
      "2020-04-07    0.409628\n",
      "dtype: float64\n"
     ]
    }
   ],
   "source": [
    "predictions_ARIMA_diff_cumsum = predictions_ARIMA_diff.cumsum()\n",
    "print(predictions_ARIMA_diff_cumsum.head())"
   ]
  }
 ],
 "metadata": {
  "colab": {
   "name": "Untitled14.ipynb",
   "provenance": []
  },
  "kernelspec": {
   "display_name": "Python 3",
   "language": "python",
   "name": "python3"
  },
  "language_info": {
   "codemirror_mode": {
    "name": "ipython",
    "version": 3
   },
   "file_extension": ".py",
   "mimetype": "text/x-python",
   "name": "python",
   "nbconvert_exporter": "python",
   "pygments_lexer": "ipython3",
   "version": "3.7.9"
  }
 },
 "nbformat": 4,
 "nbformat_minor": 1
}
