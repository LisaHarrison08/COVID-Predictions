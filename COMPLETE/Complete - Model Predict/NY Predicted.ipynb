{
 "cells": [
  {
   "cell_type": "markdown",
   "metadata": {},
   "source": [
    "### NY 20 Day Prediction Model\n",
    "- Filtered data to include dates September to December to reduce number of 0 values\n",
    "- NY is a larger dataset\n",
    "- Larger population\n",
    "- Higher number of reported cases"
   ]
  },
  {
   "cell_type": "code",
   "execution_count": 1,
   "metadata": {
    "colab": {
     "base_uri": "https://localhost:8080/",
     "height": 74
    },
    "colab_type": "code",
    "id": "OT5QpVPKLDUv",
    "outputId": "9ceac6b4-f24e-4cc5-df93-b85432e64970"
   },
   "outputs": [],
   "source": [
    "import pandas as pd\n",
    "import numpy as np \n",
    "from sklearn.linear_model import LinearRegression \n",
    "from sklearn.model_selection import train_test_split\n",
    "import seaborn as sns\n",
    "import matplotlib.pyplot as plt\n",
    "import datetime as dt\n",
    "from matplotlib import style\n",
    "from sklearn.metrics import mean_squared_error\n",
    "from sklearn.metrics import r2_score"
   ]
  },
  {
   "cell_type": "code",
   "execution_count": 2,
   "metadata": {
    "colab": {
     "base_uri": "https://localhost:8080/",
     "height": 198
    },
    "colab_type": "code",
    "id": "XoqKhNmjNJCe",
    "outputId": "22a28283-928c-4086-b3ef-ae1c2c3d8ae0"
   },
   "outputs": [
    {
     "data": {
      "text/html": [
       "<div>\n",
       "<style scoped>\n",
       "    .dataframe tbody tr th:only-of-type {\n",
       "        vertical-align: middle;\n",
       "    }\n",
       "\n",
       "    .dataframe tbody tr th {\n",
       "        vertical-align: top;\n",
       "    }\n",
       "\n",
       "    .dataframe thead th {\n",
       "        text-align: right;\n",
       "    }\n",
       "</style>\n",
       "<table border=\"1\" class=\"dataframe\">\n",
       "  <thead>\n",
       "    <tr style=\"text-align: right;\">\n",
       "      <th></th>\n",
       "      <th>date</th>\n",
       "      <th>state</th>\n",
       "      <th>dataQualityGrade</th>\n",
       "      <th>death</th>\n",
       "      <th>deathConfirmed</th>\n",
       "      <th>deathIncrease</th>\n",
       "      <th>deathProbable</th>\n",
       "      <th>hospitalized</th>\n",
       "      <th>hospitalizedCumulative</th>\n",
       "      <th>hospitalizedCurrently</th>\n",
       "      <th>...</th>\n",
       "      <th>totalTestResults</th>\n",
       "      <th>totalTestResultsIncrease</th>\n",
       "      <th>totalTestsAntibody</th>\n",
       "      <th>totalTestsAntigen</th>\n",
       "      <th>totalTestsPeopleAntibody</th>\n",
       "      <th>totalTestsPeopleAntigen</th>\n",
       "      <th>totalTestsPeopleViral</th>\n",
       "      <th>totalTestsPeopleViralIncrease</th>\n",
       "      <th>totalTestsViral</th>\n",
       "      <th>totalTestsViralIncrease</th>\n",
       "    </tr>\n",
       "  </thead>\n",
       "  <tbody>\n",
       "    <tr>\n",
       "      <th>0</th>\n",
       "      <td>2020-12-02</td>\n",
       "      <td>AK</td>\n",
       "      <td>A</td>\n",
       "      <td>122.0</td>\n",
       "      <td>122.0</td>\n",
       "      <td>0</td>\n",
       "      <td>NaN</td>\n",
       "      <td>768.0</td>\n",
       "      <td>768.0</td>\n",
       "      <td>164.0</td>\n",
       "      <td>...</td>\n",
       "      <td>1024643.0</td>\n",
       "      <td>6015</td>\n",
       "      <td>NaN</td>\n",
       "      <td>NaN</td>\n",
       "      <td>NaN</td>\n",
       "      <td>NaN</td>\n",
       "      <td>NaN</td>\n",
       "      <td>0</td>\n",
       "      <td>1024643.0</td>\n",
       "      <td>6015</td>\n",
       "    </tr>\n",
       "    <tr>\n",
       "      <th>1</th>\n",
       "      <td>2020-12-02</td>\n",
       "      <td>AL</td>\n",
       "      <td>A</td>\n",
       "      <td>3711.0</td>\n",
       "      <td>3326.0</td>\n",
       "      <td>73</td>\n",
       "      <td>385.0</td>\n",
       "      <td>25821.0</td>\n",
       "      <td>25821.0</td>\n",
       "      <td>1801.0</td>\n",
       "      <td>...</td>\n",
       "      <td>1603523.0</td>\n",
       "      <td>9681</td>\n",
       "      <td>NaN</td>\n",
       "      <td>NaN</td>\n",
       "      <td>73187.0</td>\n",
       "      <td>NaN</td>\n",
       "      <td>1603523.0</td>\n",
       "      <td>9681</td>\n",
       "      <td>NaN</td>\n",
       "      <td>0</td>\n",
       "    </tr>\n",
       "    <tr>\n",
       "      <th>2</th>\n",
       "      <td>2020-12-02</td>\n",
       "      <td>AR</td>\n",
       "      <td>A+</td>\n",
       "      <td>2522.0</td>\n",
       "      <td>2312.0</td>\n",
       "      <td>10</td>\n",
       "      <td>210.0</td>\n",
       "      <td>9110.0</td>\n",
       "      <td>9110.0</td>\n",
       "      <td>1088.0</td>\n",
       "      <td>...</td>\n",
       "      <td>1703266.0</td>\n",
       "      <td>11813</td>\n",
       "      <td>NaN</td>\n",
       "      <td>21856.0</td>\n",
       "      <td>NaN</td>\n",
       "      <td>144866.0</td>\n",
       "      <td>NaN</td>\n",
       "      <td>0</td>\n",
       "      <td>1703266.0</td>\n",
       "      <td>11813</td>\n",
       "    </tr>\n",
       "    <tr>\n",
       "      <th>3</th>\n",
       "      <td>2020-12-02</td>\n",
       "      <td>AS</td>\n",
       "      <td>D</td>\n",
       "      <td>0.0</td>\n",
       "      <td>NaN</td>\n",
       "      <td>0</td>\n",
       "      <td>NaN</td>\n",
       "      <td>NaN</td>\n",
       "      <td>NaN</td>\n",
       "      <td>NaN</td>\n",
       "      <td>...</td>\n",
       "      <td>1988.0</td>\n",
       "      <td>0</td>\n",
       "      <td>NaN</td>\n",
       "      <td>NaN</td>\n",
       "      <td>NaN</td>\n",
       "      <td>NaN</td>\n",
       "      <td>NaN</td>\n",
       "      <td>0</td>\n",
       "      <td>1988.0</td>\n",
       "      <td>0</td>\n",
       "    </tr>\n",
       "    <tr>\n",
       "      <th>4</th>\n",
       "      <td>2020-12-02</td>\n",
       "      <td>AZ</td>\n",
       "      <td>A+</td>\n",
       "      <td>6739.0</td>\n",
       "      <td>6237.0</td>\n",
       "      <td>52</td>\n",
       "      <td>502.0</td>\n",
       "      <td>26312.0</td>\n",
       "      <td>26312.0</td>\n",
       "      <td>2699.0</td>\n",
       "      <td>...</td>\n",
       "      <td>2288204.0</td>\n",
       "      <td>16290</td>\n",
       "      <td>365871.0</td>\n",
       "      <td>NaN</td>\n",
       "      <td>NaN</td>\n",
       "      <td>NaN</td>\n",
       "      <td>2288204.0</td>\n",
       "      <td>16290</td>\n",
       "      <td>NaN</td>\n",
       "      <td>0</td>\n",
       "    </tr>\n",
       "  </tbody>\n",
       "</table>\n",
       "<p>5 rows × 42 columns</p>\n",
       "</div>"
      ],
      "text/plain": [
       "         date state dataQualityGrade   death  deathConfirmed  deathIncrease  \\\n",
       "0  2020-12-02    AK                A   122.0           122.0              0   \n",
       "1  2020-12-02    AL                A  3711.0          3326.0             73   \n",
       "2  2020-12-02    AR               A+  2522.0          2312.0             10   \n",
       "3  2020-12-02    AS                D     0.0             NaN              0   \n",
       "4  2020-12-02    AZ               A+  6739.0          6237.0             52   \n",
       "\n",
       "   deathProbable  hospitalized  hospitalizedCumulative  hospitalizedCurrently  \\\n",
       "0            NaN         768.0                   768.0                  164.0   \n",
       "1          385.0       25821.0                 25821.0                 1801.0   \n",
       "2          210.0        9110.0                  9110.0                 1088.0   \n",
       "3            NaN           NaN                     NaN                    NaN   \n",
       "4          502.0       26312.0                 26312.0                 2699.0   \n",
       "\n",
       "   ...  totalTestResults  totalTestResultsIncrease  totalTestsAntibody  \\\n",
       "0  ...         1024643.0                      6015                 NaN   \n",
       "1  ...         1603523.0                      9681                 NaN   \n",
       "2  ...         1703266.0                     11813                 NaN   \n",
       "3  ...            1988.0                         0                 NaN   \n",
       "4  ...         2288204.0                     16290            365871.0   \n",
       "\n",
       "   totalTestsAntigen  totalTestsPeopleAntibody  totalTestsPeopleAntigen  \\\n",
       "0                NaN                       NaN                      NaN   \n",
       "1                NaN                   73187.0                      NaN   \n",
       "2            21856.0                       NaN                 144866.0   \n",
       "3                NaN                       NaN                      NaN   \n",
       "4                NaN                       NaN                      NaN   \n",
       "\n",
       "   totalTestsPeopleViral  totalTestsPeopleViralIncrease  totalTestsViral  \\\n",
       "0                    NaN                              0        1024643.0   \n",
       "1              1603523.0                           9681              NaN   \n",
       "2                    NaN                              0        1703266.0   \n",
       "3                    NaN                              0           1988.0   \n",
       "4              2288204.0                          16290              NaN   \n",
       "\n",
       "   totalTestsViralIncrease  \n",
       "0                     6015  \n",
       "1                        0  \n",
       "2                    11813  \n",
       "3                        0  \n",
       "4                        0  \n",
       "\n",
       "[5 rows x 42 columns]"
      ]
     },
     "execution_count": 2,
     "metadata": {},
     "output_type": "execute_result"
    }
   ],
   "source": [
    "covid = pd.read_csv(\"covid-states.csv\")\n",
    "covid.head()"
   ]
  },
  {
   "cell_type": "code",
   "execution_count": 3,
   "metadata": {},
   "outputs": [
    {
     "data": {
      "text/plain": [
       "Index(['date', 'state', 'dataQualityGrade', 'death', 'deathConfirmed',\n",
       "       'deathIncrease', 'deathProbable', 'hospitalized',\n",
       "       'hospitalizedCumulative', 'hospitalizedCurrently',\n",
       "       'hospitalizedIncrease', 'inIcuCumulative', 'inIcuCurrently', 'negative',\n",
       "       'negativeIncrease', 'negativeTestsAntibody',\n",
       "       'negativeTestsPeopleAntibody', 'negativeTestsViral',\n",
       "       'onVentilatorCumulative', 'onVentilatorCurrently', 'positive',\n",
       "       'positiveCasesViral', 'positiveIncrease', 'positiveScore',\n",
       "       'positiveTestsAntibody', 'positiveTestsAntigen',\n",
       "       'positiveTestsPeopleAntibody', 'positiveTestsPeopleAntigen',\n",
       "       'positiveTestsViral', 'recovered', 'totalTestEncountersViral',\n",
       "       'totalTestEncountersViralIncrease', 'totalTestResults',\n",
       "       'totalTestResultsIncrease', 'totalTestsAntibody', 'totalTestsAntigen',\n",
       "       'totalTestsPeopleAntibody', 'totalTestsPeopleAntigen',\n",
       "       'totalTestsPeopleViral', 'totalTestsPeopleViralIncrease',\n",
       "       'totalTestsViral', 'totalTestsViralIncrease'],\n",
       "      dtype='object')"
      ]
     },
     "execution_count": 3,
     "metadata": {},
     "output_type": "execute_result"
    }
   ],
   "source": [
    "covid.columns"
   ]
  },
  {
   "cell_type": "code",
   "execution_count": 4,
   "metadata": {},
   "outputs": [
    {
     "data": {
      "text/html": [
       "<div>\n",
       "<style scoped>\n",
       "    .dataframe tbody tr th:only-of-type {\n",
       "        vertical-align: middle;\n",
       "    }\n",
       "\n",
       "    .dataframe tbody tr th {\n",
       "        vertical-align: top;\n",
       "    }\n",
       "\n",
       "    .dataframe thead th {\n",
       "        text-align: right;\n",
       "    }\n",
       "</style>\n",
       "<table border=\"1\" class=\"dataframe\">\n",
       "  <thead>\n",
       "    <tr style=\"text-align: right;\">\n",
       "      <th></th>\n",
       "      <th>date</th>\n",
       "      <th>state</th>\n",
       "      <th>dataQualityGrade</th>\n",
       "      <th>death</th>\n",
       "      <th>deathConfirmed</th>\n",
       "      <th>deathIncrease</th>\n",
       "      <th>deathProbable</th>\n",
       "      <th>hospitalized</th>\n",
       "      <th>hospitalizedCumulative</th>\n",
       "      <th>hospitalizedCurrently</th>\n",
       "      <th>...</th>\n",
       "      <th>totalTestResults</th>\n",
       "      <th>totalTestResultsIncrease</th>\n",
       "      <th>totalTestsAntibody</th>\n",
       "      <th>totalTestsAntigen</th>\n",
       "      <th>totalTestsPeopleAntibody</th>\n",
       "      <th>totalTestsPeopleAntigen</th>\n",
       "      <th>totalTestsPeopleViral</th>\n",
       "      <th>totalTestsPeopleViralIncrease</th>\n",
       "      <th>totalTestsViral</th>\n",
       "      <th>totalTestsViralIncrease</th>\n",
       "    </tr>\n",
       "  </thead>\n",
       "  <tbody>\n",
       "    <tr>\n",
       "      <th>0</th>\n",
       "      <td>2020-12-02</td>\n",
       "      <td>AK</td>\n",
       "      <td>A</td>\n",
       "      <td>122.0</td>\n",
       "      <td>122.0</td>\n",
       "      <td>0</td>\n",
       "      <td>NaN</td>\n",
       "      <td>768.0</td>\n",
       "      <td>768.0</td>\n",
       "      <td>164.0</td>\n",
       "      <td>...</td>\n",
       "      <td>1024643.0</td>\n",
       "      <td>6015</td>\n",
       "      <td>NaN</td>\n",
       "      <td>NaN</td>\n",
       "      <td>NaN</td>\n",
       "      <td>NaN</td>\n",
       "      <td>NaN</td>\n",
       "      <td>0</td>\n",
       "      <td>1024643.0</td>\n",
       "      <td>6015</td>\n",
       "    </tr>\n",
       "    <tr>\n",
       "      <th>1</th>\n",
       "      <td>2020-12-02</td>\n",
       "      <td>AL</td>\n",
       "      <td>A</td>\n",
       "      <td>3711.0</td>\n",
       "      <td>3326.0</td>\n",
       "      <td>73</td>\n",
       "      <td>385.0</td>\n",
       "      <td>25821.0</td>\n",
       "      <td>25821.0</td>\n",
       "      <td>1801.0</td>\n",
       "      <td>...</td>\n",
       "      <td>1603523.0</td>\n",
       "      <td>9681</td>\n",
       "      <td>NaN</td>\n",
       "      <td>NaN</td>\n",
       "      <td>73187.0</td>\n",
       "      <td>NaN</td>\n",
       "      <td>1603523.0</td>\n",
       "      <td>9681</td>\n",
       "      <td>NaN</td>\n",
       "      <td>0</td>\n",
       "    </tr>\n",
       "    <tr>\n",
       "      <th>2</th>\n",
       "      <td>2020-12-02</td>\n",
       "      <td>AR</td>\n",
       "      <td>A+</td>\n",
       "      <td>2522.0</td>\n",
       "      <td>2312.0</td>\n",
       "      <td>10</td>\n",
       "      <td>210.0</td>\n",
       "      <td>9110.0</td>\n",
       "      <td>9110.0</td>\n",
       "      <td>1088.0</td>\n",
       "      <td>...</td>\n",
       "      <td>1703266.0</td>\n",
       "      <td>11813</td>\n",
       "      <td>NaN</td>\n",
       "      <td>21856.0</td>\n",
       "      <td>NaN</td>\n",
       "      <td>144866.0</td>\n",
       "      <td>NaN</td>\n",
       "      <td>0</td>\n",
       "      <td>1703266.0</td>\n",
       "      <td>11813</td>\n",
       "    </tr>\n",
       "    <tr>\n",
       "      <th>3</th>\n",
       "      <td>2020-12-02</td>\n",
       "      <td>AS</td>\n",
       "      <td>D</td>\n",
       "      <td>0.0</td>\n",
       "      <td>NaN</td>\n",
       "      <td>0</td>\n",
       "      <td>NaN</td>\n",
       "      <td>NaN</td>\n",
       "      <td>NaN</td>\n",
       "      <td>NaN</td>\n",
       "      <td>...</td>\n",
       "      <td>1988.0</td>\n",
       "      <td>0</td>\n",
       "      <td>NaN</td>\n",
       "      <td>NaN</td>\n",
       "      <td>NaN</td>\n",
       "      <td>NaN</td>\n",
       "      <td>NaN</td>\n",
       "      <td>0</td>\n",
       "      <td>1988.0</td>\n",
       "      <td>0</td>\n",
       "    </tr>\n",
       "    <tr>\n",
       "      <th>4</th>\n",
       "      <td>2020-12-02</td>\n",
       "      <td>AZ</td>\n",
       "      <td>A+</td>\n",
       "      <td>6739.0</td>\n",
       "      <td>6237.0</td>\n",
       "      <td>52</td>\n",
       "      <td>502.0</td>\n",
       "      <td>26312.0</td>\n",
       "      <td>26312.0</td>\n",
       "      <td>2699.0</td>\n",
       "      <td>...</td>\n",
       "      <td>2288204.0</td>\n",
       "      <td>16290</td>\n",
       "      <td>365871.0</td>\n",
       "      <td>NaN</td>\n",
       "      <td>NaN</td>\n",
       "      <td>NaN</td>\n",
       "      <td>2288204.0</td>\n",
       "      <td>16290</td>\n",
       "      <td>NaN</td>\n",
       "      <td>0</td>\n",
       "    </tr>\n",
       "    <tr>\n",
       "      <th>...</th>\n",
       "      <td>...</td>\n",
       "      <td>...</td>\n",
       "      <td>...</td>\n",
       "      <td>...</td>\n",
       "      <td>...</td>\n",
       "      <td>...</td>\n",
       "      <td>...</td>\n",
       "      <td>...</td>\n",
       "      <td>...</td>\n",
       "      <td>...</td>\n",
       "      <td>...</td>\n",
       "      <td>...</td>\n",
       "      <td>...</td>\n",
       "      <td>...</td>\n",
       "      <td>...</td>\n",
       "      <td>...</td>\n",
       "      <td>...</td>\n",
       "      <td>...</td>\n",
       "      <td>...</td>\n",
       "      <td>...</td>\n",
       "      <td>...</td>\n",
       "    </tr>\n",
       "    <tr>\n",
       "      <th>5147</th>\n",
       "      <td>2020-09-02</td>\n",
       "      <td>VT</td>\n",
       "      <td>B</td>\n",
       "      <td>58.0</td>\n",
       "      <td>58.0</td>\n",
       "      <td>0</td>\n",
       "      <td>NaN</td>\n",
       "      <td>NaN</td>\n",
       "      <td>NaN</td>\n",
       "      <td>2.0</td>\n",
       "      <td>...</td>\n",
       "      <td>189683.0</td>\n",
       "      <td>1148</td>\n",
       "      <td>NaN</td>\n",
       "      <td>NaN</td>\n",
       "      <td>NaN</td>\n",
       "      <td>NaN</td>\n",
       "      <td>139603.0</td>\n",
       "      <td>1754</td>\n",
       "      <td>189683.0</td>\n",
       "      <td>1148</td>\n",
       "    </tr>\n",
       "    <tr>\n",
       "      <th>5148</th>\n",
       "      <td>2020-09-02</td>\n",
       "      <td>WA</td>\n",
       "      <td>B</td>\n",
       "      <td>1931.0</td>\n",
       "      <td>1931.0</td>\n",
       "      <td>16</td>\n",
       "      <td>NaN</td>\n",
       "      <td>6787.0</td>\n",
       "      <td>6787.0</td>\n",
       "      <td>328.0</td>\n",
       "      <td>...</td>\n",
       "      <td>1480039.0</td>\n",
       "      <td>6794</td>\n",
       "      <td>NaN</td>\n",
       "      <td>NaN</td>\n",
       "      <td>NaN</td>\n",
       "      <td>NaN</td>\n",
       "      <td>NaN</td>\n",
       "      <td>0</td>\n",
       "      <td>NaN</td>\n",
       "      <td>0</td>\n",
       "    </tr>\n",
       "    <tr>\n",
       "      <th>5149</th>\n",
       "      <td>2020-09-02</td>\n",
       "      <td>WI</td>\n",
       "      <td>A+</td>\n",
       "      <td>1150.0</td>\n",
       "      <td>1142.0</td>\n",
       "      <td>11</td>\n",
       "      <td>8.0</td>\n",
       "      <td>5916.0</td>\n",
       "      <td>5916.0</td>\n",
       "      <td>287.0</td>\n",
       "      <td>...</td>\n",
       "      <td>1770546.0</td>\n",
       "      <td>17412</td>\n",
       "      <td>NaN</td>\n",
       "      <td>NaN</td>\n",
       "      <td>NaN</td>\n",
       "      <td>NaN</td>\n",
       "      <td>1268677.0</td>\n",
       "      <td>8376</td>\n",
       "      <td>NaN</td>\n",
       "      <td>0</td>\n",
       "    </tr>\n",
       "    <tr>\n",
       "      <th>5150</th>\n",
       "      <td>2020-09-02</td>\n",
       "      <td>WV</td>\n",
       "      <td>C</td>\n",
       "      <td>230.0</td>\n",
       "      <td>228.0</td>\n",
       "      <td>8</td>\n",
       "      <td>2.0</td>\n",
       "      <td>NaN</td>\n",
       "      <td>NaN</td>\n",
       "      <td>146.0</td>\n",
       "      <td>...</td>\n",
       "      <td>441585.0</td>\n",
       "      <td>3144</td>\n",
       "      <td>16019.0</td>\n",
       "      <td>NaN</td>\n",
       "      <td>NaN</td>\n",
       "      <td>NaN</td>\n",
       "      <td>NaN</td>\n",
       "      <td>0</td>\n",
       "      <td>441396.0</td>\n",
       "      <td>3141</td>\n",
       "    </tr>\n",
       "    <tr>\n",
       "      <th>5151</th>\n",
       "      <td>2020-09-02</td>\n",
       "      <td>WY</td>\n",
       "      <td>A</td>\n",
       "      <td>41.0</td>\n",
       "      <td>NaN</td>\n",
       "      <td>0</td>\n",
       "      <td>NaN</td>\n",
       "      <td>221.0</td>\n",
       "      <td>221.0</td>\n",
       "      <td>14.0</td>\n",
       "      <td>...</td>\n",
       "      <td>123880.0</td>\n",
       "      <td>1683</td>\n",
       "      <td>NaN</td>\n",
       "      <td>NaN</td>\n",
       "      <td>NaN</td>\n",
       "      <td>NaN</td>\n",
       "      <td>76210.0</td>\n",
       "      <td>227</td>\n",
       "      <td>123880.0</td>\n",
       "      <td>1683</td>\n",
       "    </tr>\n",
       "  </tbody>\n",
       "</table>\n",
       "<p>5152 rows × 42 columns</p>\n",
       "</div>"
      ],
      "text/plain": [
       "            date state dataQualityGrade   death  deathConfirmed  \\\n",
       "0     2020-12-02    AK                A   122.0           122.0   \n",
       "1     2020-12-02    AL                A  3711.0          3326.0   \n",
       "2     2020-12-02    AR               A+  2522.0          2312.0   \n",
       "3     2020-12-02    AS                D     0.0             NaN   \n",
       "4     2020-12-02    AZ               A+  6739.0          6237.0   \n",
       "...          ...   ...              ...     ...             ...   \n",
       "5147  2020-09-02    VT                B    58.0            58.0   \n",
       "5148  2020-09-02    WA                B  1931.0          1931.0   \n",
       "5149  2020-09-02    WI               A+  1150.0          1142.0   \n",
       "5150  2020-09-02    WV                C   230.0           228.0   \n",
       "5151  2020-09-02    WY                A    41.0             NaN   \n",
       "\n",
       "      deathIncrease  deathProbable  hospitalized  hospitalizedCumulative  \\\n",
       "0                 0            NaN         768.0                   768.0   \n",
       "1                73          385.0       25821.0                 25821.0   \n",
       "2                10          210.0        9110.0                  9110.0   \n",
       "3                 0            NaN           NaN                     NaN   \n",
       "4                52          502.0       26312.0                 26312.0   \n",
       "...             ...            ...           ...                     ...   \n",
       "5147              0            NaN           NaN                     NaN   \n",
       "5148             16            NaN        6787.0                  6787.0   \n",
       "5149             11            8.0        5916.0                  5916.0   \n",
       "5150              8            2.0           NaN                     NaN   \n",
       "5151              0            NaN         221.0                   221.0   \n",
       "\n",
       "      hospitalizedCurrently  ...  totalTestResults  totalTestResultsIncrease  \\\n",
       "0                     164.0  ...         1024643.0                      6015   \n",
       "1                    1801.0  ...         1603523.0                      9681   \n",
       "2                    1088.0  ...         1703266.0                     11813   \n",
       "3                       NaN  ...            1988.0                         0   \n",
       "4                    2699.0  ...         2288204.0                     16290   \n",
       "...                     ...  ...               ...                       ...   \n",
       "5147                    2.0  ...          189683.0                      1148   \n",
       "5148                  328.0  ...         1480039.0                      6794   \n",
       "5149                  287.0  ...         1770546.0                     17412   \n",
       "5150                  146.0  ...          441585.0                      3144   \n",
       "5151                   14.0  ...          123880.0                      1683   \n",
       "\n",
       "      totalTestsAntibody  totalTestsAntigen  totalTestsPeopleAntibody  \\\n",
       "0                    NaN                NaN                       NaN   \n",
       "1                    NaN                NaN                   73187.0   \n",
       "2                    NaN            21856.0                       NaN   \n",
       "3                    NaN                NaN                       NaN   \n",
       "4               365871.0                NaN                       NaN   \n",
       "...                  ...                ...                       ...   \n",
       "5147                 NaN                NaN                       NaN   \n",
       "5148                 NaN                NaN                       NaN   \n",
       "5149                 NaN                NaN                       NaN   \n",
       "5150             16019.0                NaN                       NaN   \n",
       "5151                 NaN                NaN                       NaN   \n",
       "\n",
       "      totalTestsPeopleAntigen  totalTestsPeopleViral  \\\n",
       "0                         NaN                    NaN   \n",
       "1                         NaN              1603523.0   \n",
       "2                    144866.0                    NaN   \n",
       "3                         NaN                    NaN   \n",
       "4                         NaN              2288204.0   \n",
       "...                       ...                    ...   \n",
       "5147                      NaN               139603.0   \n",
       "5148                      NaN                    NaN   \n",
       "5149                      NaN              1268677.0   \n",
       "5150                      NaN                    NaN   \n",
       "5151                      NaN                76210.0   \n",
       "\n",
       "      totalTestsPeopleViralIncrease  totalTestsViral  totalTestsViralIncrease  \n",
       "0                                 0        1024643.0                     6015  \n",
       "1                              9681              NaN                        0  \n",
       "2                                 0        1703266.0                    11813  \n",
       "3                                 0           1988.0                        0  \n",
       "4                             16290              NaN                        0  \n",
       "...                             ...              ...                      ...  \n",
       "5147                           1754         189683.0                     1148  \n",
       "5148                              0              NaN                        0  \n",
       "5149                           8376              NaN                        0  \n",
       "5150                              0         441396.0                     3141  \n",
       "5151                            227         123880.0                     1683  \n",
       "\n",
       "[5152 rows x 42 columns]"
      ]
     },
     "execution_count": 4,
     "metadata": {},
     "output_type": "execute_result"
    }
   ],
   "source": [
    "# Cut the data by date - start date September end date December\n",
    "start_date = '2020-09-01'\n",
    "end_date = '2020-12-02'\n",
    "mask = (covid['date'] > start_date) & (covid['date'] <= end_date)\n",
    "covid  = covid.loc[mask]\n",
    "covid"
   ]
  },
  {
   "cell_type": "code",
   "execution_count": 5,
   "metadata": {},
   "outputs": [
    {
     "data": {
      "text/html": [
       "<div>\n",
       "<style scoped>\n",
       "    .dataframe tbody tr th:only-of-type {\n",
       "        vertical-align: middle;\n",
       "    }\n",
       "\n",
       "    .dataframe tbody tr th {\n",
       "        vertical-align: top;\n",
       "    }\n",
       "\n",
       "    .dataframe thead th {\n",
       "        text-align: right;\n",
       "    }\n",
       "</style>\n",
       "<table border=\"1\" class=\"dataframe\">\n",
       "  <thead>\n",
       "    <tr style=\"text-align: right;\">\n",
       "      <th></th>\n",
       "      <th>date</th>\n",
       "      <th>state</th>\n",
       "      <th>dataQualityGrade</th>\n",
       "      <th>death</th>\n",
       "      <th>deathConfirmed</th>\n",
       "      <th>deathIncrease</th>\n",
       "      <th>deathProbable</th>\n",
       "      <th>hospitalized</th>\n",
       "      <th>hospitalizedCumulative</th>\n",
       "      <th>hospitalizedCurrently</th>\n",
       "      <th>...</th>\n",
       "      <th>totalTestResults</th>\n",
       "      <th>totalTestResultsIncrease</th>\n",
       "      <th>totalTestsAntibody</th>\n",
       "      <th>totalTestsAntigen</th>\n",
       "      <th>totalTestsPeopleAntibody</th>\n",
       "      <th>totalTestsPeopleAntigen</th>\n",
       "      <th>totalTestsPeopleViral</th>\n",
       "      <th>totalTestsPeopleViralIncrease</th>\n",
       "      <th>totalTestsViral</th>\n",
       "      <th>totalTestsViralIncrease</th>\n",
       "    </tr>\n",
       "  </thead>\n",
       "  <tbody>\n",
       "    <tr>\n",
       "      <th>37</th>\n",
       "      <td>2020-12-02</td>\n",
       "      <td>NY</td>\n",
       "      <td>B</td>\n",
       "      <td>26889.0</td>\n",
       "      <td>NaN</td>\n",
       "      <td>73</td>\n",
       "      <td>NaN</td>\n",
       "      <td>89995.0</td>\n",
       "      <td>89995.0</td>\n",
       "      <td>3924.0</td>\n",
       "      <td>...</td>\n",
       "      <td>19761724.0</td>\n",
       "      <td>193551</td>\n",
       "      <td>NaN</td>\n",
       "      <td>NaN</td>\n",
       "      <td>NaN</td>\n",
       "      <td>NaN</td>\n",
       "      <td>NaN</td>\n",
       "      <td>0</td>\n",
       "      <td>NaN</td>\n",
       "      <td>0</td>\n",
       "    </tr>\n",
       "    <tr>\n",
       "      <th>93</th>\n",
       "      <td>2020-12-01</td>\n",
       "      <td>NY</td>\n",
       "      <td>B</td>\n",
       "      <td>26816.0</td>\n",
       "      <td>NaN</td>\n",
       "      <td>69</td>\n",
       "      <td>NaN</td>\n",
       "      <td>89995.0</td>\n",
       "      <td>89995.0</td>\n",
       "      <td>3774.0</td>\n",
       "      <td>...</td>\n",
       "      <td>19568173.0</td>\n",
       "      <td>146675</td>\n",
       "      <td>NaN</td>\n",
       "      <td>NaN</td>\n",
       "      <td>NaN</td>\n",
       "      <td>NaN</td>\n",
       "      <td>NaN</td>\n",
       "      <td>0</td>\n",
       "      <td>NaN</td>\n",
       "      <td>0</td>\n",
       "    </tr>\n",
       "    <tr>\n",
       "      <th>149</th>\n",
       "      <td>2020-11-30</td>\n",
       "      <td>NY</td>\n",
       "      <td>B</td>\n",
       "      <td>26747.0</td>\n",
       "      <td>NaN</td>\n",
       "      <td>57</td>\n",
       "      <td>NaN</td>\n",
       "      <td>89995.0</td>\n",
       "      <td>89995.0</td>\n",
       "      <td>3532.0</td>\n",
       "      <td>...</td>\n",
       "      <td>19421498.0</td>\n",
       "      <td>148974</td>\n",
       "      <td>NaN</td>\n",
       "      <td>NaN</td>\n",
       "      <td>NaN</td>\n",
       "      <td>NaN</td>\n",
       "      <td>NaN</td>\n",
       "      <td>0</td>\n",
       "      <td>NaN</td>\n",
       "      <td>0</td>\n",
       "    </tr>\n",
       "    <tr>\n",
       "      <th>205</th>\n",
       "      <td>2020-11-29</td>\n",
       "      <td>NY</td>\n",
       "      <td>B</td>\n",
       "      <td>26690.0</td>\n",
       "      <td>NaN</td>\n",
       "      <td>58</td>\n",
       "      <td>NaN</td>\n",
       "      <td>89995.0</td>\n",
       "      <td>89995.0</td>\n",
       "      <td>3372.0</td>\n",
       "      <td>...</td>\n",
       "      <td>19272524.0</td>\n",
       "      <td>157320</td>\n",
       "      <td>NaN</td>\n",
       "      <td>NaN</td>\n",
       "      <td>NaN</td>\n",
       "      <td>NaN</td>\n",
       "      <td>NaN</td>\n",
       "      <td>0</td>\n",
       "      <td>NaN</td>\n",
       "      <td>0</td>\n",
       "    </tr>\n",
       "    <tr>\n",
       "      <th>261</th>\n",
       "      <td>2020-11-28</td>\n",
       "      <td>NY</td>\n",
       "      <td>B</td>\n",
       "      <td>26632.0</td>\n",
       "      <td>NaN</td>\n",
       "      <td>44</td>\n",
       "      <td>NaN</td>\n",
       "      <td>89995.0</td>\n",
       "      <td>89995.0</td>\n",
       "      <td>3287.0</td>\n",
       "      <td>...</td>\n",
       "      <td>19115204.0</td>\n",
       "      <td>152355</td>\n",
       "      <td>NaN</td>\n",
       "      <td>NaN</td>\n",
       "      <td>NaN</td>\n",
       "      <td>NaN</td>\n",
       "      <td>NaN</td>\n",
       "      <td>0</td>\n",
       "      <td>NaN</td>\n",
       "      <td>0</td>\n",
       "    </tr>\n",
       "  </tbody>\n",
       "</table>\n",
       "<p>5 rows × 42 columns</p>\n",
       "</div>"
      ],
      "text/plain": [
       "           date state dataQualityGrade    death  deathConfirmed  \\\n",
       "37   2020-12-02    NY                B  26889.0             NaN   \n",
       "93   2020-12-01    NY                B  26816.0             NaN   \n",
       "149  2020-11-30    NY                B  26747.0             NaN   \n",
       "205  2020-11-29    NY                B  26690.0             NaN   \n",
       "261  2020-11-28    NY                B  26632.0             NaN   \n",
       "\n",
       "     deathIncrease  deathProbable  hospitalized  hospitalizedCumulative  \\\n",
       "37              73            NaN       89995.0                 89995.0   \n",
       "93              69            NaN       89995.0                 89995.0   \n",
       "149             57            NaN       89995.0                 89995.0   \n",
       "205             58            NaN       89995.0                 89995.0   \n",
       "261             44            NaN       89995.0                 89995.0   \n",
       "\n",
       "     hospitalizedCurrently  ...  totalTestResults  totalTestResultsIncrease  \\\n",
       "37                  3924.0  ...        19761724.0                    193551   \n",
       "93                  3774.0  ...        19568173.0                    146675   \n",
       "149                 3532.0  ...        19421498.0                    148974   \n",
       "205                 3372.0  ...        19272524.0                    157320   \n",
       "261                 3287.0  ...        19115204.0                    152355   \n",
       "\n",
       "     totalTestsAntibody  totalTestsAntigen  totalTestsPeopleAntibody  \\\n",
       "37                  NaN                NaN                       NaN   \n",
       "93                  NaN                NaN                       NaN   \n",
       "149                 NaN                NaN                       NaN   \n",
       "205                 NaN                NaN                       NaN   \n",
       "261                 NaN                NaN                       NaN   \n",
       "\n",
       "     totalTestsPeopleAntigen  totalTestsPeopleViral  \\\n",
       "37                       NaN                    NaN   \n",
       "93                       NaN                    NaN   \n",
       "149                      NaN                    NaN   \n",
       "205                      NaN                    NaN   \n",
       "261                      NaN                    NaN   \n",
       "\n",
       "     totalTestsPeopleViralIncrease  totalTestsViral  totalTestsViralIncrease  \n",
       "37                               0              NaN                        0  \n",
       "93                               0              NaN                        0  \n",
       "149                              0              NaN                        0  \n",
       "205                              0              NaN                        0  \n",
       "261                              0              NaN                        0  \n",
       "\n",
       "[5 rows x 42 columns]"
      ]
     },
     "execution_count": 5,
     "metadata": {},
     "output_type": "execute_result"
    }
   ],
   "source": [
    "#Data Analysis for NY\n",
    "ny_data = covid[covid[\"state\"]==\"NY\"]\n",
    "ny_data.head()"
   ]
  },
  {
   "cell_type": "code",
   "execution_count": 6,
   "metadata": {},
   "outputs": [
    {
     "data": {
      "text/html": [
       "<div>\n",
       "<style scoped>\n",
       "    .dataframe tbody tr th:only-of-type {\n",
       "        vertical-align: middle;\n",
       "    }\n",
       "\n",
       "    .dataframe tbody tr th {\n",
       "        vertical-align: top;\n",
       "    }\n",
       "\n",
       "    .dataframe thead th {\n",
       "        text-align: right;\n",
       "    }\n",
       "</style>\n",
       "<table border=\"1\" class=\"dataframe\">\n",
       "  <thead>\n",
       "    <tr style=\"text-align: right;\">\n",
       "      <th></th>\n",
       "      <th>date</th>\n",
       "      <th>state</th>\n",
       "      <th>dataQualityGrade</th>\n",
       "      <th>death</th>\n",
       "      <th>deathConfirmed</th>\n",
       "      <th>deathIncrease</th>\n",
       "      <th>deathProbable</th>\n",
       "      <th>hospitalized</th>\n",
       "      <th>hospitalizedCumulative</th>\n",
       "      <th>hospitalizedCurrently</th>\n",
       "      <th>...</th>\n",
       "      <th>totalTestResults</th>\n",
       "      <th>totalTestResultsIncrease</th>\n",
       "      <th>totalTestsAntibody</th>\n",
       "      <th>totalTestsAntigen</th>\n",
       "      <th>totalTestsPeopleAntibody</th>\n",
       "      <th>totalTestsPeopleAntigen</th>\n",
       "      <th>totalTestsPeopleViral</th>\n",
       "      <th>totalTestsPeopleViralIncrease</th>\n",
       "      <th>totalTestsViral</th>\n",
       "      <th>totalTestsViralIncrease</th>\n",
       "    </tr>\n",
       "  </thead>\n",
       "  <tbody>\n",
       "    <tr>\n",
       "      <th>5133</th>\n",
       "      <td>2020-09-02</td>\n",
       "      <td>NY</td>\n",
       "      <td>A</td>\n",
       "      <td>25336.0</td>\n",
       "      <td>NaN</td>\n",
       "      <td>5</td>\n",
       "      <td>NaN</td>\n",
       "      <td>89995.0</td>\n",
       "      <td>89995.0</td>\n",
       "      <td>445.0</td>\n",
       "      <td>...</td>\n",
       "      <td>8428477.0</td>\n",
       "      <td>88447</td>\n",
       "      <td>NaN</td>\n",
       "      <td>NaN</td>\n",
       "      <td>NaN</td>\n",
       "      <td>NaN</td>\n",
       "      <td>NaN</td>\n",
       "      <td>0</td>\n",
       "      <td>NaN</td>\n",
       "      <td>0</td>\n",
       "    </tr>\n",
       "    <tr>\n",
       "      <th>5077</th>\n",
       "      <td>2020-09-03</td>\n",
       "      <td>NY</td>\n",
       "      <td>A</td>\n",
       "      <td>25343.0</td>\n",
       "      <td>NaN</td>\n",
       "      <td>7</td>\n",
       "      <td>NaN</td>\n",
       "      <td>89995.0</td>\n",
       "      <td>89995.0</td>\n",
       "      <td>430.0</td>\n",
       "      <td>...</td>\n",
       "      <td>8517458.0</td>\n",
       "      <td>88981</td>\n",
       "      <td>NaN</td>\n",
       "      <td>NaN</td>\n",
       "      <td>NaN</td>\n",
       "      <td>NaN</td>\n",
       "      <td>NaN</td>\n",
       "      <td>0</td>\n",
       "      <td>NaN</td>\n",
       "      <td>0</td>\n",
       "    </tr>\n",
       "    <tr>\n",
       "      <th>5021</th>\n",
       "      <td>2020-09-04</td>\n",
       "      <td>NY</td>\n",
       "      <td>A</td>\n",
       "      <td>25348.0</td>\n",
       "      <td>NaN</td>\n",
       "      <td>5</td>\n",
       "      <td>NaN</td>\n",
       "      <td>89995.0</td>\n",
       "      <td>89995.0</td>\n",
       "      <td>428.0</td>\n",
       "      <td>...</td>\n",
       "      <td>8610853.0</td>\n",
       "      <td>93395</td>\n",
       "      <td>NaN</td>\n",
       "      <td>NaN</td>\n",
       "      <td>NaN</td>\n",
       "      <td>NaN</td>\n",
       "      <td>NaN</td>\n",
       "      <td>0</td>\n",
       "      <td>NaN</td>\n",
       "      <td>0</td>\n",
       "    </tr>\n",
       "    <tr>\n",
       "      <th>4965</th>\n",
       "      <td>2020-09-05</td>\n",
       "      <td>NY</td>\n",
       "      <td>A</td>\n",
       "      <td>25350.0</td>\n",
       "      <td>NaN</td>\n",
       "      <td>2</td>\n",
       "      <td>NaN</td>\n",
       "      <td>89995.0</td>\n",
       "      <td>89995.0</td>\n",
       "      <td>425.0</td>\n",
       "      <td>...</td>\n",
       "      <td>8710614.0</td>\n",
       "      <td>99761</td>\n",
       "      <td>NaN</td>\n",
       "      <td>NaN</td>\n",
       "      <td>NaN</td>\n",
       "      <td>NaN</td>\n",
       "      <td>NaN</td>\n",
       "      <td>0</td>\n",
       "      <td>NaN</td>\n",
       "      <td>0</td>\n",
       "    </tr>\n",
       "    <tr>\n",
       "      <th>4909</th>\n",
       "      <td>2020-09-06</td>\n",
       "      <td>NY</td>\n",
       "      <td>A</td>\n",
       "      <td>25359.0</td>\n",
       "      <td>NaN</td>\n",
       "      <td>9</td>\n",
       "      <td>NaN</td>\n",
       "      <td>89995.0</td>\n",
       "      <td>89995.0</td>\n",
       "      <td>410.0</td>\n",
       "      <td>...</td>\n",
       "      <td>8796244.0</td>\n",
       "      <td>85630</td>\n",
       "      <td>NaN</td>\n",
       "      <td>NaN</td>\n",
       "      <td>NaN</td>\n",
       "      <td>NaN</td>\n",
       "      <td>NaN</td>\n",
       "      <td>0</td>\n",
       "      <td>NaN</td>\n",
       "      <td>0</td>\n",
       "    </tr>\n",
       "  </tbody>\n",
       "</table>\n",
       "<p>5 rows × 42 columns</p>\n",
       "</div>"
      ],
      "text/plain": [
       "            date state dataQualityGrade    death  deathConfirmed  \\\n",
       "5133  2020-09-02    NY                A  25336.0             NaN   \n",
       "5077  2020-09-03    NY                A  25343.0             NaN   \n",
       "5021  2020-09-04    NY                A  25348.0             NaN   \n",
       "4965  2020-09-05    NY                A  25350.0             NaN   \n",
       "4909  2020-09-06    NY                A  25359.0             NaN   \n",
       "\n",
       "      deathIncrease  deathProbable  hospitalized  hospitalizedCumulative  \\\n",
       "5133              5            NaN       89995.0                 89995.0   \n",
       "5077              7            NaN       89995.0                 89995.0   \n",
       "5021              5            NaN       89995.0                 89995.0   \n",
       "4965              2            NaN       89995.0                 89995.0   \n",
       "4909              9            NaN       89995.0                 89995.0   \n",
       "\n",
       "      hospitalizedCurrently  ...  totalTestResults  totalTestResultsIncrease  \\\n",
       "5133                  445.0  ...         8428477.0                     88447   \n",
       "5077                  430.0  ...         8517458.0                     88981   \n",
       "5021                  428.0  ...         8610853.0                     93395   \n",
       "4965                  425.0  ...         8710614.0                     99761   \n",
       "4909                  410.0  ...         8796244.0                     85630   \n",
       "\n",
       "      totalTestsAntibody  totalTestsAntigen  totalTestsPeopleAntibody  \\\n",
       "5133                 NaN                NaN                       NaN   \n",
       "5077                 NaN                NaN                       NaN   \n",
       "5021                 NaN                NaN                       NaN   \n",
       "4965                 NaN                NaN                       NaN   \n",
       "4909                 NaN                NaN                       NaN   \n",
       "\n",
       "      totalTestsPeopleAntigen  totalTestsPeopleViral  \\\n",
       "5133                      NaN                    NaN   \n",
       "5077                      NaN                    NaN   \n",
       "5021                      NaN                    NaN   \n",
       "4965                      NaN                    NaN   \n",
       "4909                      NaN                    NaN   \n",
       "\n",
       "      totalTestsPeopleViralIncrease  totalTestsViral  totalTestsViralIncrease  \n",
       "5133                              0              NaN                        0  \n",
       "5077                              0              NaN                        0  \n",
       "5021                              0              NaN                        0  \n",
       "4965                              0              NaN                        0  \n",
       "4909                              0              NaN                        0  \n",
       "\n",
       "[5 rows x 42 columns]"
      ]
     },
     "execution_count": 6,
     "metadata": {},
     "output_type": "execute_result"
    }
   ],
   "source": [
    "ny_data = ny_data.sort_values(by = 'date', ascending = True)\n",
    "ny_data.head()"
   ]
  },
  {
   "cell_type": "code",
   "execution_count": 7,
   "metadata": {
    "scrolled": true
   },
   "outputs": [
    {
     "data": {
      "text/html": [
       "<div>\n",
       "<style scoped>\n",
       "    .dataframe tbody tr th:only-of-type {\n",
       "        vertical-align: middle;\n",
       "    }\n",
       "\n",
       "    .dataframe tbody tr th {\n",
       "        vertical-align: top;\n",
       "    }\n",
       "\n",
       "    .dataframe thead th {\n",
       "        text-align: right;\n",
       "    }\n",
       "</style>\n",
       "<table border=\"1\" class=\"dataframe\">\n",
       "  <thead>\n",
       "    <tr style=\"text-align: right;\">\n",
       "      <th></th>\n",
       "      <th>date</th>\n",
       "      <th>state</th>\n",
       "      <th>dataQualityGrade</th>\n",
       "      <th>death</th>\n",
       "      <th>deathConfirmed</th>\n",
       "      <th>deathIncrease</th>\n",
       "      <th>deathProbable</th>\n",
       "      <th>hospitalized</th>\n",
       "      <th>hospitalizedCumulative</th>\n",
       "      <th>hospitalizedCurrently</th>\n",
       "      <th>...</th>\n",
       "      <th>totalTestResults</th>\n",
       "      <th>totalTestResultsIncrease</th>\n",
       "      <th>totalTestsAntibody</th>\n",
       "      <th>totalTestsAntigen</th>\n",
       "      <th>totalTestsPeopleAntibody</th>\n",
       "      <th>totalTestsPeopleAntigen</th>\n",
       "      <th>totalTestsPeopleViral</th>\n",
       "      <th>totalTestsPeopleViralIncrease</th>\n",
       "      <th>totalTestsViral</th>\n",
       "      <th>totalTestsViralIncrease</th>\n",
       "    </tr>\n",
       "  </thead>\n",
       "  <tbody>\n",
       "    <tr>\n",
       "      <th>5133</th>\n",
       "      <td>2020-09-02</td>\n",
       "      <td>NY</td>\n",
       "      <td>A</td>\n",
       "      <td>25336.0</td>\n",
       "      <td>0.0</td>\n",
       "      <td>5</td>\n",
       "      <td>0.0</td>\n",
       "      <td>89995.0</td>\n",
       "      <td>89995.0</td>\n",
       "      <td>445.0</td>\n",
       "      <td>...</td>\n",
       "      <td>8428477.0</td>\n",
       "      <td>88447</td>\n",
       "      <td>0.0</td>\n",
       "      <td>0.0</td>\n",
       "      <td>0.0</td>\n",
       "      <td>0.0</td>\n",
       "      <td>0.0</td>\n",
       "      <td>0</td>\n",
       "      <td>0.0</td>\n",
       "      <td>0</td>\n",
       "    </tr>\n",
       "    <tr>\n",
       "      <th>5077</th>\n",
       "      <td>2020-09-03</td>\n",
       "      <td>NY</td>\n",
       "      <td>A</td>\n",
       "      <td>25343.0</td>\n",
       "      <td>0.0</td>\n",
       "      <td>7</td>\n",
       "      <td>0.0</td>\n",
       "      <td>89995.0</td>\n",
       "      <td>89995.0</td>\n",
       "      <td>430.0</td>\n",
       "      <td>...</td>\n",
       "      <td>8517458.0</td>\n",
       "      <td>88981</td>\n",
       "      <td>0.0</td>\n",
       "      <td>0.0</td>\n",
       "      <td>0.0</td>\n",
       "      <td>0.0</td>\n",
       "      <td>0.0</td>\n",
       "      <td>0</td>\n",
       "      <td>0.0</td>\n",
       "      <td>0</td>\n",
       "    </tr>\n",
       "    <tr>\n",
       "      <th>5021</th>\n",
       "      <td>2020-09-04</td>\n",
       "      <td>NY</td>\n",
       "      <td>A</td>\n",
       "      <td>25348.0</td>\n",
       "      <td>0.0</td>\n",
       "      <td>5</td>\n",
       "      <td>0.0</td>\n",
       "      <td>89995.0</td>\n",
       "      <td>89995.0</td>\n",
       "      <td>428.0</td>\n",
       "      <td>...</td>\n",
       "      <td>8610853.0</td>\n",
       "      <td>93395</td>\n",
       "      <td>0.0</td>\n",
       "      <td>0.0</td>\n",
       "      <td>0.0</td>\n",
       "      <td>0.0</td>\n",
       "      <td>0.0</td>\n",
       "      <td>0</td>\n",
       "      <td>0.0</td>\n",
       "      <td>0</td>\n",
       "    </tr>\n",
       "    <tr>\n",
       "      <th>4965</th>\n",
       "      <td>2020-09-05</td>\n",
       "      <td>NY</td>\n",
       "      <td>A</td>\n",
       "      <td>25350.0</td>\n",
       "      <td>0.0</td>\n",
       "      <td>2</td>\n",
       "      <td>0.0</td>\n",
       "      <td>89995.0</td>\n",
       "      <td>89995.0</td>\n",
       "      <td>425.0</td>\n",
       "      <td>...</td>\n",
       "      <td>8710614.0</td>\n",
       "      <td>99761</td>\n",
       "      <td>0.0</td>\n",
       "      <td>0.0</td>\n",
       "      <td>0.0</td>\n",
       "      <td>0.0</td>\n",
       "      <td>0.0</td>\n",
       "      <td>0</td>\n",
       "      <td>0.0</td>\n",
       "      <td>0</td>\n",
       "    </tr>\n",
       "    <tr>\n",
       "      <th>4909</th>\n",
       "      <td>2020-09-06</td>\n",
       "      <td>NY</td>\n",
       "      <td>A</td>\n",
       "      <td>25359.0</td>\n",
       "      <td>0.0</td>\n",
       "      <td>9</td>\n",
       "      <td>0.0</td>\n",
       "      <td>89995.0</td>\n",
       "      <td>89995.0</td>\n",
       "      <td>410.0</td>\n",
       "      <td>...</td>\n",
       "      <td>8796244.0</td>\n",
       "      <td>85630</td>\n",
       "      <td>0.0</td>\n",
       "      <td>0.0</td>\n",
       "      <td>0.0</td>\n",
       "      <td>0.0</td>\n",
       "      <td>0.0</td>\n",
       "      <td>0</td>\n",
       "      <td>0.0</td>\n",
       "      <td>0</td>\n",
       "    </tr>\n",
       "  </tbody>\n",
       "</table>\n",
       "<p>5 rows × 42 columns</p>\n",
       "</div>"
      ],
      "text/plain": [
       "            date state dataQualityGrade    death  deathConfirmed  \\\n",
       "5133  2020-09-02    NY                A  25336.0             0.0   \n",
       "5077  2020-09-03    NY                A  25343.0             0.0   \n",
       "5021  2020-09-04    NY                A  25348.0             0.0   \n",
       "4965  2020-09-05    NY                A  25350.0             0.0   \n",
       "4909  2020-09-06    NY                A  25359.0             0.0   \n",
       "\n",
       "      deathIncrease  deathProbable  hospitalized  hospitalizedCumulative  \\\n",
       "5133              5            0.0       89995.0                 89995.0   \n",
       "5077              7            0.0       89995.0                 89995.0   \n",
       "5021              5            0.0       89995.0                 89995.0   \n",
       "4965              2            0.0       89995.0                 89995.0   \n",
       "4909              9            0.0       89995.0                 89995.0   \n",
       "\n",
       "      hospitalizedCurrently  ...  totalTestResults  totalTestResultsIncrease  \\\n",
       "5133                  445.0  ...         8428477.0                     88447   \n",
       "5077                  430.0  ...         8517458.0                     88981   \n",
       "5021                  428.0  ...         8610853.0                     93395   \n",
       "4965                  425.0  ...         8710614.0                     99761   \n",
       "4909                  410.0  ...         8796244.0                     85630   \n",
       "\n",
       "      totalTestsAntibody  totalTestsAntigen  totalTestsPeopleAntibody  \\\n",
       "5133                 0.0                0.0                       0.0   \n",
       "5077                 0.0                0.0                       0.0   \n",
       "5021                 0.0                0.0                       0.0   \n",
       "4965                 0.0                0.0                       0.0   \n",
       "4909                 0.0                0.0                       0.0   \n",
       "\n",
       "      totalTestsPeopleAntigen  totalTestsPeopleViral  \\\n",
       "5133                      0.0                    0.0   \n",
       "5077                      0.0                    0.0   \n",
       "5021                      0.0                    0.0   \n",
       "4965                      0.0                    0.0   \n",
       "4909                      0.0                    0.0   \n",
       "\n",
       "      totalTestsPeopleViralIncrease  totalTestsViral  totalTestsViralIncrease  \n",
       "5133                              0              0.0                        0  \n",
       "5077                              0              0.0                        0  \n",
       "5021                              0              0.0                        0  \n",
       "4965                              0              0.0                        0  \n",
       "4909                              0              0.0                        0  \n",
       "\n",
       "[5 rows x 42 columns]"
      ]
     },
     "execution_count": 7,
     "metadata": {},
     "output_type": "execute_result"
    }
   ],
   "source": [
    "ny_data = ny_data.fillna(0)\n",
    "ny_data.head()"
   ]
  },
  {
   "cell_type": "code",
   "execution_count": 8,
   "metadata": {},
   "outputs": [
    {
     "data": {
      "text/html": [
       "<div>\n",
       "<style scoped>\n",
       "    .dataframe tbody tr th:only-of-type {\n",
       "        vertical-align: middle;\n",
       "    }\n",
       "\n",
       "    .dataframe tbody tr th {\n",
       "        vertical-align: top;\n",
       "    }\n",
       "\n",
       "    .dataframe thead th {\n",
       "        text-align: right;\n",
       "    }\n",
       "</style>\n",
       "<table border=\"1\" class=\"dataframe\">\n",
       "  <thead>\n",
       "    <tr style=\"text-align: right;\">\n",
       "      <th></th>\n",
       "      <th>state</th>\n",
       "      <th>dataQualityGrade</th>\n",
       "      <th>death</th>\n",
       "      <th>deathConfirmed</th>\n",
       "      <th>deathIncrease</th>\n",
       "      <th>deathProbable</th>\n",
       "      <th>hospitalized</th>\n",
       "      <th>hospitalizedCumulative</th>\n",
       "      <th>hospitalizedCurrently</th>\n",
       "      <th>hospitalizedIncrease</th>\n",
       "      <th>...</th>\n",
       "      <th>totalTestResults</th>\n",
       "      <th>totalTestResultsIncrease</th>\n",
       "      <th>totalTestsAntibody</th>\n",
       "      <th>totalTestsAntigen</th>\n",
       "      <th>totalTestsPeopleAntibody</th>\n",
       "      <th>totalTestsPeopleAntigen</th>\n",
       "      <th>totalTestsPeopleViral</th>\n",
       "      <th>totalTestsPeopleViralIncrease</th>\n",
       "      <th>totalTestsViral</th>\n",
       "      <th>totalTestsViralIncrease</th>\n",
       "    </tr>\n",
       "    <tr>\n",
       "      <th>date</th>\n",
       "      <th></th>\n",
       "      <th></th>\n",
       "      <th></th>\n",
       "      <th></th>\n",
       "      <th></th>\n",
       "      <th></th>\n",
       "      <th></th>\n",
       "      <th></th>\n",
       "      <th></th>\n",
       "      <th></th>\n",
       "      <th></th>\n",
       "      <th></th>\n",
       "      <th></th>\n",
       "      <th></th>\n",
       "      <th></th>\n",
       "      <th></th>\n",
       "      <th></th>\n",
       "      <th></th>\n",
       "      <th></th>\n",
       "      <th></th>\n",
       "      <th></th>\n",
       "    </tr>\n",
       "  </thead>\n",
       "  <tbody>\n",
       "    <tr>\n",
       "      <th>2020-09-02</th>\n",
       "      <td>NY</td>\n",
       "      <td>A</td>\n",
       "      <td>25336.0</td>\n",
       "      <td>0.0</td>\n",
       "      <td>5</td>\n",
       "      <td>0.0</td>\n",
       "      <td>89995.0</td>\n",
       "      <td>89995.0</td>\n",
       "      <td>445.0</td>\n",
       "      <td>0</td>\n",
       "      <td>...</td>\n",
       "      <td>8428477.0</td>\n",
       "      <td>88447</td>\n",
       "      <td>0.0</td>\n",
       "      <td>0.0</td>\n",
       "      <td>0.0</td>\n",
       "      <td>0.0</td>\n",
       "      <td>0.0</td>\n",
       "      <td>0</td>\n",
       "      <td>0.0</td>\n",
       "      <td>0</td>\n",
       "    </tr>\n",
       "    <tr>\n",
       "      <th>2020-09-03</th>\n",
       "      <td>NY</td>\n",
       "      <td>A</td>\n",
       "      <td>25343.0</td>\n",
       "      <td>0.0</td>\n",
       "      <td>7</td>\n",
       "      <td>0.0</td>\n",
       "      <td>89995.0</td>\n",
       "      <td>89995.0</td>\n",
       "      <td>430.0</td>\n",
       "      <td>0</td>\n",
       "      <td>...</td>\n",
       "      <td>8517458.0</td>\n",
       "      <td>88981</td>\n",
       "      <td>0.0</td>\n",
       "      <td>0.0</td>\n",
       "      <td>0.0</td>\n",
       "      <td>0.0</td>\n",
       "      <td>0.0</td>\n",
       "      <td>0</td>\n",
       "      <td>0.0</td>\n",
       "      <td>0</td>\n",
       "    </tr>\n",
       "    <tr>\n",
       "      <th>2020-09-04</th>\n",
       "      <td>NY</td>\n",
       "      <td>A</td>\n",
       "      <td>25348.0</td>\n",
       "      <td>0.0</td>\n",
       "      <td>5</td>\n",
       "      <td>0.0</td>\n",
       "      <td>89995.0</td>\n",
       "      <td>89995.0</td>\n",
       "      <td>428.0</td>\n",
       "      <td>0</td>\n",
       "      <td>...</td>\n",
       "      <td>8610853.0</td>\n",
       "      <td>93395</td>\n",
       "      <td>0.0</td>\n",
       "      <td>0.0</td>\n",
       "      <td>0.0</td>\n",
       "      <td>0.0</td>\n",
       "      <td>0.0</td>\n",
       "      <td>0</td>\n",
       "      <td>0.0</td>\n",
       "      <td>0</td>\n",
       "    </tr>\n",
       "    <tr>\n",
       "      <th>2020-09-05</th>\n",
       "      <td>NY</td>\n",
       "      <td>A</td>\n",
       "      <td>25350.0</td>\n",
       "      <td>0.0</td>\n",
       "      <td>2</td>\n",
       "      <td>0.0</td>\n",
       "      <td>89995.0</td>\n",
       "      <td>89995.0</td>\n",
       "      <td>425.0</td>\n",
       "      <td>0</td>\n",
       "      <td>...</td>\n",
       "      <td>8710614.0</td>\n",
       "      <td>99761</td>\n",
       "      <td>0.0</td>\n",
       "      <td>0.0</td>\n",
       "      <td>0.0</td>\n",
       "      <td>0.0</td>\n",
       "      <td>0.0</td>\n",
       "      <td>0</td>\n",
       "      <td>0.0</td>\n",
       "      <td>0</td>\n",
       "    </tr>\n",
       "    <tr>\n",
       "      <th>2020-09-06</th>\n",
       "      <td>NY</td>\n",
       "      <td>A</td>\n",
       "      <td>25359.0</td>\n",
       "      <td>0.0</td>\n",
       "      <td>9</td>\n",
       "      <td>0.0</td>\n",
       "      <td>89995.0</td>\n",
       "      <td>89995.0</td>\n",
       "      <td>410.0</td>\n",
       "      <td>0</td>\n",
       "      <td>...</td>\n",
       "      <td>8796244.0</td>\n",
       "      <td>85630</td>\n",
       "      <td>0.0</td>\n",
       "      <td>0.0</td>\n",
       "      <td>0.0</td>\n",
       "      <td>0.0</td>\n",
       "      <td>0.0</td>\n",
       "      <td>0</td>\n",
       "      <td>0.0</td>\n",
       "      <td>0</td>\n",
       "    </tr>\n",
       "    <tr>\n",
       "      <th>...</th>\n",
       "      <td>...</td>\n",
       "      <td>...</td>\n",
       "      <td>...</td>\n",
       "      <td>...</td>\n",
       "      <td>...</td>\n",
       "      <td>...</td>\n",
       "      <td>...</td>\n",
       "      <td>...</td>\n",
       "      <td>...</td>\n",
       "      <td>...</td>\n",
       "      <td>...</td>\n",
       "      <td>...</td>\n",
       "      <td>...</td>\n",
       "      <td>...</td>\n",
       "      <td>...</td>\n",
       "      <td>...</td>\n",
       "      <td>...</td>\n",
       "      <td>...</td>\n",
       "      <td>...</td>\n",
       "      <td>...</td>\n",
       "      <td>...</td>\n",
       "    </tr>\n",
       "    <tr>\n",
       "      <th>2020-11-28</th>\n",
       "      <td>NY</td>\n",
       "      <td>B</td>\n",
       "      <td>26632.0</td>\n",
       "      <td>0.0</td>\n",
       "      <td>44</td>\n",
       "      <td>0.0</td>\n",
       "      <td>89995.0</td>\n",
       "      <td>89995.0</td>\n",
       "      <td>3287.0</td>\n",
       "      <td>0</td>\n",
       "      <td>...</td>\n",
       "      <td>19115204.0</td>\n",
       "      <td>152355</td>\n",
       "      <td>0.0</td>\n",
       "      <td>0.0</td>\n",
       "      <td>0.0</td>\n",
       "      <td>0.0</td>\n",
       "      <td>0.0</td>\n",
       "      <td>0</td>\n",
       "      <td>0.0</td>\n",
       "      <td>0</td>\n",
       "    </tr>\n",
       "    <tr>\n",
       "      <th>2020-11-29</th>\n",
       "      <td>NY</td>\n",
       "      <td>B</td>\n",
       "      <td>26690.0</td>\n",
       "      <td>0.0</td>\n",
       "      <td>58</td>\n",
       "      <td>0.0</td>\n",
       "      <td>89995.0</td>\n",
       "      <td>89995.0</td>\n",
       "      <td>3372.0</td>\n",
       "      <td>0</td>\n",
       "      <td>...</td>\n",
       "      <td>19272524.0</td>\n",
       "      <td>157320</td>\n",
       "      <td>0.0</td>\n",
       "      <td>0.0</td>\n",
       "      <td>0.0</td>\n",
       "      <td>0.0</td>\n",
       "      <td>0.0</td>\n",
       "      <td>0</td>\n",
       "      <td>0.0</td>\n",
       "      <td>0</td>\n",
       "    </tr>\n",
       "    <tr>\n",
       "      <th>2020-11-30</th>\n",
       "      <td>NY</td>\n",
       "      <td>B</td>\n",
       "      <td>26747.0</td>\n",
       "      <td>0.0</td>\n",
       "      <td>57</td>\n",
       "      <td>0.0</td>\n",
       "      <td>89995.0</td>\n",
       "      <td>89995.0</td>\n",
       "      <td>3532.0</td>\n",
       "      <td>0</td>\n",
       "      <td>...</td>\n",
       "      <td>19421498.0</td>\n",
       "      <td>148974</td>\n",
       "      <td>0.0</td>\n",
       "      <td>0.0</td>\n",
       "      <td>0.0</td>\n",
       "      <td>0.0</td>\n",
       "      <td>0.0</td>\n",
       "      <td>0</td>\n",
       "      <td>0.0</td>\n",
       "      <td>0</td>\n",
       "    </tr>\n",
       "    <tr>\n",
       "      <th>2020-12-01</th>\n",
       "      <td>NY</td>\n",
       "      <td>B</td>\n",
       "      <td>26816.0</td>\n",
       "      <td>0.0</td>\n",
       "      <td>69</td>\n",
       "      <td>0.0</td>\n",
       "      <td>89995.0</td>\n",
       "      <td>89995.0</td>\n",
       "      <td>3774.0</td>\n",
       "      <td>0</td>\n",
       "      <td>...</td>\n",
       "      <td>19568173.0</td>\n",
       "      <td>146675</td>\n",
       "      <td>0.0</td>\n",
       "      <td>0.0</td>\n",
       "      <td>0.0</td>\n",
       "      <td>0.0</td>\n",
       "      <td>0.0</td>\n",
       "      <td>0</td>\n",
       "      <td>0.0</td>\n",
       "      <td>0</td>\n",
       "    </tr>\n",
       "    <tr>\n",
       "      <th>2020-12-02</th>\n",
       "      <td>NY</td>\n",
       "      <td>B</td>\n",
       "      <td>26889.0</td>\n",
       "      <td>0.0</td>\n",
       "      <td>73</td>\n",
       "      <td>0.0</td>\n",
       "      <td>89995.0</td>\n",
       "      <td>89995.0</td>\n",
       "      <td>3924.0</td>\n",
       "      <td>0</td>\n",
       "      <td>...</td>\n",
       "      <td>19761724.0</td>\n",
       "      <td>193551</td>\n",
       "      <td>0.0</td>\n",
       "      <td>0.0</td>\n",
       "      <td>0.0</td>\n",
       "      <td>0.0</td>\n",
       "      <td>0.0</td>\n",
       "      <td>0</td>\n",
       "      <td>0.0</td>\n",
       "      <td>0</td>\n",
       "    </tr>\n",
       "  </tbody>\n",
       "</table>\n",
       "<p>92 rows × 41 columns</p>\n",
       "</div>"
      ],
      "text/plain": [
       "           state dataQualityGrade    death  deathConfirmed  deathIncrease  \\\n",
       "date                                                                        \n",
       "2020-09-02    NY                A  25336.0             0.0              5   \n",
       "2020-09-03    NY                A  25343.0             0.0              7   \n",
       "2020-09-04    NY                A  25348.0             0.0              5   \n",
       "2020-09-05    NY                A  25350.0             0.0              2   \n",
       "2020-09-06    NY                A  25359.0             0.0              9   \n",
       "...          ...              ...      ...             ...            ...   \n",
       "2020-11-28    NY                B  26632.0             0.0             44   \n",
       "2020-11-29    NY                B  26690.0             0.0             58   \n",
       "2020-11-30    NY                B  26747.0             0.0             57   \n",
       "2020-12-01    NY                B  26816.0             0.0             69   \n",
       "2020-12-02    NY                B  26889.0             0.0             73   \n",
       "\n",
       "            deathProbable  hospitalized  hospitalizedCumulative  \\\n",
       "date                                                              \n",
       "2020-09-02            0.0       89995.0                 89995.0   \n",
       "2020-09-03            0.0       89995.0                 89995.0   \n",
       "2020-09-04            0.0       89995.0                 89995.0   \n",
       "2020-09-05            0.0       89995.0                 89995.0   \n",
       "2020-09-06            0.0       89995.0                 89995.0   \n",
       "...                   ...           ...                     ...   \n",
       "2020-11-28            0.0       89995.0                 89995.0   \n",
       "2020-11-29            0.0       89995.0                 89995.0   \n",
       "2020-11-30            0.0       89995.0                 89995.0   \n",
       "2020-12-01            0.0       89995.0                 89995.0   \n",
       "2020-12-02            0.0       89995.0                 89995.0   \n",
       "\n",
       "            hospitalizedCurrently  hospitalizedIncrease  ...  \\\n",
       "date                                                     ...   \n",
       "2020-09-02                  445.0                     0  ...   \n",
       "2020-09-03                  430.0                     0  ...   \n",
       "2020-09-04                  428.0                     0  ...   \n",
       "2020-09-05                  425.0                     0  ...   \n",
       "2020-09-06                  410.0                     0  ...   \n",
       "...                           ...                   ...  ...   \n",
       "2020-11-28                 3287.0                     0  ...   \n",
       "2020-11-29                 3372.0                     0  ...   \n",
       "2020-11-30                 3532.0                     0  ...   \n",
       "2020-12-01                 3774.0                     0  ...   \n",
       "2020-12-02                 3924.0                     0  ...   \n",
       "\n",
       "            totalTestResults  totalTestResultsIncrease  totalTestsAntibody  \\\n",
       "date                                                                         \n",
       "2020-09-02         8428477.0                     88447                 0.0   \n",
       "2020-09-03         8517458.0                     88981                 0.0   \n",
       "2020-09-04         8610853.0                     93395                 0.0   \n",
       "2020-09-05         8710614.0                     99761                 0.0   \n",
       "2020-09-06         8796244.0                     85630                 0.0   \n",
       "...                      ...                       ...                 ...   \n",
       "2020-11-28        19115204.0                    152355                 0.0   \n",
       "2020-11-29        19272524.0                    157320                 0.0   \n",
       "2020-11-30        19421498.0                    148974                 0.0   \n",
       "2020-12-01        19568173.0                    146675                 0.0   \n",
       "2020-12-02        19761724.0                    193551                 0.0   \n",
       "\n",
       "            totalTestsAntigen  totalTestsPeopleAntibody  \\\n",
       "date                                                      \n",
       "2020-09-02                0.0                       0.0   \n",
       "2020-09-03                0.0                       0.0   \n",
       "2020-09-04                0.0                       0.0   \n",
       "2020-09-05                0.0                       0.0   \n",
       "2020-09-06                0.0                       0.0   \n",
       "...                       ...                       ...   \n",
       "2020-11-28                0.0                       0.0   \n",
       "2020-11-29                0.0                       0.0   \n",
       "2020-11-30                0.0                       0.0   \n",
       "2020-12-01                0.0                       0.0   \n",
       "2020-12-02                0.0                       0.0   \n",
       "\n",
       "            totalTestsPeopleAntigen  totalTestsPeopleViral  \\\n",
       "date                                                         \n",
       "2020-09-02                      0.0                    0.0   \n",
       "2020-09-03                      0.0                    0.0   \n",
       "2020-09-04                      0.0                    0.0   \n",
       "2020-09-05                      0.0                    0.0   \n",
       "2020-09-06                      0.0                    0.0   \n",
       "...                             ...                    ...   \n",
       "2020-11-28                      0.0                    0.0   \n",
       "2020-11-29                      0.0                    0.0   \n",
       "2020-11-30                      0.0                    0.0   \n",
       "2020-12-01                      0.0                    0.0   \n",
       "2020-12-02                      0.0                    0.0   \n",
       "\n",
       "            totalTestsPeopleViralIncrease  totalTestsViral  \\\n",
       "date                                                         \n",
       "2020-09-02                              0              0.0   \n",
       "2020-09-03                              0              0.0   \n",
       "2020-09-04                              0              0.0   \n",
       "2020-09-05                              0              0.0   \n",
       "2020-09-06                              0              0.0   \n",
       "...                                   ...              ...   \n",
       "2020-11-28                              0              0.0   \n",
       "2020-11-29                              0              0.0   \n",
       "2020-11-30                              0              0.0   \n",
       "2020-12-01                              0              0.0   \n",
       "2020-12-02                              0              0.0   \n",
       "\n",
       "            totalTestsViralIncrease  \n",
       "date                                 \n",
       "2020-09-02                        0  \n",
       "2020-09-03                        0  \n",
       "2020-09-04                        0  \n",
       "2020-09-05                        0  \n",
       "2020-09-06                        0  \n",
       "...                             ...  \n",
       "2020-11-28                        0  \n",
       "2020-11-29                        0  \n",
       "2020-11-30                        0  \n",
       "2020-12-01                        0  \n",
       "2020-12-02                        0  \n",
       "\n",
       "[92 rows x 41 columns]"
      ]
     },
     "execution_count": 8,
     "metadata": {},
     "output_type": "execute_result"
    }
   ],
   "source": [
    "ny = ny_data.set_index('date')\n",
    "ny"
   ]
  },
  {
   "cell_type": "code",
   "execution_count": 9,
   "metadata": {
    "colab": {},
    "colab_type": "code",
    "id": "o4fpIjPPO-iA"
   },
   "outputs": [],
   "source": [
    "#Drop columns\n",
    "ny_data.drop(['state', 'dataQualityGrade', 'deathConfirmed',\\\n",
    "       'deathIncrease', 'deathProbable', 'hospitalized',\n",
    "       'hospitalizedCumulative',\\\n",
    "       'hospitalizedIncrease', 'inIcuCumulative', 'negative',\\\n",
    "       'negativeIncrease', 'negativeTestsAntibody',\\\n",
    "       'negativeTestsPeopleAntibody', 'negativeTestsViral',\\\n",
    "       'onVentilatorCumulative',\\\n",
    "       'positiveCasesViral', 'positiveIncrease', 'positiveScore',\\\n",
    "       'positiveTestsAntibody', 'positiveTestsAntigen',\\\n",
    "       'positiveTestsPeopleAntibody', 'positiveTestsPeopleAntigen',\\\n",
    "       'positiveTestsViral', 'recovered', 'totalTestEncountersViral',\\\n",
    "       'totalTestEncountersViralIncrease', 'totalTestResults',\\\n",
    "       'totalTestResultsIncrease', 'totalTestsAntibody', 'totalTestsAntigen',\\\n",
    "       'totalTestsPeopleAntibody', 'totalTestsPeopleAntigen',\\\n",
    "       'totalTestsPeopleViral', 'totalTestsPeopleViralIncrease',\\\n",
    "       'totalTestsViral', 'totalTestsViralIncrease'],1,inplace = True)"
   ]
  },
  {
   "cell_type": "code",
   "execution_count": 10,
   "metadata": {},
   "outputs": [
    {
     "data": {
      "text/html": [
       "<div>\n",
       "<style scoped>\n",
       "    .dataframe tbody tr th:only-of-type {\n",
       "        vertical-align: middle;\n",
       "    }\n",
       "\n",
       "    .dataframe tbody tr th {\n",
       "        vertical-align: top;\n",
       "    }\n",
       "\n",
       "    .dataframe thead th {\n",
       "        text-align: right;\n",
       "    }\n",
       "</style>\n",
       "<table border=\"1\" class=\"dataframe\">\n",
       "  <thead>\n",
       "    <tr style=\"text-align: right;\">\n",
       "      <th></th>\n",
       "      <th>date</th>\n",
       "      <th>death</th>\n",
       "      <th>hospitalizedCurrently</th>\n",
       "      <th>inIcuCurrently</th>\n",
       "      <th>onVentilatorCurrently</th>\n",
       "      <th>positive</th>\n",
       "    </tr>\n",
       "  </thead>\n",
       "  <tbody>\n",
       "    <tr>\n",
       "      <th>5133</th>\n",
       "      <td>2020-09-02</td>\n",
       "      <td>25336.0</td>\n",
       "      <td>445.0</td>\n",
       "      <td>117.0</td>\n",
       "      <td>61.0</td>\n",
       "      <td>436218.0</td>\n",
       "    </tr>\n",
       "    <tr>\n",
       "      <th>5077</th>\n",
       "      <td>2020-09-03</td>\n",
       "      <td>25343.0</td>\n",
       "      <td>430.0</td>\n",
       "      <td>117.0</td>\n",
       "      <td>61.0</td>\n",
       "      <td>437107.0</td>\n",
       "    </tr>\n",
       "    <tr>\n",
       "      <th>5021</th>\n",
       "      <td>2020-09-04</td>\n",
       "      <td>25348.0</td>\n",
       "      <td>428.0</td>\n",
       "      <td>116.0</td>\n",
       "      <td>61.0</td>\n",
       "      <td>437971.0</td>\n",
       "    </tr>\n",
       "    <tr>\n",
       "      <th>4965</th>\n",
       "      <td>2020-09-05</td>\n",
       "      <td>25350.0</td>\n",
       "      <td>425.0</td>\n",
       "      <td>115.0</td>\n",
       "      <td>61.0</td>\n",
       "      <td>438772.0</td>\n",
       "    </tr>\n",
       "    <tr>\n",
       "      <th>4909</th>\n",
       "      <td>2020-09-06</td>\n",
       "      <td>25359.0</td>\n",
       "      <td>410.0</td>\n",
       "      <td>119.0</td>\n",
       "      <td>56.0</td>\n",
       "      <td>439501.0</td>\n",
       "    </tr>\n",
       "  </tbody>\n",
       "</table>\n",
       "</div>"
      ],
      "text/plain": [
       "            date    death  hospitalizedCurrently  inIcuCurrently  \\\n",
       "5133  2020-09-02  25336.0                  445.0           117.0   \n",
       "5077  2020-09-03  25343.0                  430.0           117.0   \n",
       "5021  2020-09-04  25348.0                  428.0           116.0   \n",
       "4965  2020-09-05  25350.0                  425.0           115.0   \n",
       "4909  2020-09-06  25359.0                  410.0           119.0   \n",
       "\n",
       "      onVentilatorCurrently  positive  \n",
       "5133                   61.0  436218.0  \n",
       "5077                   61.0  437107.0  \n",
       "5021                   61.0  437971.0  \n",
       "4965                   61.0  438772.0  \n",
       "4909                   56.0  439501.0  "
      ]
     },
     "execution_count": 10,
     "metadata": {},
     "output_type": "execute_result"
    }
   ],
   "source": [
    "ny_data.head()"
   ]
  },
  {
   "cell_type": "code",
   "execution_count": 11,
   "metadata": {},
   "outputs": [],
   "source": [
    "# Specified data columns\n",
    "X = ny_data[['positive','hospitalizedCurrently','inIcuCurrently']]\n",
    "y = ny_data['onVentilatorCurrently']\n",
    "\n",
    "# weighting takes into account the most recent data\n",
    "wt=[1/y.shape[0]*i for i in range(y.shape[0])]"
   ]
  },
  {
   "cell_type": "code",
   "execution_count": 12,
   "metadata": {},
   "outputs": [
    {
     "data": {
      "text/plain": [
       "<AxesSubplot:xlabel='date', ylabel='onVentilatorCurrently'>"
      ]
     },
     "execution_count": 12,
     "metadata": {},
     "output_type": "execute_result"
    },
    {
     "data": {
      "image/png": "[encoded data removed]",
      "text/plain": [
       "<Figure size 432x288 with 1 Axes>"
      ]
     },
     "metadata": {
      "needs_background": "light"
     },
     "output_type": "display_data"
    }
   ],
   "source": [
    "sns.lineplot(x='date',y='onVentilatorCurrently',data=ny_data)"
   ]
  },
  {
   "cell_type": "code",
   "execution_count": 13,
   "metadata": {},
   "outputs": [
    {
     "data": {
      "text/plain": [
       "<AxesSubplot:xlabel='date', ylabel='hospitalizedCurrently'>"
      ]
     },
     "execution_count": 13,
     "metadata": {},
     "output_type": "execute_result"
    },
    {
     "data": {
      "image/png": "[encoded data removed]",
      "text/plain": [
       "<Figure size 432x288 with 1 Axes>"
      ]
     },
     "metadata": {
      "needs_background": "light"
     },
     "output_type": "display_data"
    }
   ],
   "source": [
    "sns.lineplot(x='date',y='hospitalizedCurrently',data=ny_data)"
   ]
  },
  {
   "cell_type": "code",
   "execution_count": 14,
   "metadata": {},
   "outputs": [],
   "source": [
    "ny_data.set_index('date', inplace =True)\n"
   ]
  },
  {
   "cell_type": "code",
   "execution_count": 15,
   "metadata": {},
   "outputs": [],
   "source": [
    "# Specified data columns\n",
    "# Reshape your data either using array.reshape(-1, 1) \n",
    "#if your data has a single feature or array.reshape(1, -1) if it contains a single sample.\n",
    "X = ny_data[['positive','hospitalizedCurrently','inIcuCurrently']]\n",
    "y = ny_data['onVentilatorCurrently'].values.reshape(-1,1)# Specified data columns"
   ]
  },
  {
   "cell_type": "code",
   "execution_count": 16,
   "metadata": {},
   "outputs": [
    {
     "name": "stdout",
     "output_type": "stream",
     "text": [
      "(92, 3) (92, 1)\n"
     ]
    }
   ],
   "source": [
    "print(X.shape, y.shape)"
   ]
  },
  {
   "cell_type": "markdown",
   "metadata": {},
   "source": [
    "## Scale the data"
   ]
  },
  {
   "cell_type": "code",
   "execution_count": 17,
   "metadata": {},
   "outputs": [],
   "source": [
    "from sklearn.preprocessing import StandardScaler"
   ]
  },
  {
   "cell_type": "code",
   "execution_count": 18,
   "metadata": {},
   "outputs": [],
   "source": [
    "scaler = StandardScaler()\n",
    "scaler.fit(X)\n",
    "Xsc = scaler.transform(X)"
   ]
  },
  {
   "cell_type": "code",
   "execution_count": 19,
   "metadata": {},
   "outputs": [],
   "source": [
    "#Xsc"
   ]
  },
  {
   "cell_type": "markdown",
   "metadata": {},
   "source": [
    "## Model1 -On Ventilator Currently"
   ]
  },
  {
   "cell_type": "code",
   "execution_count": 20,
   "metadata": {},
   "outputs": [],
   "source": [
    "#number of 20 days forecast - split test data into the future and training data into past\n",
    "n_days = 20\n",
    "X_train = Xsc[0:-n_days,:]\n",
    "y_train = y[0:-n_days,:]\n",
    "wt_train = wt[0:-n_days]\n",
    "X_test = Xsc[-n_days:,:]\n",
    "y_test = y[-n_days:,:]"
   ]
  },
  {
   "cell_type": "code",
   "execution_count": 21,
   "metadata": {},
   "outputs": [],
   "source": [
    "#X_train"
   ]
  },
  {
   "cell_type": "code",
   "execution_count": 22,
   "metadata": {},
   "outputs": [
    {
     "data": {
      "text/plain": [
       "LinearRegression()"
      ]
     },
     "execution_count": 22,
     "metadata": {},
     "output_type": "execute_result"
    }
   ],
   "source": [
    "model = LinearRegression()\n",
    "model"
   ]
  },
  {
   "cell_type": "code",
   "execution_count": 23,
   "metadata": {},
   "outputs": [
    {
     "data": {
      "text/plain": [
       "LinearRegression()"
      ]
     },
     "execution_count": 23,
     "metadata": {},
     "output_type": "execute_result"
    }
   ],
   "source": [
    "model.fit(X_train, y_train, sample_weight=wt_train)"
   ]
  },
  {
   "cell_type": "code",
   "execution_count": 24,
   "metadata": {},
   "outputs": [],
   "source": [
    "y_pred_train = model.predict(X_train)\n",
    "y_pred_test = model.predict(X_test)"
   ]
  },
  {
   "cell_type": "code",
   "execution_count": 25,
   "metadata": {},
   "outputs": [
    {
     "name": "stdout",
     "output_type": "stream",
     "text": [
      "Training Data Score: 0.9430089776034141\n",
      "Testing Data Score: 0.9359531931318289\n"
     ]
    }
   ],
   "source": [
    "print(f\"Training Data Score: {model.score(X_train, y_train)}\")\n",
    "print(f\"Testing Data Score: {model.score(X_test, y_test)}\")"
   ]
  },
  {
   "cell_type": "code",
   "execution_count": 26,
   "metadata": {},
   "outputs": [
    {
     "data": {
      "image/png": "[encoded data removed]",
      "text/plain": [
       "<Figure size 432x288 with 1 Axes>"
      ]
     },
     "metadata": {
      "needs_background": "light"
     },
     "output_type": "display_data"
    }
   ],
   "source": [
    "x = ny_data.index.values\n",
    "x_train = x[:-n_days]\n",
    "x_test = x[-n_days:]\n",
    "\n",
    "plt.scatter(x_train,y_pred_train, c=\"blue\", label=\"Training Data\")\n",
    "plt.scatter(x_test,y_pred_test, c=\"green\", label=\"Testing Data\")\n",
    "plt.scatter(x,y, marker=\".\", label=\"True\")\n",
    "\n",
    "#plt.hlines(0,0,172,alpha = 0.75)\n",
    "plt.rcParams[\"figure.figsize\"] = [15, 9]\n",
    "\n",
    "plt.grid(linestyle =\"-\", linewidth = 1, alpha = 0.3)\n",
    "plt.xticks(rotation=90)\n",
    "plt.ylabel('on Ventilator Currently', fontsize = 12)\n",
    "plt.xlabel('Date', fontsize = 12)\n",
    "plt.legend()\n",
    "plt.title(\"Test\")\n",
    "plt.show()"
   ]
  },
  {
   "cell_type": "code",
   "execution_count": 27,
   "metadata": {},
   "outputs": [
    {
     "name": "stdout",
     "output_type": "stream",
     "text": [
      "Weight coefficients: [[-2.5513687   9.59553283 64.27685297]]\n",
      "y-axis intercept: [120.4480185]\n"
     ]
    }
   ],
   "source": [
    "print('Weight coefficients:', model.coef_)\n",
    "print('y-axis intercept:', model.intercept_)"
   ]
  },
  {
   "cell_type": "markdown",
   "metadata": {},
   "source": [
    "## Model -Hospitalized"
   ]
  },
  {
   "cell_type": "code",
   "execution_count": 28,
   "metadata": {},
   "outputs": [],
   "source": [
    "# Specified data columns\n",
    "# Reshape your data either using array.reshape(-1, 1) \n",
    "#if your data has a single feature or array.reshape(1, -1) if it contains a single sample.\n",
    "X = ny_data[['positive','inIcuCurrently','onVentilatorCurrently']]\n",
    "y = ny_data['hospitalizedCurrently'].values.reshape(-1,1)# Specified data columns"
   ]
  },
  {
   "cell_type": "code",
   "execution_count": 29,
   "metadata": {},
   "outputs": [
    {
     "name": "stdout",
     "output_type": "stream",
     "text": [
      "(92, 3) (92, 1)\n"
     ]
    }
   ],
   "source": [
    "print(X.shape, y.shape)"
   ]
  },
  {
   "cell_type": "code",
   "execution_count": 30,
   "metadata": {},
   "outputs": [],
   "source": [
    "scaler = StandardScaler()\n",
    "scaler.fit(X)\n",
    "Xsc1 = scaler.transform(X)"
   ]
  },
  {
   "cell_type": "code",
   "execution_count": 31,
   "metadata": {},
   "outputs": [],
   "source": [
    "#Xsc1"
   ]
  },
  {
   "cell_type": "code",
   "execution_count": 32,
   "metadata": {},
   "outputs": [],
   "source": [
    "#number of 20 days forecast - split test data into the future and training data into past\n",
    "n_days = 20\n",
    "X_train = Xsc[0:-n_days,:]\n",
    "y_train = y[0:-n_days,:]\n",
    "wt_train = wt[0:-n_days]\n",
    "X_test = Xsc1[-n_days:,:]\n",
    "y_test = y[-n_days:,:]"
   ]
  },
  {
   "cell_type": "code",
   "execution_count": 33,
   "metadata": {},
   "outputs": [
    {
     "data": {
      "text/plain": [
       "LinearRegression()"
      ]
     },
     "execution_count": 33,
     "metadata": {},
     "output_type": "execute_result"
    }
   ],
   "source": [
    "model1 = LinearRegression()\n",
    "model1"
   ]
  },
  {
   "cell_type": "code",
   "execution_count": 34,
   "metadata": {},
   "outputs": [
    {
     "data": {
      "text/plain": [
       "LinearRegression()"
      ]
     },
     "execution_count": 34,
     "metadata": {},
     "output_type": "execute_result"
    }
   ],
   "source": [
    "model1.fit(X_train, y_train, sample_weight=wt_train)"
   ]
  },
  {
   "cell_type": "code",
   "execution_count": 35,
   "metadata": {},
   "outputs": [],
   "source": [
    "y_pred_train = model1.predict(X_train)\n",
    "y_pred_test = model1.predict(X_test)"
   ]
  },
  {
   "cell_type": "code",
   "execution_count": 36,
   "metadata": {},
   "outputs": [
    {
     "name": "stdout",
     "output_type": "stream",
     "text": [
      "Training Data Score: 1.0\n",
      "Testing Data Score: 0.9811377506375275\n"
     ]
    }
   ],
   "source": [
    "print(f\"Training Data Score: {model1.score(X_train, y_train)}\")\n",
    "print(f\"Testing Data Score: {model1.score(X_test, y_test)}\")"
   ]
  },
  {
   "cell_type": "code",
   "execution_count": 37,
   "metadata": {},
   "outputs": [
    {
     "data": {
      "image/png": "[encoded data removed]",
      "text/plain": [
       "<Figure size 1080x648 with 1 Axes>"
      ]
     },
     "metadata": {
      "needs_background": "light"
     },
     "output_type": "display_data"
    }
   ],
   "source": [
    "x = ny_data.index.values\n",
    "x_train = x[:-n_days]\n",
    "x_test = x[-n_days:]\n",
    "\n",
    "plt.scatter(x_train,y_pred_train, c=\"blue\", label=\"Training Data\")\n",
    "plt.scatter(x_test,y_pred_test, c=\"green\", label=\"Testing Data\")\n",
    "plt.scatter(x,y, marker=\".\", label=\"True\")\n",
    "\n",
    "#plt.hlines(0,0,172,alpha = 0.75)\n",
    "plt.rcParams[\"figure.figsize\"] = [15, 8]\n",
    "\n",
    "plt.grid(linestyle =\"-\", linewidth = 1, alpha = 0.3)\n",
    "plt.xticks(rotation=90)\n",
    "plt.ylabel('hospitalized Currently', fontsize = 12)\n",
    "plt.xlabel('Date', fontsize = 12)\n",
    "plt.legend()\n",
    "plt.title(\"Test\")\n",
    "plt.show()"
   ]
  },
  {
   "cell_type": "code",
   "execution_count": 38,
   "metadata": {},
   "outputs": [
    {
     "name": "stdout",
     "output_type": "stream",
     "text": [
      "Weight coefficients: [[-2.5513687   9.59553283 64.27685297]]\n",
      "y-axis intercept: [120.4480185]\n"
     ]
    }
   ],
   "source": [
    "print('Weight coefficients:', model.coef_)\n",
    "print('y-axis intercept:', model.intercept_)"
   ]
  },
  {
   "cell_type": "markdown",
   "metadata": {},
   "source": [
    "## Model2 - In ICU Currently"
   ]
  },
  {
   "cell_type": "code",
   "execution_count": 39,
   "metadata": {},
   "outputs": [],
   "source": [
    "# Specified data columns\n",
    "# Reshape your data either using array.reshape(-1, 1) \n",
    "#if your data has a single feature or array.reshape(1, -1) if it contains a single sample.\n",
    "X = ny_data[['positive','onVentilatorCurrently','hospitalizedCurrently']]\n",
    "y = ny_data['inIcuCurrently'].values.reshape(-1,1)# Specified data columns"
   ]
  },
  {
   "cell_type": "code",
   "execution_count": 40,
   "metadata": {},
   "outputs": [
    {
     "name": "stdout",
     "output_type": "stream",
     "text": [
      "(92, 3) (92, 1)\n"
     ]
    }
   ],
   "source": [
    "print(X.shape, y.shape)"
   ]
  },
  {
   "cell_type": "code",
   "execution_count": 41,
   "metadata": {},
   "outputs": [],
   "source": [
    "scaler = StandardScaler()\n",
    "scaler.fit(X)\n",
    "Xsc2 = scaler.transform(X)"
   ]
  },
  {
   "cell_type": "code",
   "execution_count": 42,
   "metadata": {},
   "outputs": [],
   "source": [
    "#number of 20 days forecast - split test data into the future and training data into past\n",
    "n_days = 20\n",
    "X_train = Xsc2[0:-n_days,:]\n",
    "y_train = y[0:-n_days,:]\n",
    "wt_train = wt[0:-n_days]\n",
    "X_test = Xsc2[-n_days:,:]\n",
    "y_test = y[-n_days:,:]"
   ]
  },
  {
   "cell_type": "code",
   "execution_count": 43,
   "metadata": {},
   "outputs": [
    {
     "data": {
      "text/plain": [
       "LinearRegression()"
      ]
     },
     "execution_count": 43,
     "metadata": {},
     "output_type": "execute_result"
    }
   ],
   "source": [
    "model2 = LinearRegression()\n",
    "model2"
   ]
  },
  {
   "cell_type": "code",
   "execution_count": 44,
   "metadata": {},
   "outputs": [
    {
     "data": {
      "text/plain": [
       "LinearRegression()"
      ]
     },
     "execution_count": 44,
     "metadata": {},
     "output_type": "execute_result"
    }
   ],
   "source": [
    "model2.fit(X_train, y_train, sample_weight=wt_train)"
   ]
  },
  {
   "cell_type": "code",
   "execution_count": 45,
   "metadata": {},
   "outputs": [],
   "source": [
    "y_pred_train = model2.predict(X_train)\n",
    "y_pred_test = model2.predict(X_test)"
   ]
  },
  {
   "cell_type": "code",
   "execution_count": 46,
   "metadata": {},
   "outputs": [
    {
     "name": "stdout",
     "output_type": "stream",
     "text": [
      "Training Data Score: 0.9776264973192664\n",
      "Testing Data Score: 0.530388046108709\n"
     ]
    }
   ],
   "source": [
    "print(f\"Training Data Score: {model2.score(X_train, y_train)}\")\n",
    "print(f\"Testing Data Score: {model2.score(X_test, y_test)}\")"
   ]
  },
  {
   "cell_type": "code",
   "execution_count": 47,
   "metadata": {},
   "outputs": [
    {
     "data": {
      "image/png": "[encoded data removed]",
      "text/plain": [
       "<Figure size 1080x576 with 1 Axes>"
      ]
     },
     "metadata": {
      "needs_background": "light"
     },
     "output_type": "display_data"
    }
   ],
   "source": [
    "x = ny_data.index.values\n",
    "x_train = x[:-n_days]\n",
    "x_test = x[-n_days:]\n",
    "\n",
    "plt.scatter(x_train,y_pred_train, c=\"blue\", label=\"Training Data\")\n",
    "plt.scatter(x_test,y_pred_test, c=\"green\", label=\"Testing Data\")\n",
    "plt.scatter(x,y, marker=\".\", label=\"True\")\n",
    "\n",
    "#plt.hlines(0,0,172,alpha = 0.75)\n",
    "plt.rcParams[\"figure.figsize\"] = [15, 8]\n",
    "\n",
    "plt.grid(linestyle =\"-\", linewidth = 1, alpha = 0.3)\n",
    "plt.xticks(rotation=90)\n",
    "plt.ylabel('ICU Currently', fontsize = 12)\n",
    "plt.xlabel('Date', fontsize = 12)\n",
    "plt.legend()\n",
    "plt.title(\"Test\")\n",
    "plt.show()"
   ]
  },
  {
   "cell_type": "code",
   "execution_count": 48,
   "metadata": {},
   "outputs": [
    {
     "name": "stdout",
     "output_type": "stream",
     "text": [
      "Weight coefficients: [[-2.5513687   9.59553283 64.27685297]]\n",
      "y-axis intercept: [120.4480185]\n"
     ]
    }
   ],
   "source": [
    "print('Weight coefficients:', model.coef_)\n",
    "print('y-axis intercept:', model.intercept_)"
   ]
  },
  {
   "cell_type": "markdown",
   "metadata": {},
   "source": [
    "## Model 3 - Death"
   ]
  },
  {
   "cell_type": "code",
   "execution_count": 49,
   "metadata": {},
   "outputs": [],
   "source": [
    "# Specified data columns\n",
    "# Reshape your data either using array.reshape(-1, 1) \n",
    "#if your data has a single feature or array.reshape(1, -1) if it contains a single sample.\n",
    "X = ny_data[['positive','onVentilatorCurrently','hospitalizedCurrently','inIcuCurrently']]\n",
    "y = ny_data['death'].values.reshape(-1,1)# Specified data columns"
   ]
  },
  {
   "cell_type": "code",
   "execution_count": 50,
   "metadata": {},
   "outputs": [
    {
     "name": "stdout",
     "output_type": "stream",
     "text": [
      "(92, 4) (92, 1)\n"
     ]
    }
   ],
   "source": [
    "print(X.shape, y.shape)"
   ]
  },
  {
   "cell_type": "code",
   "execution_count": 51,
   "metadata": {},
   "outputs": [],
   "source": [
    "scaler = StandardScaler()\n",
    "scaler.fit(X)\n",
    "# X Scaler\n",
    "Xsc3 = scaler.transform(X)"
   ]
  },
  {
   "cell_type": "code",
   "execution_count": 52,
   "metadata": {},
   "outputs": [],
   "source": [
    "#number of 20 days forecast - split test data into the future and training data into past\n",
    "n_days = 20\n",
    "X_train = Xsc3[0:-n_days,:]\n",
    "y_train = y[0:-n_days,:]\n",
    "wt_train = wt[0:-n_days]\n",
    "X_test = Xsc3[-n_days:,:]\n",
    "y_test = y[-n_days:,:]"
   ]
  },
  {
   "cell_type": "code",
   "execution_count": 53,
   "metadata": {},
   "outputs": [
    {
     "data": {
      "text/plain": [
       "LinearRegression()"
      ]
     },
     "execution_count": 53,
     "metadata": {},
     "output_type": "execute_result"
    }
   ],
   "source": [
    "model3 = LinearRegression()\n",
    "model3"
   ]
  },
  {
   "cell_type": "code",
   "execution_count": 54,
   "metadata": {},
   "outputs": [
    {
     "data": {
      "text/plain": [
       "LinearRegression()"
      ]
     },
     "execution_count": 54,
     "metadata": {},
     "output_type": "execute_result"
    }
   ],
   "source": [
    "model3.fit(X_train, y_train, sample_weight=wt_train)"
   ]
  },
  {
   "cell_type": "code",
   "execution_count": 55,
   "metadata": {},
   "outputs": [],
   "source": [
    "y_pred_train = model3.predict(X_train)\n",
    "y_pred_test = model3.predict(X_test)"
   ]
  },
  {
   "cell_type": "code",
   "execution_count": 56,
   "metadata": {},
   "outputs": [
    {
     "name": "stdout",
     "output_type": "stream",
     "text": [
      "Training Data Score: 0.9991201311188204\n",
      "Testing Data Score: 0.9875034566515777\n"
     ]
    }
   ],
   "source": [
    "print(f\"Training Data Score: {model3.score(X_train, y_train)}\")\n",
    "print(f\"Testing Data Score: {model3.score(X_test, y_test)}\")"
   ]
  },
  {
   "cell_type": "code",
   "execution_count": 57,
   "metadata": {},
   "outputs": [
    {
     "data": {
      "image/png": "[encoded data removed]",
      "text/plain": [
       "<Figure size 1080x576 with 1 Axes>"
      ]
     },
     "metadata": {
      "needs_background": "light"
     },
     "output_type": "display_data"
    }
   ],
   "source": [
    "x = ny_data.index.values\n",
    "x_train = x[:-n_days]\n",
    "x_test = x[-n_days:]\n",
    "\n",
    "plt.scatter(x_train,y_pred_train, c=\"blue\", label=\"Training Data\")\n",
    "plt.scatter(x_test,y_pred_test, c=\"green\", label=\"Testing Data\")\n",
    "plt.scatter(x,y, marker=\".\", label=\"True\")\n",
    "\n",
    "#plt.hlines(0,0,172,alpha = 0.75)\n",
    "plt.rcParams[\"figure.figsize\"] = [15, 8]\n",
    "\n",
    "plt.grid(linestyle =\"-\", linewidth = 1, alpha = 0.3)\n",
    "plt.xticks(rotation=90)\n",
    "plt.ylabel('Death', fontsize = 12)\n",
    "plt.xlabel('Date', fontsize = 12)\n",
    "plt.legend()\n",
    "plt.title(\"Test\")\n",
    "plt.show()"
   ]
  },
  {
   "cell_type": "code",
   "execution_count": 58,
   "metadata": {},
   "outputs": [
    {
     "name": "stdout",
     "output_type": "stream",
     "text": [
      "Weight coefficients: [[-2.5513687   9.59553283 64.27685297]]\n",
      "y-axis intercept: [120.4480185]\n"
     ]
    }
   ],
   "source": [
    "print('Weight coefficients:', model.coef_)\n",
    "print('y-axis intercept:', model.intercept_)"
   ]
  },
  {
   "cell_type": "markdown",
   "metadata": {},
   "source": [
    "## Death"
   ]
  },
  {
   "cell_type": "code",
   "execution_count": 59,
   "metadata": {},
   "outputs": [
    {
     "data": {
      "text/html": [
       "<div>\n",
       "<style scoped>\n",
       "    .dataframe tbody tr th:only-of-type {\n",
       "        vertical-align: middle;\n",
       "    }\n",
       "\n",
       "    .dataframe tbody tr th {\n",
       "        vertical-align: top;\n",
       "    }\n",
       "\n",
       "    .dataframe thead th {\n",
       "        text-align: right;\n",
       "    }\n",
       "</style>\n",
       "<table border=\"1\" class=\"dataframe\">\n",
       "  <thead>\n",
       "    <tr style=\"text-align: right;\">\n",
       "      <th></th>\n",
       "      <th>date</th>\n",
       "      <th>death</th>\n",
       "    </tr>\n",
       "  </thead>\n",
       "  <tbody>\n",
       "    <tr>\n",
       "      <th>0</th>\n",
       "      <td>2020-09-02</td>\n",
       "      <td>25336.0</td>\n",
       "    </tr>\n",
       "    <tr>\n",
       "      <th>1</th>\n",
       "      <td>2020-09-03</td>\n",
       "      <td>25343.0</td>\n",
       "    </tr>\n",
       "    <tr>\n",
       "      <th>2</th>\n",
       "      <td>2020-09-04</td>\n",
       "      <td>25348.0</td>\n",
       "    </tr>\n",
       "    <tr>\n",
       "      <th>3</th>\n",
       "      <td>2020-09-05</td>\n",
       "      <td>25350.0</td>\n",
       "    </tr>\n",
       "    <tr>\n",
       "      <th>4</th>\n",
       "      <td>2020-09-06</td>\n",
       "      <td>25359.0</td>\n",
       "    </tr>\n",
       "  </tbody>\n",
       "</table>\n",
       "</div>"
      ],
      "text/plain": [
       "         date    death\n",
       "0  2020-09-02  25336.0\n",
       "1  2020-09-03  25343.0\n",
       "2  2020-09-04  25348.0\n",
       "3  2020-09-05  25350.0\n",
       "4  2020-09-06  25359.0"
      ]
     },
     "execution_count": 59,
     "metadata": {},
     "output_type": "execute_result"
    }
   ],
   "source": [
    "df = ny_data.reset_index()[['date','death']].sort_values('date')\n",
    "df.head()"
   ]
  },
  {
   "cell_type": "code",
   "execution_count": 60,
   "metadata": {},
   "outputs": [],
   "source": [
    "df.date = df.date.map(lambda x : dt.datetime.strptime(x,'%Y-%m-%d'))"
   ]
  },
  {
   "cell_type": "code",
   "execution_count": 61,
   "metadata": {},
   "outputs": [],
   "source": [
    "from sklearn.model_selection import train_test_split\n"
   ]
  },
  {
   "cell_type": "code",
   "execution_count": 62,
   "metadata": {},
   "outputs": [],
   "source": [
    "#X = df.date\n",
    "#y = df.death"
   ]
  },
  {
   "cell_type": "code",
   "execution_count": 63,
   "metadata": {},
   "outputs": [],
   "source": [
    "X = df['date'].values.reshape(-1,1)\n",
    "y = df['death'].values.reshape(-1,1)"
   ]
  },
  {
   "cell_type": "code",
   "execution_count": 64,
   "metadata": {},
   "outputs": [],
   "source": [
    "#df.date.reshape(-1,1)"
   ]
  },
  {
   "cell_type": "code",
   "execution_count": 65,
   "metadata": {},
   "outputs": [],
   "source": [
    "X_train, X_test, y_train, y_test = train_test_split(X,y,test_size=0.2) "
   ]
  },
  {
   "cell_type": "code",
   "execution_count": 66,
   "metadata": {},
   "outputs": [
    {
     "name": "stdout",
     "output_type": "stream",
     "text": [
      "(73, 1) (73, 1)\n"
     ]
    }
   ],
   "source": [
    "print(X_train.shape, y_train.shape)"
   ]
  },
  {
   "cell_type": "code",
   "execution_count": 67,
   "metadata": {},
   "outputs": [],
   "source": [
    "model4 = LinearRegression()"
   ]
  },
  {
   "cell_type": "code",
   "execution_count": 68,
   "metadata": {},
   "outputs": [
    {
     "data": {
      "text/plain": [
       "LinearRegression()"
      ]
     },
     "execution_count": 68,
     "metadata": {},
     "output_type": "execute_result"
    }
   ],
   "source": [
    "model4.fit(X_train, y_train)"
   ]
  },
  {
   "cell_type": "code",
   "execution_count": 69,
   "metadata": {},
   "outputs": [],
   "source": [
    "#y_pred_train = model4.predict(X_train)\n",
    "#y_pred_test = model4.predict(X_test)"
   ]
  },
  {
   "cell_type": "code",
   "execution_count": 70,
   "metadata": {},
   "outputs": [],
   "source": [
    "#print(f\"Training Data Score: {model4.score(X_train, y_train)}\")\n",
    "#print(f\"Testing Data Score: {model4.score(X_test, y_test)}\")"
   ]
  },
  {
   "cell_type": "code",
   "execution_count": 71,
   "metadata": {},
   "outputs": [],
   "source": [
    "#X_test"
   ]
  },
  {
   "cell_type": "code",
   "execution_count": 72,
   "metadata": {},
   "outputs": [],
   "source": [
    "#y_pred_train = model4.predict(X_train)\n",
    "#y_pred_test = model4.predict(X_test)"
   ]
  }
 ],
 "metadata": {
  "colab": {
   "name": "Untitled14.ipynb",
   "provenance": []
  },
  "kernelspec": {
   "display_name": "Python [conda env:PythonAdv] *",
   "language": "python",
   "name": "conda-env-PythonAdv-py"
  },
  "language_info": {
   "codemirror_mode": {
    "name": "ipython",
    "version": 3
   },
   "file_extension": ".py",
   "mimetype": "text/x-python",
   "name": "python",
   "nbconvert_exporter": "python",
   "pygments_lexer": "ipython3",
   "version": "3.7.9"
  }
 },
 "nbformat": 4,
 "nbformat_minor": 1
}
