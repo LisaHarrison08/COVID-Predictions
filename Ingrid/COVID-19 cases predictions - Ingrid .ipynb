{
 "cells": [
  {
   "cell_type": "code",
   "execution_count": null,
   "metadata": {},
   "outputs": [],
   "source": [
    "import pandas as pd\n",
    "import matplotlib.pyplot as plt\n",
    "import seaborn as sns\n",
    "import numpy as np\n",
    "import datetime as dt\n",
    "from datetime import timedelta\n",
    "from sklearn import datasets, linear_model\n",
    "from sklearn.linear_model import Ridge\n",
    "from sklearn.ensemble import RandomForestRegressor\n",
    "from sklearn.model_selection import train_test_split, cross_val_score\n",
    "from sklearn.metrics import r2_score,mean_absolute_error,mean_squared_error\n",
    "#To remove warnings\n",
    "import warnings\n",
    "warnings.filterwarnings('ignore')"
   ]
  },
  {
   "cell_type": "code",
   "execution_count": null,
   "metadata": {},
   "outputs": [],
   "source": [
    "# Create reference to CSV file\n",
    "covid_path = \"data/state covid_data.csv\"\n",
    "covid_data = pd.read_csv(covid_path, low_memory=False)\n",
    "covid_data.head()"
   ]
  },
  {
   "cell_type": "code",
   "execution_count": null,
   "metadata": {},
   "outputs": [],
   "source": [
    "#Data stops at 08/31/2020\n",
    "covid_data.tail()"
   ]
  },
  {
   "cell_type": "code",
   "execution_count": null,
   "metadata": {},
   "outputs": [],
   "source": [
    "#plot all states\n",
    "# Get list of states\n",
    "states = covid_data['state_name'].unique()\n",
    "    \n",
    "fig, axs = plt.subplots(18,3,figsize=(20,60))\n",
    "fig.tight_layout()\n",
    "plt.subplots_adjust(hspace = 0.5)\n",
    "\n",
    "fig.autofmt_xdate()\n",
    "\n",
    "states_s = states[0:18]\n",
    "rows = range(0,len(states_s))\n",
    "for row in rows:\n",
    "    state = states_s[row]\n",
    "    x = covid_data[(covid_data.state_name == state)]['date']\n",
    "    y = covid_data[(covid_data.state_name == state)]['new_case_count']\n",
    "    x2 = covid_data[(covid_data.state_name == state)]['date']\n",
    "    y2 = covid_data[(covid_data.state_name == state)]['case_count']*10\n",
    "    axs[row,0].plot(x,y,'b')\n",
    "    axs[row,0].plot(x2,y2,'r')\n",
    "    axs[row,0].set_title(state)\n",
    "\n",
    "states_s = states[18:36]\n",
    "rows = range(0,len(states_s))\n",
    "for row in rows:\n",
    "    state = states_s[row]\n",
    "    x = covid_data[(covid_data.state_name == state)]['date']\n",
    "    y = covid_data[(covid_data.state_name == state)]['new_case_count']\n",
    "    x2 = covid_data[(covid_data.state_name == state)]['date']\n",
    "    y2 = covid_data[(covid_data.state_name == state)]['case_count']*10\n",
    "    axs[row,1].plot(x,y,'b')\n",
    "    axs[row,1].plot(x2,y2,'r')\n",
    "    axs[row,1].set_title(state)\n",
    "    \n",
    "states_s = states[36:54]\n",
    "rows = range(0,len(states_s))\n",
    "for row in rows:\n",
    "    state = states_s[row]\n",
    "    x = covid_data[(covid_data.state_name == state)]['date']\n",
    "    y = covid_data[(covid_data.state_name == state)]['new_case_count']\n",
    "    x2 = covid_data[(covid_data.state_name == state)]['date']\n",
    "    y2 = covid_data[(covid_data.state_name == state)]['case_count']*10\n",
    "    axs[row,2].plot(x,y,'b')\n",
    "    axs[row,2].plot(x2,y2,'r')\n",
    "    axs[row,2].set_title(state)\n",
    "\n",
    "    plt.show()"
   ]
  },
  {
   "cell_type": "code",
   "execution_count": null,
   "metadata": {},
   "outputs": [],
   "source": [
    "plt.figure(figsize=(15,5))\n",
    "sns.barplot(x=covid_data.date,y=covid_data[\"new_case_count\"])\n",
    "plt.title(\"Distribution plot for daily cases\")\n",
    "plt.xticks(rotation=90)"
   ]
  },
  {
   "cell_type": "code",
   "execution_count": null,
   "metadata": {},
   "outputs": [],
   "source": [
    "# Observing the total numbers of horizontal rows and vertical columns\n",
    "covid_data.shape"
   ]
  },
  {
   "cell_type": "code",
   "execution_count": null,
   "metadata": {},
   "outputs": [],
   "source": [
    "# Total data size\n",
    "covid_data.size"
   ]
  },
  {
   "cell_type": "code",
   "execution_count": null,
   "metadata": {},
   "outputs": [],
   "source": [
    "#N/A values\n",
    "covid_data.isna().sum()"
   ]
  },
  {
   "cell_type": "code",
   "execution_count": null,
   "metadata": {},
   "outputs": [],
   "source": [
    "#Since, our dataset is very long let's take the latest recent 5 days case and analyse it\n",
    "us_last5days = covid_data.tail()\n",
    "us_last5days.plot(x=\"date\",y=\"new_case_count\",figsize=(8,8),color=\"red\")\n",
    "plt.xlabel(\"Date\")\n",
    "plt.ylabel(\"Recent 5 days cases\")\n",
    "plt.title(\"Total cases for latest 5 days\")\n",
    "plt.show()"
   ]
  },
  {
   "cell_type": "code",
   "execution_count": null,
   "metadata": {},
   "outputs": [],
   "source": [
    "us_last5days = covid_data.tail()\n",
    "us_last5days.plot(x=\"date\",y=\"case_count\",figsize=(8,8),color=\"red\")\n",
    "plt.xlabel(\"Date\")\n",
    "plt.ylabel(\"Recent 5 days cases\")\n",
    "plt.title(\"Total cases for latest 5 days\")\n",
    "plt.show()"
   ]
  },
  {
   "cell_type": "code",
   "execution_count": null,
   "metadata": {},
   "outputs": [],
   "source": [
    "sns.catplot(x=\"date\",y=\"new_case_count\",data=us_last5days);"
   ]
  },
  {
   "cell_type": "code",
   "execution_count": null,
   "metadata": {},
   "outputs": [],
   "source": [
    "#First 5 days\n",
    "us_first5days = covid_data.head(5)\n",
    "\n",
    "#Plot first 5 days\n",
    "us_first5days.plot(x=\"date\",y=\"new_case_count\",figsize=(6,5),color=\"orange\")\n",
    "plt.xlabel(\"Date\")\n",
    "plt.ylabel(\"Recent 5 days cases\")\n",
    "plt.title(\"Total cases for first 5 days\")\n",
    "plt.show()"
   ]
  },
  {
   "cell_type": "code",
   "execution_count": null,
   "metadata": {},
   "outputs": [],
   "source": [
    "#Plot first 5 days\n",
    "us_first5days.plot(x=\"date\",y=\"case_count\",figsize=(6,5),color=\"orange\")\n",
    "plt.xlabel(\"Date\")\n",
    "plt.ylabel(\"Recent 5 days cases\")\n",
    "plt.title(\"Total cases for first 5 days\")\n",
    "plt.show()"
   ]
  },
  {
   "cell_type": "markdown",
   "metadata": {},
   "source": [
    "# Conclusion: there was no cases in the beginning of february"
   ]
  },
  {
   "cell_type": "code",
   "execution_count": null,
   "metadata": {},
   "outputs": [],
   "source": [
    "#ML model can only read number, therefore, verify data types\n",
    "covid_data.dtypes"
   ]
  },
  {
   "cell_type": "code",
   "execution_count": null,
   "metadata": {},
   "outputs": [],
   "source": [
    "covid_data.shape"
   ]
  },
  {
   "cell_type": "markdown",
   "metadata": {},
   "source": [
    "# CREATE MODEL"
   ]
  },
  {
   "cell_type": "code",
   "execution_count": null,
   "metadata": {},
   "outputs": [],
   "source": [
    "#If our model can predict with 90% accuacy we will assume that our model is good for predicting the new cases\n",
    "np.random.seed(45)\n",
    "# X contains all the independent attributes except our target new_case_count\n",
    "X = covid_data['case_count'].values.reshape(-1,1)\n",
    "# y is our target variable which is new_case_count\n",
    "y = covid_data['new_case_count'].values.reshape(-1,1)\n"
   ]
  },
  {
   "cell_type": "code",
   "execution_count": null,
   "metadata": {},
   "outputs": [],
   "source": [
    "print(X)"
   ]
  },
  {
   "cell_type": "code",
   "execution_count": null,
   "metadata": {},
   "outputs": [],
   "source": [
    "print(y)"
   ]
  },
  {
   "cell_type": "code",
   "execution_count": null,
   "metadata": {},
   "outputs": [],
   "source": [
    "#Import necessary libraries\n",
    "from sklearn.ensemble import RandomForestRegressor\n",
    "from sklearn.model_selection import train_test_split\n",
    "from sklearn.metrics import accuracy_score"
   ]
  },
  {
   "cell_type": "code",
   "execution_count": null,
   "metadata": {},
   "outputs": [],
   "source": [
    "#split\n",
    "np.random.seed(42)\n",
    "X_train,X_test,y_train,y_test = train_test_split(X,y,test_size= 0.2, random_state=42)\n"
   ]
  },
  {
   "cell_type": "markdown",
   "metadata": {},
   "source": [
    "# Train, test, split"
   ]
  },
  {
   "cell_type": "code",
   "execution_count": null,
   "metadata": {},
   "outputs": [],
   "source": [
    "rg = RandomForestRegressor(n_estimators=40)"
   ]
  },
  {
   "cell_type": "code",
   "execution_count": null,
   "metadata": {},
   "outputs": [],
   "source": [
    "X_train.shape, y_train.shape"
   ]
  },
  {
   "cell_type": "code",
   "execution_count": null,
   "metadata": {},
   "outputs": [],
   "source": [
    "rg.fit(X_train,y_train)"
   ]
  },
  {
   "cell_type": "code",
   "execution_count": null,
   "metadata": {},
   "outputs": [],
   "source": [
    "rg.score(X_test,y_test)"
   ]
  },
  {
   "cell_type": "code",
   "execution_count": null,
   "metadata": {},
   "outputs": [],
   "source": [
    "rg.score(X_train,y_train)"
   ]
  },
  {
   "cell_type": "markdown",
   "metadata": {},
   "source": [
    "# we can see that our model is able to predict with an accuracy of 91%. I don't know what to do here going forward"
   ]
  },
  {
   "cell_type": "code",
   "execution_count": null,
   "metadata": {},
   "outputs": [],
   "source": []
  },
  {
   "cell_type": "code",
   "execution_count": null,
   "metadata": {},
   "outputs": [],
   "source": [
    "# fit a model - found this on Towards data science\n",
    "lm = linear_model.LinearRegression()\n",
    "model = lm.fit(X_train, y_train)\n",
    "predictions = lm.predict(X_test)\n"
   ]
  },
  {
   "cell_type": "code",
   "execution_count": null,
   "metadata": {},
   "outputs": [],
   "source": [
    "#Let’s see what the predictions are:\n",
    "predictions"
   ]
  },
  {
   "cell_type": "code",
   "execution_count": null,
   "metadata": {},
   "outputs": [],
   "source": [
    "#Plot the model\n",
    "plt.scatter(y_test, predictions)\n",
    "plt.xlabel('True Values')\n",
    "plt.ylabel('predictions')"
   ]
  },
  {
   "cell_type": "code",
   "execution_count": null,
   "metadata": {},
   "outputs": [],
   "source": [
    "#  print the accuracy score\n",
    "print(\"score: \", model.score(X_test, y_test))"
   ]
  },
  {
   "cell_type": "code",
   "execution_count": null,
   "metadata": {},
   "outputs": [],
   "source": []
  }
 ],
 "metadata": {
  "kernelspec": {
   "display_name": "Python 3",
   "language": "python",
   "name": "python3"
  },
  "language_info": {
   "codemirror_mode": {
    "name": "ipython",
    "version": 3
   },
   "file_extension": ".py",
   "mimetype": "text/x-python",
   "name": "python",
   "nbconvert_exporter": "python",
   "pygments_lexer": "ipython3",
   "version": "3.7.6"
  }
 },
 "nbformat": 4,
 "nbformat_minor": 4
}
