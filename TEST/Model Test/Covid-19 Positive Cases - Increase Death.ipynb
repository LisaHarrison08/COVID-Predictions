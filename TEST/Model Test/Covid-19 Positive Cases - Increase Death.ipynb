{
 "cells": [
  {
   "cell_type": "markdown",
   "metadata": {},
   "source": [
    "### COVID-19 Positive Cases Increase Death?"
   ]
  },
  {
   "cell_type": "code",
   "execution_count": null,
   "metadata": {
    "colab": {
     "base_uri": "https://localhost:8080/",
     "height": 74
    },
    "colab_type": "code",
    "id": "OT5QpVPKLDUv",
    "outputId": "9ceac6b4-f24e-4cc5-df93-b85432e64970"
   },
   "outputs": [],
   "source": [
    "import pandas as pd\n",
    "import numpy as np\n",
    "from sklearn.linear_model import LinearRegression\n",
    "from sklearn.preprocessing import PolynomialFeatures\n",
    "from sklearn.model_selection import train_test_split\n",
    "from sklearn.metrics import mean_squared_error\n",
    "from sklearn.metrics import r2_score\n",
    "import seaborn as sns\n",
    "import matplotlib.pyplot as plt"
   ]
  },
  {
   "cell_type": "code",
   "execution_count": null,
   "metadata": {
    "colab": {
     "base_uri": "https://localhost:8080/",
     "height": 198
    },
    "colab_type": "code",
    "id": "XoqKhNmjNJCe",
    "outputId": "22a28283-928c-4086-b3ef-ae1c2c3d8ae0"
   },
   "outputs": [],
   "source": [
    "covid = pd.read_csv(\"covid-states.csv\")\n",
    "covid.head()"
   ]
  },
  {
   "cell_type": "code",
   "execution_count": null,
   "metadata": {
    "colab": {
     "base_uri": "https://localhost:8080/",
     "height": 381
    },
    "colab_type": "code",
    "id": "pCtcBt_PN_F6",
    "outputId": "50698676-ce5f-476d-c70e-a4b7e118e254"
   },
   "outputs": [],
   "source": [
    "print(\"Size/Shape of the dataset\",covid.shape)\n",
    "print(\"Checking for null values:\\n\",covid.isnull().sum())\n",
    "print(\"Checking Data-type:\",covid.dtypes)"
   ]
  },
  {
   "cell_type": "code",
   "execution_count": null,
   "metadata": {
    "colab": {},
    "colab_type": "code",
    "id": "o4fpIjPPO-iA"
   },
   "outputs": [],
   "source": [
    "#Dropping the column SNO\n",
    "covid.drop([\"dataQualityGrade\"],1,inplace = True)"
   ]
  },
  {
   "cell_type": "code",
   "execution_count": null,
   "metadata": {},
   "outputs": [],
   "source": [
    "#Data Analysis for Washington DC\n",
    "dc_data = covid[covid[\"state\"]==\"DC\"]\n",
    "dc_data.head()"
   ]
  },
  {
   "cell_type": "code",
   "execution_count": null,
   "metadata": {},
   "outputs": [],
   "source": [
    "dc_drop = dc_data.fillna(0)\n",
    "dc_drop.head()"
   ]
  },
  {
   "cell_type": "code",
   "execution_count": null,
   "metadata": {},
   "outputs": [],
   "source": [
    "data_numeric = dc_data[['positive','negative','death','recovered','deathIncrease','totalTestsPeopleViral']]\n",
    "plt.figure(figsize=(20, 10))\n",
    "sns.pairplot(data_numeric)\n",
    "plt.show()"
   ]
  },
  {
   "cell_type": "markdown",
   "metadata": {},
   "source": [
    "## Modelling data with NAN values"
   ]
  },
  {
   "cell_type": "code",
   "execution_count": null,
   "metadata": {},
   "outputs": [],
   "source": [
    "X = dc_data['positive']\n",
    "y = dc_data['deathIncrease'].values.reshape(-1,1)"
   ]
  },
  {
   "cell_type": "markdown",
   "metadata": {},
   "source": [
    "### Split our data into training and testing"
   ]
  },
  {
   "cell_type": "code",
   "execution_count": null,
   "metadata": {},
   "outputs": [],
   "source": [
    "X_train, X_test, y_train, y_test = train_test_split(X, y, random_state=42)"
   ]
  },
  {
   "cell_type": "code",
   "execution_count": null,
   "metadata": {},
   "outputs": [],
   "source": [
    "model = LinearRegression()\n",
    "model"
   ]
  },
  {
   "cell_type": "code",
   "execution_count": null,
   "metadata": {},
   "outputs": [],
   "source": [
    "model.fit(X_train, y_train)"
   ]
  },
  {
   "cell_type": "code",
   "execution_count": null,
   "metadata": {},
   "outputs": [],
   "source": [
    "print(f\"Training Data Score: {model.score(X_train, y_train)}\")\n",
    "print(f\"Testing Data Score: {model.score(X_test, y_test)}\")"
   ]
  },
  {
   "cell_type": "code",
   "execution_count": null,
   "metadata": {},
   "outputs": [],
   "source": [
    "predictions = model.predict(X)\n",
    "print(\"The linear model is: Y = {:.5} + {:.5}X\".format(model.intercept_[0], model.coef_[0][0]))\n",
    "plt.figure(figsize=(16, 8))\n",
    "plt.scatter(\n",
    "    X,\n",
    "    y,\n",
    "    c='black'\n",
    ")\n",
    "plt.plot(\n",
    "    X,\n",
    "    predictions,\n",
    "    c='blue',\n",
    "    linewidth=2\n",
    ")\n",
    "plt.xlabel(\"Positive\")\n",
    "plt.ylabel(\"Death Increase\")\n",
    "plt.show()"
   ]
  },
  {
   "cell_type": "code",
   "execution_count": null,
   "metadata": {
    "colab": {},
    "colab_type": "code",
    "id": "miVXy1RwlCJp"
   },
   "outputs": [],
   "source": [
    "poly = PolynomialFeatures(degree =4) \n",
    "X_poly = poly.fit_transform(X) \n",
    "  \n",
    "poly.fit(X_poly, y) \n",
    "lin2 = LinearRegression() \n",
    "lin2.fit(X_poly, y) \n",
    "pred = lin2.predict(X_poly)\n",
    "new_X, new_y = zip(*sorted(zip(X, pred)))\n",
    "plt.figure(figsize=(16, 8))\n",
    "plt.scatter(\n",
    "    X,\n",
    "    y,\n",
    "    c='black'\n",
    ")\n",
    "plt.plot(\n",
    "    new_X, new_y,\n",
    "    c='blue'\n",
    ")\n",
    "plt.xlabel(\"Positive\")\n",
    "plt.ylabel(\"Death Increase\")\n",
    "plt.show()"
   ]
  },
  {
   "cell_type": "markdown",
   "metadata": {},
   "source": [
    "### Modelling data with NAN values set as 0"
   ]
  },
  {
   "cell_type": "code",
   "execution_count": null,
   "metadata": {},
   "outputs": [],
   "source": [
    "X = dc_drop['positive'].values.reshape(-1,1)\n",
    "y = dc_drop['deathIncrease'].values.reshape(-1,1)"
   ]
  },
  {
   "cell_type": "code",
   "execution_count": null,
   "metadata": {},
   "outputs": [],
   "source": [
    "X_train, X_test, y_train, y_test = train_test_split(X, y, random_state=42)"
   ]
  },
  {
   "cell_type": "code",
   "execution_count": null,
   "metadata": {},
   "outputs": [],
   "source": [
    "model2 = LinearRegression()\n",
    "model2"
   ]
  },
  {
   "cell_type": "code",
   "execution_count": null,
   "metadata": {},
   "outputs": [],
   "source": [
    "model2.fit(X_train, y_train)"
   ]
  },
  {
   "cell_type": "code",
   "execution_count": null,
   "metadata": {},
   "outputs": [],
   "source": [
    "print(f\"Training Data Score: {model.score(X_train, y_train)}\")\n",
    "print(f\"Testing Data Score: {model.score(X_test, y_test)}\")"
   ]
  },
  {
   "cell_type": "code",
   "execution_count": null,
   "metadata": {},
   "outputs": [],
   "source": [
    "predictions = model2.predict(X)\n",
    "print(\"The linear model is: Y = {:.5} + {:.5}X\".format(model2.intercept_[0], model2.coef_[0][0]))\n",
    "plt.figure(figsize=(16, 8))\n",
    "plt.scatter(\n",
    "    X,\n",
    "    y,\n",
    "    c='black'\n",
    ")\n",
    "plt.plot(\n",
    "    X,\n",
    "    predictions,\n",
    "    c='blue',\n",
    "    linewidth=2\n",
    ")\n",
    "plt.xlabel(\"Positive\")\n",
    "plt.ylabel(\"Death Increase\")\n",
    "plt.show()"
   ]
  },
  {
   "cell_type": "code",
   "execution_count": null,
   "metadata": {},
   "outputs": [],
   "source": []
  }
 ],
 "metadata": {
  "colab": {
   "name": "Untitled14.ipynb",
   "provenance": []
  },
  "kernelspec": {
   "display_name": "Python [conda env:PythonAdv] *",
   "language": "python",
   "name": "conda-env-PythonAdv-py"
  },
  "language_info": {
   "codemirror_mode": {
    "name": "ipython",
    "version": 3
   },
   "file_extension": ".py",
   "mimetype": "text/x-python",
   "name": "python",
   "nbconvert_exporter": "python",
   "pygments_lexer": "ipython3",
   "version": "3.7.9"
  }
 },
 "nbformat": 4,
 "nbformat_minor": 1
}
