{
 "cells": [
  {
   "cell_type": "markdown",
   "metadata": {},
   "source": [
    "### Currently on ventilator/Now on ventilator\n",
    "- API field name: onVentilatorCurrently\n",
    "- Individuals who are currently hospitalized under advanced ventilation with COVID-19."
   ]
  },
  {
   "cell_type": "code",
   "execution_count": 1,
   "metadata": {},
   "outputs": [],
   "source": [
    "import matplotlib.pyplot as plt\n",
    "import numpy as np\n",
    "import pandas as pd"
   ]
  },
  {
   "cell_type": "code",
   "execution_count": 2,
   "metadata": {},
   "outputs": [
    {
     "data": {
      "text/html": [
       "<div>\n",
       "<style scoped>\n",
       "    .dataframe tbody tr th:only-of-type {\n",
       "        vertical-align: middle;\n",
       "    }\n",
       "\n",
       "    .dataframe tbody tr th {\n",
       "        vertical-align: top;\n",
       "    }\n",
       "\n",
       "    .dataframe thead th {\n",
       "        text-align: right;\n",
       "    }\n",
       "</style>\n",
       "<table border=\"1\" class=\"dataframe\">\n",
       "  <thead>\n",
       "    <tr style=\"text-align: right;\">\n",
       "      <th></th>\n",
       "      <th>Unnamed: 0</th>\n",
       "      <th>date</th>\n",
       "      <th>state</th>\n",
       "      <th>death</th>\n",
       "      <th>hospitalizedCurrently</th>\n",
       "      <th>inIcuCurrently</th>\n",
       "      <th>negative</th>\n",
       "      <th>negativeIncrease</th>\n",
       "      <th>onVentilatorCurrently</th>\n",
       "      <th>positive</th>\n",
       "      <th>positiveIncrease</th>\n",
       "      <th>recovered</th>\n",
       "      <th>totalTestEncountersViral</th>\n",
       "      <th>totalTestsPeopleViral</th>\n",
       "      <th>totalTestsPeopleViralIncrease</th>\n",
       "    </tr>\n",
       "  </thead>\n",
       "  <tbody>\n",
       "    <tr>\n",
       "      <th>0</th>\n",
       "      <td>8</td>\n",
       "      <td>2020-12-02</td>\n",
       "      <td>DC</td>\n",
       "      <td>690.0</td>\n",
       "      <td>165.0</td>\n",
       "      <td>41.0</td>\n",
       "      <td>679643.0</td>\n",
       "      <td>3919</td>\n",
       "      <td>18.0</td>\n",
       "      <td>21842.0</td>\n",
       "      <td>157</td>\n",
       "      <td>16070.0</td>\n",
       "      <td>701485.0</td>\n",
       "      <td>308164.0</td>\n",
       "      <td>828</td>\n",
       "    </tr>\n",
       "    <tr>\n",
       "      <th>1</th>\n",
       "      <td>64</td>\n",
       "      <td>2020-12-01</td>\n",
       "      <td>DC</td>\n",
       "      <td>685.0</td>\n",
       "      <td>160.0</td>\n",
       "      <td>43.0</td>\n",
       "      <td>675724.0</td>\n",
       "      <td>2020</td>\n",
       "      <td>18.0</td>\n",
       "      <td>21685.0</td>\n",
       "      <td>133</td>\n",
       "      <td>15914.0</td>\n",
       "      <td>697409.0</td>\n",
       "      <td>307336.0</td>\n",
       "      <td>889</td>\n",
       "    </tr>\n",
       "    <tr>\n",
       "      <th>2</th>\n",
       "      <td>120</td>\n",
       "      <td>2020-11-30</td>\n",
       "      <td>DC</td>\n",
       "      <td>680.0</td>\n",
       "      <td>158.0</td>\n",
       "      <td>43.0</td>\n",
       "      <td>673704.0</td>\n",
       "      <td>4810</td>\n",
       "      <td>17.0</td>\n",
       "      <td>21552.0</td>\n",
       "      <td>104</td>\n",
       "      <td>15746.0</td>\n",
       "      <td>695256.0</td>\n",
       "      <td>306447.0</td>\n",
       "      <td>884</td>\n",
       "    </tr>\n",
       "    <tr>\n",
       "      <th>3</th>\n",
       "      <td>176</td>\n",
       "      <td>2020-11-29</td>\n",
       "      <td>DC</td>\n",
       "      <td>680.0</td>\n",
       "      <td>145.0</td>\n",
       "      <td>42.0</td>\n",
       "      <td>668894.0</td>\n",
       "      <td>4864</td>\n",
       "      <td>21.0</td>\n",
       "      <td>21448.0</td>\n",
       "      <td>140</td>\n",
       "      <td>15671.0</td>\n",
       "      <td>690342.0</td>\n",
       "      <td>305563.0</td>\n",
       "      <td>1530</td>\n",
       "    </tr>\n",
       "    <tr>\n",
       "      <th>4</th>\n",
       "      <td>232</td>\n",
       "      <td>2020-11-28</td>\n",
       "      <td>DC</td>\n",
       "      <td>678.0</td>\n",
       "      <td>157.0</td>\n",
       "      <td>41.0</td>\n",
       "      <td>664030.0</td>\n",
       "      <td>12528</td>\n",
       "      <td>16.0</td>\n",
       "      <td>21308.0</td>\n",
       "      <td>371</td>\n",
       "      <td>15603.0</td>\n",
       "      <td>685338.0</td>\n",
       "      <td>304033.0</td>\n",
       "      <td>4071</td>\n",
       "    </tr>\n",
       "  </tbody>\n",
       "</table>\n",
       "</div>"
      ],
      "text/plain": [
       "   Unnamed: 0        date state  death  hospitalizedCurrently  inIcuCurrently  \\\n",
       "0           8  2020-12-02    DC  690.0                  165.0            41.0   \n",
       "1          64  2020-12-01    DC  685.0                  160.0            43.0   \n",
       "2         120  2020-11-30    DC  680.0                  158.0            43.0   \n",
       "3         176  2020-11-29    DC  680.0                  145.0            42.0   \n",
       "4         232  2020-11-28    DC  678.0                  157.0            41.0   \n",
       "\n",
       "   negative  negativeIncrease  onVentilatorCurrently  positive  \\\n",
       "0  679643.0              3919                   18.0   21842.0   \n",
       "1  675724.0              2020                   18.0   21685.0   \n",
       "2  673704.0              4810                   17.0   21552.0   \n",
       "3  668894.0              4864                   21.0   21448.0   \n",
       "4  664030.0             12528                   16.0   21308.0   \n",
       "\n",
       "   positiveIncrease  recovered  totalTestEncountersViral  \\\n",
       "0               157    16070.0                  701485.0   \n",
       "1               133    15914.0                  697409.0   \n",
       "2               104    15746.0                  695256.0   \n",
       "3               140    15671.0                  690342.0   \n",
       "4               371    15603.0                  685338.0   \n",
       "\n",
       "   totalTestsPeopleViral  totalTestsPeopleViralIncrease  \n",
       "0               308164.0                            828  \n",
       "1               307336.0                            889  \n",
       "2               306447.0                            884  \n",
       "3               305563.0                           1530  \n",
       "4               304033.0                           4071  "
      ]
     },
     "execution_count": 2,
     "metadata": {},
     "output_type": "execute_result"
    }
   ],
   "source": [
    "# Read the csv file into a pandas DataFrame\n",
    "\n",
    "dc = pd.read_csv('dc_covid.csv')\n",
    "dc.head()"
   ]
  },
  {
   "cell_type": "code",
   "execution_count": 3,
   "metadata": {
    "nbgrader": {
     "grade": false,
     "grade_id": "cell-41760f7611f17b25",
     "locked": false,
     "schema_version": 1,
     "solution": true
    }
   },
   "outputs": [],
   "source": [
    "# Use Pandas get_dummies to convert categorical data\n",
    "\n",
    "### BEGIN SOLUTION\n",
    "#dc = pd.get_dummies(dc)\n",
    "#dc.head()\n",
    "### END SOLUTION"
   ]
  },
  {
   "cell_type": "code",
   "execution_count": 4,
   "metadata": {},
   "outputs": [
    {
     "data": {
      "text/plain": [
       "Index(['Unnamed: 0', 'date', 'state', 'death', 'hospitalizedCurrently',\n",
       "       'inIcuCurrently', 'negative', 'negativeIncrease',\n",
       "       'onVentilatorCurrently', 'positive', 'positiveIncrease', 'recovered',\n",
       "       'totalTestEncountersViral', 'totalTestsPeopleViral',\n",
       "       'totalTestsPeopleViralIncrease'],\n",
       "      dtype='object')"
      ]
     },
     "execution_count": 4,
     "metadata": {},
     "output_type": "execute_result"
    }
   ],
   "source": [
    "dc.columns"
   ]
  },
  {
   "cell_type": "code",
   "execution_count": 5,
   "metadata": {},
   "outputs": [
    {
     "data": {
      "text/html": [
       "<div>\n",
       "<style scoped>\n",
       "    .dataframe tbody tr th:only-of-type {\n",
       "        vertical-align: middle;\n",
       "    }\n",
       "\n",
       "    .dataframe tbody tr th {\n",
       "        vertical-align: top;\n",
       "    }\n",
       "\n",
       "    .dataframe thead th {\n",
       "        text-align: right;\n",
       "    }\n",
       "</style>\n",
       "<table border=\"1\" class=\"dataframe\">\n",
       "  <thead>\n",
       "    <tr style=\"text-align: right;\">\n",
       "      <th></th>\n",
       "      <th>date</th>\n",
       "      <th>death</th>\n",
       "      <th>hospitalizedCurrently</th>\n",
       "      <th>inIcuCurrently</th>\n",
       "      <th>negative</th>\n",
       "      <th>negativeIncrease</th>\n",
       "      <th>onVentilatorCurrently</th>\n",
       "      <th>positive</th>\n",
       "      <th>positiveIncrease</th>\n",
       "      <th>recovered</th>\n",
       "      <th>totalTestEncountersViral</th>\n",
       "      <th>totalTestsPeopleViral</th>\n",
       "      <th>totalTestsPeopleViralIncrease</th>\n",
       "    </tr>\n",
       "  </thead>\n",
       "  <tbody>\n",
       "    <tr>\n",
       "      <th>0</th>\n",
       "      <td>2020-12-02</td>\n",
       "      <td>690.0</td>\n",
       "      <td>165.0</td>\n",
       "      <td>41.0</td>\n",
       "      <td>679643.0</td>\n",
       "      <td>3919</td>\n",
       "      <td>18.0</td>\n",
       "      <td>21842.0</td>\n",
       "      <td>157</td>\n",
       "      <td>16070.0</td>\n",
       "      <td>701485.0</td>\n",
       "      <td>308164.0</td>\n",
       "      <td>828</td>\n",
       "    </tr>\n",
       "    <tr>\n",
       "      <th>1</th>\n",
       "      <td>2020-12-01</td>\n",
       "      <td>685.0</td>\n",
       "      <td>160.0</td>\n",
       "      <td>43.0</td>\n",
       "      <td>675724.0</td>\n",
       "      <td>2020</td>\n",
       "      <td>18.0</td>\n",
       "      <td>21685.0</td>\n",
       "      <td>133</td>\n",
       "      <td>15914.0</td>\n",
       "      <td>697409.0</td>\n",
       "      <td>307336.0</td>\n",
       "      <td>889</td>\n",
       "    </tr>\n",
       "    <tr>\n",
       "      <th>2</th>\n",
       "      <td>2020-11-30</td>\n",
       "      <td>680.0</td>\n",
       "      <td>158.0</td>\n",
       "      <td>43.0</td>\n",
       "      <td>673704.0</td>\n",
       "      <td>4810</td>\n",
       "      <td>17.0</td>\n",
       "      <td>21552.0</td>\n",
       "      <td>104</td>\n",
       "      <td>15746.0</td>\n",
       "      <td>695256.0</td>\n",
       "      <td>306447.0</td>\n",
       "      <td>884</td>\n",
       "    </tr>\n",
       "    <tr>\n",
       "      <th>3</th>\n",
       "      <td>2020-11-29</td>\n",
       "      <td>680.0</td>\n",
       "      <td>145.0</td>\n",
       "      <td>42.0</td>\n",
       "      <td>668894.0</td>\n",
       "      <td>4864</td>\n",
       "      <td>21.0</td>\n",
       "      <td>21448.0</td>\n",
       "      <td>140</td>\n",
       "      <td>15671.0</td>\n",
       "      <td>690342.0</td>\n",
       "      <td>305563.0</td>\n",
       "      <td>1530</td>\n",
       "    </tr>\n",
       "    <tr>\n",
       "      <th>4</th>\n",
       "      <td>2020-11-28</td>\n",
       "      <td>678.0</td>\n",
       "      <td>157.0</td>\n",
       "      <td>41.0</td>\n",
       "      <td>664030.0</td>\n",
       "      <td>12528</td>\n",
       "      <td>16.0</td>\n",
       "      <td>21308.0</td>\n",
       "      <td>371</td>\n",
       "      <td>15603.0</td>\n",
       "      <td>685338.0</td>\n",
       "      <td>304033.0</td>\n",
       "      <td>4071</td>\n",
       "    </tr>\n",
       "  </tbody>\n",
       "</table>\n",
       "</div>"
      ],
      "text/plain": [
       "         date  death  hospitalizedCurrently  inIcuCurrently  negative  \\\n",
       "0  2020-12-02  690.0                  165.0            41.0  679643.0   \n",
       "1  2020-12-01  685.0                  160.0            43.0  675724.0   \n",
       "2  2020-11-30  680.0                  158.0            43.0  673704.0   \n",
       "3  2020-11-29  680.0                  145.0            42.0  668894.0   \n",
       "4  2020-11-28  678.0                  157.0            41.0  664030.0   \n",
       "\n",
       "   negativeIncrease  onVentilatorCurrently  positive  positiveIncrease  \\\n",
       "0              3919                   18.0   21842.0               157   \n",
       "1              2020                   18.0   21685.0               133   \n",
       "2              4810                   17.0   21552.0               104   \n",
       "3              4864                   21.0   21448.0               140   \n",
       "4             12528                   16.0   21308.0               371   \n",
       "\n",
       "   recovered  totalTestEncountersViral  totalTestsPeopleViral  \\\n",
       "0    16070.0                  701485.0               308164.0   \n",
       "1    15914.0                  697409.0               307336.0   \n",
       "2    15746.0                  695256.0               306447.0   \n",
       "3    15671.0                  690342.0               305563.0   \n",
       "4    15603.0                  685338.0               304033.0   \n",
       "\n",
       "   totalTestsPeopleViralIncrease  \n",
       "0                            828  \n",
       "1                            889  \n",
       "2                            884  \n",
       "3                           1530  \n",
       "4                           4071  "
      ]
     },
     "execution_count": 5,
     "metadata": {},
     "output_type": "execute_result"
    }
   ],
   "source": [
    "# Drop extra dummy columns\n",
    "\n",
    "### BEGIN SOLUTION\n",
    "dc = dc.drop(columns=['Unnamed: 0','state'])\n",
    "dc.head()\n",
    "### END SOLUTION"
   ]
  },
  {
   "cell_type": "code",
   "execution_count": 6,
   "metadata": {
    "nbgrader": {
     "grade": false,
     "grade_id": "cell-a61368ced39885a2",
     "locked": false,
     "schema_version": 1,
     "solution": true
    }
   },
   "outputs": [
    {
     "name": "stdout",
     "output_type": "stream",
     "text": [
      "(257, 11) (257, 1)\n"
     ]
    }
   ],
   "source": [
    "# Assign X (data) and y (target)\n",
    "\n",
    "### BEGIN SOLUTION\n",
    "X = dc[['death', 'hospitalizedCurrently',\\\n",
    "       'inIcuCurrently', 'negative', 'negativeIncrease',\\\n",
    "       'totalTestEncountersViral', 'positive', 'positiveIncrease', 'recovered',\\\n",
    "       'totalTestsPeopleViral',\\\n",
    "       'totalTestsPeopleViralIncrease']]\n",
    "y = dc['onVentilatorCurrently'].values.reshape(-1, 1)\n",
    "print(X.shape, y.shape)\n",
    "### END SOLUTION"
   ]
  },
  {
   "cell_type": "code",
   "execution_count": 7,
   "metadata": {
    "nbgrader": {
     "grade": false,
     "grade_id": "cell-62193e4c8caef9c5",
     "locked": false,
     "schema_version": 1,
     "solution": true
    }
   },
   "outputs": [],
   "source": [
    "# Split the data into training and testing\n",
    "\n",
    "### BEGIN SOLUTION\n",
    "from sklearn.model_selection import train_test_split\n",
    "\n",
    "X_train, X_test, y_train, y_test = train_test_split(X, y, random_state=42)\n",
    "### END SOLUTION"
   ]
  },
  {
   "cell_type": "code",
   "execution_count": 8,
   "metadata": {
    "nbgrader": {
     "grade": false,
     "grade_id": "cell-a885840c1f62d274",
     "locked": false,
     "schema_version": 1,
     "solution": true
    }
   },
   "outputs": [],
   "source": [
    "from sklearn.preprocessing import StandardScaler\n",
    "\n",
    "# Create a StandardScater model and fit it to the training data\n",
    "\n",
    "### BEGIN SOLUTION\n",
    "X_scaler = StandardScaler().fit(X_train)\n",
    "y_scaler = StandardScaler().fit(y_train)\n",
    "### END SOLUTION"
   ]
  },
  {
   "cell_type": "code",
   "execution_count": 9,
   "metadata": {
    "nbgrader": {
     "grade": false,
     "grade_id": "cell-a9cd5d1ec0f114ea",
     "locked": false,
     "schema_version": 1,
     "solution": true
    }
   },
   "outputs": [],
   "source": [
    "# Transform the training and testing data using the X_scaler and y_scaler models\n",
    "\n",
    "### BEGIN SOLUTION\n",
    "X_train_scaled = X_scaler.transform(X_train)\n",
    "X_test_scaled = X_scaler.transform(X_test)\n",
    "y_train_scaled = y_scaler.transform(y_train)\n",
    "y_test_scaled = y_scaler.transform(y_test)\n",
    "### END SOLUTION"
   ]
  },
  {
   "cell_type": "code",
   "execution_count": 10,
   "metadata": {
    "nbgrader": {
     "grade": false,
     "grade_id": "cell-4df70e615bb36ac1",
     "locked": false,
     "schema_version": 1,
     "solution": true
    }
   },
   "outputs": [
    {
     "data": {
      "text/plain": [
       "LinearRegression()"
      ]
     },
     "execution_count": 10,
     "metadata": {},
     "output_type": "execute_result"
    }
   ],
   "source": [
    "# Create a LinearRegression model and fit it to the scaled training data\n",
    "\n",
    "### BEGIN SOLUTION\n",
    "from sklearn.linear_model import LinearRegression\n",
    "model = LinearRegression()\n",
    "model.fit(X_train_scaled, y_train_scaled)\n",
    "### END SOLUTION"
   ]
  },
  {
   "cell_type": "code",
   "execution_count": 11,
   "metadata": {
    "nbgrader": {
     "grade": false,
     "grade_id": "cell-ec6532d8dc790021",
     "locked": false,
     "schema_version": 1,
     "solution": true
    }
   },
   "outputs": [
    {
     "data": {
      "image/png": "[encoded data removed]",
      "text/plain": [
       "<Figure size 432x288 with 1 Axes>"
      ]
     },
     "metadata": {
      "needs_background": "light"
     },
     "output_type": "display_data"
    }
   ],
   "source": [
    "# Make predictions using a fitted model\n",
    "# Plot the difference between the model predicted values and actual y values, versus the model predicted values\n",
    "# Hint: You can predict values of X training and testing data using the model.predict() method on a fitted model\n",
    "\n",
    "### BEGIN SOLUTION\n",
    "predictions = model.predict(X_test_scaled)\n",
    "model.fit(X_train_scaled, y_train_scaled)\n",
    "plt.scatter(model.predict(X_train_scaled), model.predict(X_train_scaled) - y_train_scaled, c=\"blue\", label=\"Training Data\")\n",
    "plt.scatter(model.predict(X_test_scaled), model.predict(X_test_scaled) - y_test_scaled, c=\"orange\", label=\"Testing Data\")\n",
    "plt.legend()\n",
    "plt.hlines(y=0, xmin=y_test_scaled.min(), xmax=y_test_scaled.max())\n",
    "plt.title(\"Residual Plot\")\n",
    "plt.show()\n",
    "### END SOLUTION"
   ]
  },
  {
   "cell_type": "code",
   "execution_count": 12,
   "metadata": {
    "nbgrader": {
     "grade": false,
     "grade_id": "cell-deb1d9b663c1883f",
     "locked": false,
     "schema_version": 1,
     "solution": true
    }
   },
   "outputs": [
    {
     "name": "stdout",
     "output_type": "stream",
     "text": [
      "MSE: 0.45229250409857835, R2: 0.7573948926596082\n"
     ]
    }
   ],
   "source": [
    "# Used X_test_scaled, y_test_scaled, and model.predict(X_test_scaled) to calculate MSE and R2\n",
    "\n",
    "### BEGIN SOLUTION\n",
    "from sklearn.metrics import mean_squared_error\n",
    "\n",
    "MSE = mean_squared_error(y_test_scaled, predictions)\n",
    "r2 = model.score(X_test_scaled, y_test_scaled)\n",
    "### END SOLUTION\n",
    "\n",
    "print(f\"MSE: {MSE}, R2: {r2}\")"
   ]
  },
  {
   "cell_type": "code",
   "execution_count": 13,
   "metadata": {
    "nbgrader": {
     "grade": false,
     "grade_id": "cell-1dbfa38f409ceb7c",
     "locked": false,
     "schema_version": 1,
     "solution": true
    }
   },
   "outputs": [
    {
     "name": "stdout",
     "output_type": "stream",
     "text": [
      "MSE: 0.37539269589293794, R2: 0.7986431690628775\n"
     ]
    }
   ],
   "source": [
    "# LASSO model\n",
    "# Note: Use an alpha of .01 when creating the model for this activity\n",
    "from sklearn.linear_model import Lasso\n",
    "\n",
    "### BEGIN SOLUTION\n",
    "lasso = Lasso(alpha=.01).fit(X_train_scaled, y_train_scaled)\n",
    "\n",
    "predictions = lasso.predict(X_test_scaled)\n",
    "\n",
    "MSE = mean_squared_error(y_test_scaled, predictions)\n",
    "r2 = lasso.score(X_test_scaled, y_test_scaled)\n",
    "### END SOLUTION\n",
    "\n",
    "print(f\"MSE: {MSE}, R2: {r2}\")"
   ]
  },
  {
   "cell_type": "code",
   "execution_count": 14,
   "metadata": {
    "nbgrader": {
     "grade": false,
     "grade_id": "cell-d7adb5db2fc7b236",
     "locked": false,
     "schema_version": 1,
     "solution": true
    }
   },
   "outputs": [
    {
     "name": "stdout",
     "output_type": "stream",
     "text": [
      "MSE: 0.38665232388372417, R2: 0.7926036189209582\n"
     ]
    }
   ],
   "source": [
    "# Ridge model\n",
    "# Note: Use an alpha of .01 when creating the model for this activity\n",
    "from sklearn.linear_model import Ridge\n",
    "\n",
    "### BEGIN SOLUTION\n",
    "ridge = Ridge(alpha=.01).fit(X_train_scaled, y_train_scaled)\n",
    "\n",
    "predictions = ridge.predict(X_test_scaled)\n",
    "\n",
    "MSE = mean_squared_error(y_test_scaled, predictions)\n",
    "r2 = ridge.score(X_test_scaled, y_test_scaled)\n",
    "### END SOLUTION\n",
    "\n",
    "print(f\"MSE: {MSE}, R2: {r2}\")"
   ]
  },
  {
   "cell_type": "code",
   "execution_count": 15,
   "metadata": {
    "nbgrader": {
     "grade": false,
     "grade_id": "cell-5b0241abbdaa88e9",
     "locked": false,
     "schema_version": 1,
     "solution": true
    }
   },
   "outputs": [
    {
     "name": "stdout",
     "output_type": "stream",
     "text": [
      "MSE: 0.37677295054138915, R2: 0.7979028144823568\n"
     ]
    }
   ],
   "source": [
    "# ElasticNet model\n",
    "# Note: Use an alpha of .01 when creating the model for this activity\n",
    "from sklearn.linear_model import ElasticNet\n",
    "\n",
    "### BEGIN SOLUTION\n",
    "elasticnet = ElasticNet(alpha=.01).fit(X_train_scaled, y_train_scaled)\n",
    "\n",
    "predictions = elasticnet.predict(X_test_scaled)\n",
    "\n",
    "MSE = mean_squared_error(y_test_scaled, predictions)\n",
    "r2 = elasticnet.score(X_test_scaled, y_test_scaled)\n",
    "### END SOLUTION\n",
    "\n",
    "print(f\"MSE: {MSE}, R2: {r2}\")"
   ]
  },
  {
   "cell_type": "code",
   "execution_count": null,
   "metadata": {},
   "outputs": [],
   "source": []
  }
 ],
 "metadata": {
  "celltoolbar": "Create Assignment",
  "kernelspec": {
   "display_name": "Python 3",
   "language": "python",
   "name": "python3"
  },
  "language_info": {
   "codemirror_mode": {
    "name": "ipython",
    "version": 3
   },
   "file_extension": ".py",
   "mimetype": "text/x-python",
   "name": "python",
   "nbconvert_exporter": "python",
   "pygments_lexer": "ipython3",
   "version": "3.7.9"
  },
  "varInspector": {
   "cols": {
    "lenName": 16,
    "lenType": 16,
    "lenVar": 40
   },
   "kernels_config": {
    "python": {
     "delete_cmd_postfix": "",
     "delete_cmd_prefix": "del ",
     "library": "var_list.py",
     "varRefreshCmd": "print(var_dic_list())"
    },
    "r": {
     "delete_cmd_postfix": ") ",
     "delete_cmd_prefix": "rm(",
     "library": "var_list.r",
     "varRefreshCmd": "cat(var_dic_list()) "
    }
   },
   "types_to_exclude": [
    "module",
    "function",
    "builtin_function_or_method",
    "instance",
    "_Feature"
   ],
   "window_display": false
  }
 },
 "nbformat": 4,
 "nbformat_minor": 2
}
