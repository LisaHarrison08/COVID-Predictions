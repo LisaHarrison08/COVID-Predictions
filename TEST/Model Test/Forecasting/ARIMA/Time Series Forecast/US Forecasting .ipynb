{
 "cells": [
  {
   "cell_type": "markdown",
   "metadata": {},
   "source": [
    "### Forecasting DC COVID-19 Deaths"
   ]
  },
  {
   "cell_type": "code",
   "execution_count": 1,
   "metadata": {
    "colab": {
     "base_uri": "https://localhost:8080/",
     "height": 74
    },
    "colab_type": "code",
    "id": "OT5QpVPKLDUv",
    "outputId": "9ceac6b4-f24e-4cc5-df93-b85432e64970"
   },
   "outputs": [],
   "source": [
    "import pandas as pd\n",
    "import numpy as np\n",
    "from sklearn.svm import SVC  \n",
    "from sklearn.linear_model import LinearRegression \n",
    "from sklearn.preprocessing import PolynomialFeatures\n",
    "from sklearn.model_selection import train_test_split\n",
    "from sklearn.metrics import mean_squared_error\n",
    "from sklearn.metrics import r2_score\n",
    "import seaborn as sns\n",
    "import matplotlib.pyplot as plt\n",
    "import matplotlib.pylab as plt\n",
    "%matplotlib inline\n",
    "import datetime as dt"
   ]
  },
  {
   "cell_type": "code",
   "execution_count": 2,
   "metadata": {
    "colab": {
     "base_uri": "https://localhost:8080/",
     "height": 198
    },
    "colab_type": "code",
    "id": "XoqKhNmjNJCe",
    "outputId": "22a28283-928c-4086-b3ef-ae1c2c3d8ae0"
   },
   "outputs": [
    {
     "data": {
      "text/html": [
       "<div>\n",
       "<style scoped>\n",
       "    .dataframe tbody tr th:only-of-type {\n",
       "        vertical-align: middle;\n",
       "    }\n",
       "\n",
       "    .dataframe tbody tr th {\n",
       "        vertical-align: top;\n",
       "    }\n",
       "\n",
       "    .dataframe thead th {\n",
       "        text-align: right;\n",
       "    }\n",
       "</style>\n",
       "<table border=\"1\" class=\"dataframe\">\n",
       "  <thead>\n",
       "    <tr style=\"text-align: right;\">\n",
       "      <th></th>\n",
       "      <th>date</th>\n",
       "      <th>state</th>\n",
       "      <th>dataQualityGrade</th>\n",
       "      <th>death</th>\n",
       "      <th>deathConfirmed</th>\n",
       "      <th>deathIncrease</th>\n",
       "      <th>deathProbable</th>\n",
       "      <th>hospitalized</th>\n",
       "      <th>hospitalizedCumulative</th>\n",
       "      <th>hospitalizedCurrently</th>\n",
       "      <th>...</th>\n",
       "      <th>totalTestResults</th>\n",
       "      <th>totalTestResultsIncrease</th>\n",
       "      <th>totalTestsAntibody</th>\n",
       "      <th>totalTestsAntigen</th>\n",
       "      <th>totalTestsPeopleAntibody</th>\n",
       "      <th>totalTestsPeopleAntigen</th>\n",
       "      <th>totalTestsPeopleViral</th>\n",
       "      <th>totalTestsPeopleViralIncrease</th>\n",
       "      <th>totalTestsViral</th>\n",
       "      <th>totalTestsViralIncrease</th>\n",
       "    </tr>\n",
       "  </thead>\n",
       "  <tbody>\n",
       "    <tr>\n",
       "      <th>0</th>\n",
       "      <td>2020-12-02</td>\n",
       "      <td>AK</td>\n",
       "      <td>A</td>\n",
       "      <td>122.0</td>\n",
       "      <td>122.0</td>\n",
       "      <td>0</td>\n",
       "      <td>NaN</td>\n",
       "      <td>768.0</td>\n",
       "      <td>768.0</td>\n",
       "      <td>164.0</td>\n",
       "      <td>...</td>\n",
       "      <td>1024643.0</td>\n",
       "      <td>6015</td>\n",
       "      <td>NaN</td>\n",
       "      <td>NaN</td>\n",
       "      <td>NaN</td>\n",
       "      <td>NaN</td>\n",
       "      <td>NaN</td>\n",
       "      <td>0</td>\n",
       "      <td>1024643.0</td>\n",
       "      <td>6015</td>\n",
       "    </tr>\n",
       "    <tr>\n",
       "      <th>1</th>\n",
       "      <td>2020-12-02</td>\n",
       "      <td>AL</td>\n",
       "      <td>A</td>\n",
       "      <td>3711.0</td>\n",
       "      <td>3326.0</td>\n",
       "      <td>73</td>\n",
       "      <td>385.0</td>\n",
       "      <td>25821.0</td>\n",
       "      <td>25821.0</td>\n",
       "      <td>1801.0</td>\n",
       "      <td>...</td>\n",
       "      <td>1603523.0</td>\n",
       "      <td>9681</td>\n",
       "      <td>NaN</td>\n",
       "      <td>NaN</td>\n",
       "      <td>73187.0</td>\n",
       "      <td>NaN</td>\n",
       "      <td>1603523.0</td>\n",
       "      <td>9681</td>\n",
       "      <td>NaN</td>\n",
       "      <td>0</td>\n",
       "    </tr>\n",
       "    <tr>\n",
       "      <th>2</th>\n",
       "      <td>2020-12-02</td>\n",
       "      <td>AR</td>\n",
       "      <td>A+</td>\n",
       "      <td>2522.0</td>\n",
       "      <td>2312.0</td>\n",
       "      <td>10</td>\n",
       "      <td>210.0</td>\n",
       "      <td>9110.0</td>\n",
       "      <td>9110.0</td>\n",
       "      <td>1088.0</td>\n",
       "      <td>...</td>\n",
       "      <td>1703266.0</td>\n",
       "      <td>11813</td>\n",
       "      <td>NaN</td>\n",
       "      <td>21856.0</td>\n",
       "      <td>NaN</td>\n",
       "      <td>144866.0</td>\n",
       "      <td>NaN</td>\n",
       "      <td>0</td>\n",
       "      <td>1703266.0</td>\n",
       "      <td>11813</td>\n",
       "    </tr>\n",
       "    <tr>\n",
       "      <th>3</th>\n",
       "      <td>2020-12-02</td>\n",
       "      <td>AS</td>\n",
       "      <td>D</td>\n",
       "      <td>0.0</td>\n",
       "      <td>NaN</td>\n",
       "      <td>0</td>\n",
       "      <td>NaN</td>\n",
       "      <td>NaN</td>\n",
       "      <td>NaN</td>\n",
       "      <td>NaN</td>\n",
       "      <td>...</td>\n",
       "      <td>1988.0</td>\n",
       "      <td>0</td>\n",
       "      <td>NaN</td>\n",
       "      <td>NaN</td>\n",
       "      <td>NaN</td>\n",
       "      <td>NaN</td>\n",
       "      <td>NaN</td>\n",
       "      <td>0</td>\n",
       "      <td>1988.0</td>\n",
       "      <td>0</td>\n",
       "    </tr>\n",
       "    <tr>\n",
       "      <th>4</th>\n",
       "      <td>2020-12-02</td>\n",
       "      <td>AZ</td>\n",
       "      <td>A+</td>\n",
       "      <td>6739.0</td>\n",
       "      <td>6237.0</td>\n",
       "      <td>52</td>\n",
       "      <td>502.0</td>\n",
       "      <td>26312.0</td>\n",
       "      <td>26312.0</td>\n",
       "      <td>2699.0</td>\n",
       "      <td>...</td>\n",
       "      <td>2288204.0</td>\n",
       "      <td>16290</td>\n",
       "      <td>365871.0</td>\n",
       "      <td>NaN</td>\n",
       "      <td>NaN</td>\n",
       "      <td>NaN</td>\n",
       "      <td>2288204.0</td>\n",
       "      <td>16290</td>\n",
       "      <td>NaN</td>\n",
       "      <td>0</td>\n",
       "    </tr>\n",
       "  </tbody>\n",
       "</table>\n",
       "<p>5 rows × 42 columns</p>\n",
       "</div>"
      ],
      "text/plain": [
       "         date state dataQualityGrade   death  deathConfirmed  deathIncrease  \\\n",
       "0  2020-12-02    AK                A   122.0           122.0              0   \n",
       "1  2020-12-02    AL                A  3711.0          3326.0             73   \n",
       "2  2020-12-02    AR               A+  2522.0          2312.0             10   \n",
       "3  2020-12-02    AS                D     0.0             NaN              0   \n",
       "4  2020-12-02    AZ               A+  6739.0          6237.0             52   \n",
       "\n",
       "   deathProbable  hospitalized  hospitalizedCumulative  hospitalizedCurrently  \\\n",
       "0            NaN         768.0                   768.0                  164.0   \n",
       "1          385.0       25821.0                 25821.0                 1801.0   \n",
       "2          210.0        9110.0                  9110.0                 1088.0   \n",
       "3            NaN           NaN                     NaN                    NaN   \n",
       "4          502.0       26312.0                 26312.0                 2699.0   \n",
       "\n",
       "   ...  totalTestResults  totalTestResultsIncrease  totalTestsAntibody  \\\n",
       "0  ...         1024643.0                      6015                 NaN   \n",
       "1  ...         1603523.0                      9681                 NaN   \n",
       "2  ...         1703266.0                     11813                 NaN   \n",
       "3  ...            1988.0                         0                 NaN   \n",
       "4  ...         2288204.0                     16290            365871.0   \n",
       "\n",
       "   totalTestsAntigen  totalTestsPeopleAntibody  totalTestsPeopleAntigen  \\\n",
       "0                NaN                       NaN                      NaN   \n",
       "1                NaN                   73187.0                      NaN   \n",
       "2            21856.0                       NaN                 144866.0   \n",
       "3                NaN                       NaN                      NaN   \n",
       "4                NaN                       NaN                      NaN   \n",
       "\n",
       "   totalTestsPeopleViral  totalTestsPeopleViralIncrease  totalTestsViral  \\\n",
       "0                    NaN                              0        1024643.0   \n",
       "1              1603523.0                           9681              NaN   \n",
       "2                    NaN                              0        1703266.0   \n",
       "3                    NaN                              0           1988.0   \n",
       "4              2288204.0                          16290              NaN   \n",
       "\n",
       "   totalTestsViralIncrease  \n",
       "0                     6015  \n",
       "1                        0  \n",
       "2                    11813  \n",
       "3                        0  \n",
       "4                        0  \n",
       "\n",
       "[5 rows x 42 columns]"
      ]
     },
     "execution_count": 2,
     "metadata": {},
     "output_type": "execute_result"
    }
   ],
   "source": [
    "covid = pd.read_csv(\"covid-states.csv\")\n",
    "covid.head()"
   ]
  },
  {
   "cell_type": "code",
   "execution_count": 3,
   "metadata": {
    "colab": {
     "base_uri": "https://localhost:8080/",
     "height": 381
    },
    "colab_type": "code",
    "id": "pCtcBt_PN_F6",
    "outputId": "50698676-ce5f-476d-c70e-a4b7e118e254"
   },
   "outputs": [],
   "source": [
    "#print(\"Size/Shape of the dataset\",covid.shape)\n",
    "#print(\"Checking for null values:\\n\",covid.isnull().sum())\n",
    "#print(\"Checking Data-type:\",covid.dtypes)"
   ]
  },
  {
   "cell_type": "code",
   "execution_count": 4,
   "metadata": {},
   "outputs": [
    {
     "data": {
      "text/plain": [
       "Index(['date', 'state', 'dataQualityGrade', 'death', 'deathConfirmed',\n",
       "       'deathIncrease', 'deathProbable', 'hospitalized',\n",
       "       'hospitalizedCumulative', 'hospitalizedCurrently',\n",
       "       'hospitalizedIncrease', 'inIcuCumulative', 'inIcuCurrently', 'negative',\n",
       "       'negativeIncrease', 'negativeTestsAntibody',\n",
       "       'negativeTestsPeopleAntibody', 'negativeTestsViral',\n",
       "       'onVentilatorCumulative', 'onVentilatorCurrently', 'positive',\n",
       "       'positiveCasesViral', 'positiveIncrease', 'positiveScore',\n",
       "       'positiveTestsAntibody', 'positiveTestsAntigen',\n",
       "       'positiveTestsPeopleAntibody', 'positiveTestsPeopleAntigen',\n",
       "       'positiveTestsViral', 'recovered', 'totalTestEncountersViral',\n",
       "       'totalTestEncountersViralIncrease', 'totalTestResults',\n",
       "       'totalTestResultsIncrease', 'totalTestsAntibody', 'totalTestsAntigen',\n",
       "       'totalTestsPeopleAntibody', 'totalTestsPeopleAntigen',\n",
       "       'totalTestsPeopleViral', 'totalTestsPeopleViralIncrease',\n",
       "       'totalTestsViral', 'totalTestsViralIncrease'],\n",
       "      dtype='object')"
      ]
     },
     "execution_count": 4,
     "metadata": {},
     "output_type": "execute_result"
    }
   ],
   "source": [
    "covid.columns"
   ]
  },
  {
   "cell_type": "code",
   "execution_count": 5,
   "metadata": {
    "colab": {},
    "colab_type": "code",
    "id": "o4fpIjPPO-iA"
   },
   "outputs": [],
   "source": [
    "#Drop columns\n",
    "covid.drop(['dataQualityGrade','deathIncrease',\\\n",
    "       'deathProbable','hospitalizedCumulative','hospitalizedIncrease',\\\n",
    "       'negativeTestsAntibody', 'negativeTestsPeopleAntibody',\\\n",
    "       'negativeTestsViral', 'onVentilatorCumulative','positiveScore',\\\n",
    "       'positiveTestsAntibody', 'positiveTestsAntigen',\\\n",
    "       'positiveTestsPeopleAntibody', 'positiveTestsPeopleAntigen',\\\n",
    "       'totalTestEncountersViralIncrease', 'totalTestResults',\\\n",
    "       'totalTestResultsIncrease', 'totalTestsAntibody', 'totalTestsAntigen',\\\n",
    "       'totalTestsPeopleAntibody', 'totalTestsPeopleAntigen','deathConfirmed','hospitalized','inIcuCumulative',\\\n",
    "       'positiveCasesViral', 'positiveTestsViral',\\\n",
    "       'totalTestsViral','totalTestsViralIncrease'],1,inplace = True)"
   ]
  },
  {
   "cell_type": "code",
   "execution_count": 6,
   "metadata": {},
   "outputs": [
    {
     "data": {
      "text/plain": [
       "Index(['date', 'state', 'death', 'hospitalizedCurrently', 'inIcuCurrently',\n",
       "       'negative', 'negativeIncrease', 'onVentilatorCurrently', 'positive',\n",
       "       'positiveIncrease', 'recovered', 'totalTestEncountersViral',\n",
       "       'totalTestsPeopleViral', 'totalTestsPeopleViralIncrease'],\n",
       "      dtype='object')"
      ]
     },
     "execution_count": 6,
     "metadata": {},
     "output_type": "execute_result"
    }
   ],
   "source": [
    "covid.columns"
   ]
  },
  {
   "cell_type": "code",
   "execution_count": 7,
   "metadata": {},
   "outputs": [
    {
     "data": {
      "text/html": [
       "<div>\n",
       "<style scoped>\n",
       "    .dataframe tbody tr th:only-of-type {\n",
       "        vertical-align: middle;\n",
       "    }\n",
       "\n",
       "    .dataframe tbody tr th {\n",
       "        vertical-align: top;\n",
       "    }\n",
       "\n",
       "    .dataframe thead th {\n",
       "        text-align: right;\n",
       "    }\n",
       "</style>\n",
       "<table border=\"1\" class=\"dataframe\">\n",
       "  <thead>\n",
       "    <tr style=\"text-align: right;\">\n",
       "      <th></th>\n",
       "      <th>date</th>\n",
       "      <th>state</th>\n",
       "      <th>death</th>\n",
       "      <th>hospitalizedCurrently</th>\n",
       "      <th>inIcuCurrently</th>\n",
       "      <th>negative</th>\n",
       "      <th>negativeIncrease</th>\n",
       "      <th>onVentilatorCurrently</th>\n",
       "      <th>positive</th>\n",
       "      <th>positiveIncrease</th>\n",
       "      <th>recovered</th>\n",
       "      <th>totalTestEncountersViral</th>\n",
       "      <th>totalTestsPeopleViral</th>\n",
       "      <th>totalTestsPeopleViralIncrease</th>\n",
       "    </tr>\n",
       "  </thead>\n",
       "  <tbody>\n",
       "    <tr>\n",
       "      <th>0</th>\n",
       "      <td>2020-12-02</td>\n",
       "      <td>AK</td>\n",
       "      <td>122.0</td>\n",
       "      <td>164.0</td>\n",
       "      <td>0.0</td>\n",
       "      <td>992112.0</td>\n",
       "      <td>5318</td>\n",
       "      <td>23.0</td>\n",
       "      <td>32531.0</td>\n",
       "      <td>697</td>\n",
       "      <td>7165.0</td>\n",
       "      <td>0.0</td>\n",
       "      <td>0.0</td>\n",
       "      <td>0</td>\n",
       "    </tr>\n",
       "    <tr>\n",
       "      <th>1</th>\n",
       "      <td>2020-12-02</td>\n",
       "      <td>AL</td>\n",
       "      <td>3711.0</td>\n",
       "      <td>1801.0</td>\n",
       "      <td>0.0</td>\n",
       "      <td>1390351.0</td>\n",
       "      <td>6546</td>\n",
       "      <td>0.0</td>\n",
       "      <td>256828.0</td>\n",
       "      <td>3928</td>\n",
       "      <td>168387.0</td>\n",
       "      <td>0.0</td>\n",
       "      <td>1603523.0</td>\n",
       "      <td>9681</td>\n",
       "    </tr>\n",
       "    <tr>\n",
       "      <th>2</th>\n",
       "      <td>2020-12-02</td>\n",
       "      <td>AR</td>\n",
       "      <td>2522.0</td>\n",
       "      <td>1088.0</td>\n",
       "      <td>393.0</td>\n",
       "      <td>1562561.0</td>\n",
       "      <td>10306</td>\n",
       "      <td>186.0</td>\n",
       "      <td>161521.0</td>\n",
       "      <td>2212</td>\n",
       "      <td>142600.0</td>\n",
       "      <td>0.0</td>\n",
       "      <td>0.0</td>\n",
       "      <td>0</td>\n",
       "    </tr>\n",
       "    <tr>\n",
       "      <th>3</th>\n",
       "      <td>2020-12-02</td>\n",
       "      <td>AS</td>\n",
       "      <td>0.0</td>\n",
       "      <td>0.0</td>\n",
       "      <td>0.0</td>\n",
       "      <td>1988.0</td>\n",
       "      <td>0</td>\n",
       "      <td>0.0</td>\n",
       "      <td>0.0</td>\n",
       "      <td>0</td>\n",
       "      <td>0.0</td>\n",
       "      <td>0.0</td>\n",
       "      <td>0.0</td>\n",
       "      <td>0</td>\n",
       "    </tr>\n",
       "    <tr>\n",
       "      <th>4</th>\n",
       "      <td>2020-12-02</td>\n",
       "      <td>AZ</td>\n",
       "      <td>6739.0</td>\n",
       "      <td>2699.0</td>\n",
       "      <td>642.0</td>\n",
       "      <td>1957887.0</td>\n",
       "      <td>12811</td>\n",
       "      <td>386.0</td>\n",
       "      <td>340979.0</td>\n",
       "      <td>3840</td>\n",
       "      <td>53694.0</td>\n",
       "      <td>0.0</td>\n",
       "      <td>2288204.0</td>\n",
       "      <td>16290</td>\n",
       "    </tr>\n",
       "  </tbody>\n",
       "</table>\n",
       "</div>"
      ],
      "text/plain": [
       "         date state   death  hospitalizedCurrently  inIcuCurrently   negative  \\\n",
       "0  2020-12-02    AK   122.0                  164.0             0.0   992112.0   \n",
       "1  2020-12-02    AL  3711.0                 1801.0             0.0  1390351.0   \n",
       "2  2020-12-02    AR  2522.0                 1088.0           393.0  1562561.0   \n",
       "3  2020-12-02    AS     0.0                    0.0             0.0     1988.0   \n",
       "4  2020-12-02    AZ  6739.0                 2699.0           642.0  1957887.0   \n",
       "\n",
       "   negativeIncrease  onVentilatorCurrently  positive  positiveIncrease  \\\n",
       "0              5318                   23.0   32531.0               697   \n",
       "1              6546                    0.0  256828.0              3928   \n",
       "2             10306                  186.0  161521.0              2212   \n",
       "3                 0                    0.0       0.0                 0   \n",
       "4             12811                  386.0  340979.0              3840   \n",
       "\n",
       "   recovered  totalTestEncountersViral  totalTestsPeopleViral  \\\n",
       "0     7165.0                       0.0                    0.0   \n",
       "1   168387.0                       0.0              1603523.0   \n",
       "2   142600.0                       0.0                    0.0   \n",
       "3        0.0                       0.0                    0.0   \n",
       "4    53694.0                       0.0              2288204.0   \n",
       "\n",
       "   totalTestsPeopleViralIncrease  \n",
       "0                              0  \n",
       "1                           9681  \n",
       "2                              0  \n",
       "3                              0  \n",
       "4                          16290  "
      ]
     },
     "execution_count": 7,
     "metadata": {},
     "output_type": "execute_result"
    }
   ],
   "source": [
    "covid = covid.fillna(0)\n",
    "covid.head()"
   ]
  },
  {
   "cell_type": "markdown",
   "metadata": {},
   "source": [
    "### Remove empty date from data - First death logged 2020-03-20"
   ]
  },
  {
   "cell_type": "code",
   "execution_count": 8,
   "metadata": {},
   "outputs": [
    {
     "data": {
      "text/html": [
       "<div>\n",
       "<style scoped>\n",
       "    .dataframe tbody tr th:only-of-type {\n",
       "        vertical-align: middle;\n",
       "    }\n",
       "\n",
       "    .dataframe tbody tr th {\n",
       "        vertical-align: top;\n",
       "    }\n",
       "\n",
       "    .dataframe thead th {\n",
       "        text-align: right;\n",
       "    }\n",
       "</style>\n",
       "<table border=\"1\" class=\"dataframe\">\n",
       "  <thead>\n",
       "    <tr style=\"text-align: right;\">\n",
       "      <th></th>\n",
       "      <th>date</th>\n",
       "      <th>state</th>\n",
       "      <th>death</th>\n",
       "      <th>hospitalizedCurrently</th>\n",
       "      <th>inIcuCurrently</th>\n",
       "      <th>negative</th>\n",
       "      <th>negativeIncrease</th>\n",
       "      <th>onVentilatorCurrently</th>\n",
       "      <th>positive</th>\n",
       "      <th>positiveIncrease</th>\n",
       "      <th>recovered</th>\n",
       "      <th>totalTestEncountersViral</th>\n",
       "      <th>totalTestsPeopleViral</th>\n",
       "      <th>totalTestsPeopleViralIncrease</th>\n",
       "    </tr>\n",
       "  </thead>\n",
       "  <tbody>\n",
       "    <tr>\n",
       "      <th>0</th>\n",
       "      <td>2020-12-02</td>\n",
       "      <td>AK</td>\n",
       "      <td>122.0</td>\n",
       "      <td>164.0</td>\n",
       "      <td>0.0</td>\n",
       "      <td>992112.0</td>\n",
       "      <td>5318</td>\n",
       "      <td>23.0</td>\n",
       "      <td>32531.0</td>\n",
       "      <td>697</td>\n",
       "      <td>7165.0</td>\n",
       "      <td>0.0</td>\n",
       "      <td>0.0</td>\n",
       "      <td>0</td>\n",
       "    </tr>\n",
       "    <tr>\n",
       "      <th>1</th>\n",
       "      <td>2020-12-02</td>\n",
       "      <td>AL</td>\n",
       "      <td>3711.0</td>\n",
       "      <td>1801.0</td>\n",
       "      <td>0.0</td>\n",
       "      <td>1390351.0</td>\n",
       "      <td>6546</td>\n",
       "      <td>0.0</td>\n",
       "      <td>256828.0</td>\n",
       "      <td>3928</td>\n",
       "      <td>168387.0</td>\n",
       "      <td>0.0</td>\n",
       "      <td>1603523.0</td>\n",
       "      <td>9681</td>\n",
       "    </tr>\n",
       "    <tr>\n",
       "      <th>2</th>\n",
       "      <td>2020-12-02</td>\n",
       "      <td>AR</td>\n",
       "      <td>2522.0</td>\n",
       "      <td>1088.0</td>\n",
       "      <td>393.0</td>\n",
       "      <td>1562561.0</td>\n",
       "      <td>10306</td>\n",
       "      <td>186.0</td>\n",
       "      <td>161521.0</td>\n",
       "      <td>2212</td>\n",
       "      <td>142600.0</td>\n",
       "      <td>0.0</td>\n",
       "      <td>0.0</td>\n",
       "      <td>0</td>\n",
       "    </tr>\n",
       "    <tr>\n",
       "      <th>3</th>\n",
       "      <td>2020-12-02</td>\n",
       "      <td>AS</td>\n",
       "      <td>0.0</td>\n",
       "      <td>0.0</td>\n",
       "      <td>0.0</td>\n",
       "      <td>1988.0</td>\n",
       "      <td>0</td>\n",
       "      <td>0.0</td>\n",
       "      <td>0.0</td>\n",
       "      <td>0</td>\n",
       "      <td>0.0</td>\n",
       "      <td>0.0</td>\n",
       "      <td>0.0</td>\n",
       "      <td>0</td>\n",
       "    </tr>\n",
       "    <tr>\n",
       "      <th>4</th>\n",
       "      <td>2020-12-02</td>\n",
       "      <td>AZ</td>\n",
       "      <td>6739.0</td>\n",
       "      <td>2699.0</td>\n",
       "      <td>642.0</td>\n",
       "      <td>1957887.0</td>\n",
       "      <td>12811</td>\n",
       "      <td>386.0</td>\n",
       "      <td>340979.0</td>\n",
       "      <td>3840</td>\n",
       "      <td>53694.0</td>\n",
       "      <td>0.0</td>\n",
       "      <td>2288204.0</td>\n",
       "      <td>16290</td>\n",
       "    </tr>\n",
       "    <tr>\n",
       "      <th>...</th>\n",
       "      <td>...</td>\n",
       "      <td>...</td>\n",
       "      <td>...</td>\n",
       "      <td>...</td>\n",
       "      <td>...</td>\n",
       "      <td>...</td>\n",
       "      <td>...</td>\n",
       "      <td>...</td>\n",
       "      <td>...</td>\n",
       "      <td>...</td>\n",
       "      <td>...</td>\n",
       "      <td>...</td>\n",
       "      <td>...</td>\n",
       "      <td>...</td>\n",
       "    </tr>\n",
       "    <tr>\n",
       "      <th>14387</th>\n",
       "      <td>2020-03-21</td>\n",
       "      <td>VT</td>\n",
       "      <td>2.0</td>\n",
       "      <td>0.0</td>\n",
       "      <td>0.0</td>\n",
       "      <td>1080.0</td>\n",
       "      <td>123</td>\n",
       "      <td>0.0</td>\n",
       "      <td>52.0</td>\n",
       "      <td>8</td>\n",
       "      <td>0.0</td>\n",
       "      <td>0.0</td>\n",
       "      <td>1141.0</td>\n",
       "      <td>153</td>\n",
       "    </tr>\n",
       "    <tr>\n",
       "      <th>14388</th>\n",
       "      <td>2020-03-21</td>\n",
       "      <td>WA</td>\n",
       "      <td>111.0</td>\n",
       "      <td>0.0</td>\n",
       "      <td>0.0</td>\n",
       "      <td>42741.0</td>\n",
       "      <td>2236</td>\n",
       "      <td>0.0</td>\n",
       "      <td>2965.0</td>\n",
       "      <td>194</td>\n",
       "      <td>0.0</td>\n",
       "      <td>45706.0</td>\n",
       "      <td>44847.0</td>\n",
       "      <td>2342</td>\n",
       "    </tr>\n",
       "    <tr>\n",
       "      <th>14389</th>\n",
       "      <td>2020-03-21</td>\n",
       "      <td>WI</td>\n",
       "      <td>4.0</td>\n",
       "      <td>0.0</td>\n",
       "      <td>0.0</td>\n",
       "      <td>4628.0</td>\n",
       "      <td>1173</td>\n",
       "      <td>0.0</td>\n",
       "      <td>315.0</td>\n",
       "      <td>80</td>\n",
       "      <td>0.0</td>\n",
       "      <td>6050.0</td>\n",
       "      <td>0.0</td>\n",
       "      <td>0</td>\n",
       "    </tr>\n",
       "    <tr>\n",
       "      <th>14390</th>\n",
       "      <td>2020-03-21</td>\n",
       "      <td>WV</td>\n",
       "      <td>0.0</td>\n",
       "      <td>0.0</td>\n",
       "      <td>0.0</td>\n",
       "      <td>330.0</td>\n",
       "      <td>111</td>\n",
       "      <td>0.0</td>\n",
       "      <td>11.0</td>\n",
       "      <td>4</td>\n",
       "      <td>0.0</td>\n",
       "      <td>0.0</td>\n",
       "      <td>0.0</td>\n",
       "      <td>0</td>\n",
       "    </tr>\n",
       "    <tr>\n",
       "      <th>14391</th>\n",
       "      <td>2020-03-21</td>\n",
       "      <td>WY</td>\n",
       "      <td>0.0</td>\n",
       "      <td>0.0</td>\n",
       "      <td>0.0</td>\n",
       "      <td>438.0</td>\n",
       "      <td>107</td>\n",
       "      <td>0.0</td>\n",
       "      <td>23.0</td>\n",
       "      <td>4</td>\n",
       "      <td>0.0</td>\n",
       "      <td>0.0</td>\n",
       "      <td>0.0</td>\n",
       "      <td>0</td>\n",
       "    </tr>\n",
       "  </tbody>\n",
       "</table>\n",
       "<p>14392 rows × 14 columns</p>\n",
       "</div>"
      ],
      "text/plain": [
       "             date state   death  hospitalizedCurrently  inIcuCurrently  \\\n",
       "0      2020-12-02    AK   122.0                  164.0             0.0   \n",
       "1      2020-12-02    AL  3711.0                 1801.0             0.0   \n",
       "2      2020-12-02    AR  2522.0                 1088.0           393.0   \n",
       "3      2020-12-02    AS     0.0                    0.0             0.0   \n",
       "4      2020-12-02    AZ  6739.0                 2699.0           642.0   \n",
       "...           ...   ...     ...                    ...             ...   \n",
       "14387  2020-03-21    VT     2.0                    0.0             0.0   \n",
       "14388  2020-03-21    WA   111.0                    0.0             0.0   \n",
       "14389  2020-03-21    WI     4.0                    0.0             0.0   \n",
       "14390  2020-03-21    WV     0.0                    0.0             0.0   \n",
       "14391  2020-03-21    WY     0.0                    0.0             0.0   \n",
       "\n",
       "        negative  negativeIncrease  onVentilatorCurrently  positive  \\\n",
       "0       992112.0              5318                   23.0   32531.0   \n",
       "1      1390351.0              6546                    0.0  256828.0   \n",
       "2      1562561.0             10306                  186.0  161521.0   \n",
       "3         1988.0                 0                    0.0       0.0   \n",
       "4      1957887.0             12811                  386.0  340979.0   \n",
       "...          ...               ...                    ...       ...   \n",
       "14387     1080.0               123                    0.0      52.0   \n",
       "14388    42741.0              2236                    0.0    2965.0   \n",
       "14389     4628.0              1173                    0.0     315.0   \n",
       "14390      330.0               111                    0.0      11.0   \n",
       "14391      438.0               107                    0.0      23.0   \n",
       "\n",
       "       positiveIncrease  recovered  totalTestEncountersViral  \\\n",
       "0                   697     7165.0                       0.0   \n",
       "1                  3928   168387.0                       0.0   \n",
       "2                  2212   142600.0                       0.0   \n",
       "3                     0        0.0                       0.0   \n",
       "4                  3840    53694.0                       0.0   \n",
       "...                 ...        ...                       ...   \n",
       "14387                 8        0.0                       0.0   \n",
       "14388               194        0.0                   45706.0   \n",
       "14389                80        0.0                    6050.0   \n",
       "14390                 4        0.0                       0.0   \n",
       "14391                 4        0.0                       0.0   \n",
       "\n",
       "       totalTestsPeopleViral  totalTestsPeopleViralIncrease  \n",
       "0                        0.0                              0  \n",
       "1                  1603523.0                           9681  \n",
       "2                        0.0                              0  \n",
       "3                        0.0                              0  \n",
       "4                  2288204.0                          16290  \n",
       "...                      ...                            ...  \n",
       "14387                 1141.0                            153  \n",
       "14388                44847.0                           2342  \n",
       "14389                    0.0                              0  \n",
       "14390                    0.0                              0  \n",
       "14391                    0.0                              0  \n",
       "\n",
       "[14392 rows x 14 columns]"
      ]
     },
     "execution_count": 8,
     "metadata": {},
     "output_type": "execute_result"
    }
   ],
   "source": [
    "start_date = \"2020-03-20\"\n",
    "end_date = \"2020-12-02\"\n",
    "mask = (covid[\"date\"] > start_date) & (covid[\"date\"] <= end_date)\n",
    "cut_date_df = covid.loc[mask]\n",
    "cut_date_df"
   ]
  },
  {
   "cell_type": "code",
   "execution_count": 9,
   "metadata": {},
   "outputs": [],
   "source": [
    "# Export the US data csv - when you review the exported file there are 0 deaths reported for DC!\n",
    "cut_date_df.to_csv(\"us_covid.csv\")"
   ]
  },
  {
   "cell_type": "code",
   "execution_count": 10,
   "metadata": {},
   "outputs": [
    {
     "data": {
      "text/html": [
       "<div>\n",
       "<style scoped>\n",
       "    .dataframe tbody tr th:only-of-type {\n",
       "        vertical-align: middle;\n",
       "    }\n",
       "\n",
       "    .dataframe tbody tr th {\n",
       "        vertical-align: top;\n",
       "    }\n",
       "\n",
       "    .dataframe thead th {\n",
       "        text-align: right;\n",
       "    }\n",
       "</style>\n",
       "<table border=\"1\" class=\"dataframe\">\n",
       "  <thead>\n",
       "    <tr style=\"text-align: right;\">\n",
       "      <th></th>\n",
       "      <th>date</th>\n",
       "      <th>state</th>\n",
       "      <th>death</th>\n",
       "      <th>hospitalizedCurrently</th>\n",
       "      <th>inIcuCurrently</th>\n",
       "      <th>negative</th>\n",
       "      <th>negativeIncrease</th>\n",
       "      <th>onVentilatorCurrently</th>\n",
       "      <th>positive</th>\n",
       "      <th>positiveIncrease</th>\n",
       "      <th>recovered</th>\n",
       "      <th>totalTestEncountersViral</th>\n",
       "      <th>totalTestsPeopleViral</th>\n",
       "      <th>totalTestsPeopleViralIncrease</th>\n",
       "    </tr>\n",
       "  </thead>\n",
       "  <tbody>\n",
       "    <tr>\n",
       "      <th>8</th>\n",
       "      <td>2020-12-02</td>\n",
       "      <td>DC</td>\n",
       "      <td>690.0</td>\n",
       "      <td>165.0</td>\n",
       "      <td>41.0</td>\n",
       "      <td>679643.0</td>\n",
       "      <td>3919</td>\n",
       "      <td>18.0</td>\n",
       "      <td>21842.0</td>\n",
       "      <td>157</td>\n",
       "      <td>16070.0</td>\n",
       "      <td>701485.0</td>\n",
       "      <td>308164.0</td>\n",
       "      <td>828</td>\n",
       "    </tr>\n",
       "    <tr>\n",
       "      <th>64</th>\n",
       "      <td>2020-12-01</td>\n",
       "      <td>DC</td>\n",
       "      <td>685.0</td>\n",
       "      <td>160.0</td>\n",
       "      <td>43.0</td>\n",
       "      <td>675724.0</td>\n",
       "      <td>2020</td>\n",
       "      <td>18.0</td>\n",
       "      <td>21685.0</td>\n",
       "      <td>133</td>\n",
       "      <td>15914.0</td>\n",
       "      <td>697409.0</td>\n",
       "      <td>307336.0</td>\n",
       "      <td>889</td>\n",
       "    </tr>\n",
       "    <tr>\n",
       "      <th>120</th>\n",
       "      <td>2020-11-30</td>\n",
       "      <td>DC</td>\n",
       "      <td>680.0</td>\n",
       "      <td>158.0</td>\n",
       "      <td>43.0</td>\n",
       "      <td>673704.0</td>\n",
       "      <td>4810</td>\n",
       "      <td>17.0</td>\n",
       "      <td>21552.0</td>\n",
       "      <td>104</td>\n",
       "      <td>15746.0</td>\n",
       "      <td>695256.0</td>\n",
       "      <td>306447.0</td>\n",
       "      <td>884</td>\n",
       "    </tr>\n",
       "    <tr>\n",
       "      <th>176</th>\n",
       "      <td>2020-11-29</td>\n",
       "      <td>DC</td>\n",
       "      <td>680.0</td>\n",
       "      <td>145.0</td>\n",
       "      <td>42.0</td>\n",
       "      <td>668894.0</td>\n",
       "      <td>4864</td>\n",
       "      <td>21.0</td>\n",
       "      <td>21448.0</td>\n",
       "      <td>140</td>\n",
       "      <td>15671.0</td>\n",
       "      <td>690342.0</td>\n",
       "      <td>305563.0</td>\n",
       "      <td>1530</td>\n",
       "    </tr>\n",
       "    <tr>\n",
       "      <th>232</th>\n",
       "      <td>2020-11-28</td>\n",
       "      <td>DC</td>\n",
       "      <td>678.0</td>\n",
       "      <td>157.0</td>\n",
       "      <td>41.0</td>\n",
       "      <td>664030.0</td>\n",
       "      <td>12528</td>\n",
       "      <td>16.0</td>\n",
       "      <td>21308.0</td>\n",
       "      <td>371</td>\n",
       "      <td>15603.0</td>\n",
       "      <td>685338.0</td>\n",
       "      <td>304033.0</td>\n",
       "      <td>4071</td>\n",
       "    </tr>\n",
       "  </tbody>\n",
       "</table>\n",
       "</div>"
      ],
      "text/plain": [
       "           date state  death  hospitalizedCurrently  inIcuCurrently  negative  \\\n",
       "8    2020-12-02    DC  690.0                  165.0            41.0  679643.0   \n",
       "64   2020-12-01    DC  685.0                  160.0            43.0  675724.0   \n",
       "120  2020-11-30    DC  680.0                  158.0            43.0  673704.0   \n",
       "176  2020-11-29    DC  680.0                  145.0            42.0  668894.0   \n",
       "232  2020-11-28    DC  678.0                  157.0            41.0  664030.0   \n",
       "\n",
       "     negativeIncrease  onVentilatorCurrently  positive  positiveIncrease  \\\n",
       "8                3919                   18.0   21842.0               157   \n",
       "64               2020                   18.0   21685.0               133   \n",
       "120              4810                   17.0   21552.0               104   \n",
       "176              4864                   21.0   21448.0               140   \n",
       "232             12528                   16.0   21308.0               371   \n",
       "\n",
       "     recovered  totalTestEncountersViral  totalTestsPeopleViral  \\\n",
       "8      16070.0                  701485.0               308164.0   \n",
       "64     15914.0                  697409.0               307336.0   \n",
       "120    15746.0                  695256.0               306447.0   \n",
       "176    15671.0                  690342.0               305563.0   \n",
       "232    15603.0                  685338.0               304033.0   \n",
       "\n",
       "     totalTestsPeopleViralIncrease  \n",
       "8                              828  \n",
       "64                             889  \n",
       "120                            884  \n",
       "176                           1530  \n",
       "232                           4071  "
      ]
     },
     "execution_count": 10,
     "metadata": {},
     "output_type": "execute_result"
    }
   ],
   "source": [
    "#Data Analysis for Washington DC\n",
    "dc_data = cut_date_df[cut_date_df[\"state\"]==\"DC\"]\n",
    "dc_data.head()"
   ]
  },
  {
   "cell_type": "code",
   "execution_count": 11,
   "metadata": {},
   "outputs": [
    {
     "data": {
      "text/plain": [
       "Index(['date', 'state', 'death', 'hospitalizedCurrently', 'inIcuCurrently',\n",
       "       'negative', 'negativeIncrease', 'onVentilatorCurrently', 'positive',\n",
       "       'positiveIncrease', 'recovered', 'totalTestEncountersViral',\n",
       "       'totalTestsPeopleViral', 'totalTestsPeopleViralIncrease'],\n",
       "      dtype='object')"
      ]
     },
     "execution_count": 11,
     "metadata": {},
     "output_type": "execute_result"
    }
   ],
   "source": [
    "dc_data.columns"
   ]
  },
  {
   "cell_type": "code",
   "execution_count": 12,
   "metadata": {},
   "outputs": [],
   "source": [
    "# Export the DC data csv \n",
    "dc_data.to_csv(\"dc_covid.csv\")"
   ]
  },
  {
   "cell_type": "code",
   "execution_count": 13,
   "metadata": {},
   "outputs": [
    {
     "data": {
      "text/plain": [
       "date                              object\n",
       "state                             object\n",
       "death                            float64\n",
       "hospitalizedCurrently            float64\n",
       "inIcuCurrently                   float64\n",
       "negative                         float64\n",
       "negativeIncrease                   int64\n",
       "onVentilatorCurrently            float64\n",
       "positive                         float64\n",
       "positiveIncrease                   int64\n",
       "recovered                        float64\n",
       "totalTestEncountersViral         float64\n",
       "totalTestsPeopleViral            float64\n",
       "totalTestsPeopleViralIncrease      int64\n",
       "dtype: object"
      ]
     },
     "execution_count": 13,
     "metadata": {},
     "output_type": "execute_result"
    }
   ],
   "source": [
    "dc_data.dtypes\n"
   ]
  },
  {
   "cell_type": "code",
   "execution_count": 14,
   "metadata": {},
   "outputs": [
    {
     "name": "stderr",
     "output_type": "stream",
     "text": [
      "/Applications/anaconda3/envs/PythonAdv/lib/python3.7/site-packages/ipykernel_launcher.py:3: SettingWithCopyWarning: \n",
      "A value is trying to be set on a copy of a slice from a DataFrame.\n",
      "Try using .loc[row_indexer,col_indexer] = value instead\n",
      "\n",
      "See the caveats in the documentation: https://pandas.pydata.org/pandas-docs/stable/user_guide/indexing.html#returning-a-view-versus-a-copy\n",
      "  This is separate from the ipykernel package so we can avoid doing imports until\n"
     ]
    },
    {
     "data": {
      "text/plain": [
       "DatetimeIndex(['2020-12-02', '2020-12-01', '2020-11-30', '2020-11-29',\n",
       "               '2020-11-28', '2020-11-27', '2020-11-26', '2020-11-25',\n",
       "               '2020-11-24', '2020-11-23',\n",
       "               ...\n",
       "               '2020-03-30', '2020-03-29', '2020-03-28', '2020-03-27',\n",
       "               '2020-03-26', '2020-03-25', '2020-03-24', '2020-03-23',\n",
       "               '2020-03-22', '2020-03-21'],\n",
       "              dtype='datetime64[ns]', name='date', length=257, freq=None)"
      ]
     },
     "execution_count": 14,
     "metadata": {},
     "output_type": "execute_result"
    }
   ],
   "source": [
    "# convert date object to datetime\n",
    "con=dc_data['date']\n",
    "dc_data['date']=pd.to_datetime(dc_data['date'])\n",
    "dc_data.set_index('date', inplace=True)\n",
    "#check datatype of index\n",
    "dc_data.index"
   ]
  },
  {
   "cell_type": "code",
   "execution_count": 15,
   "metadata": {},
   "outputs": [
    {
     "data": {
      "text/plain": [
       "Index(['state', 'death', 'hospitalizedCurrently', 'inIcuCurrently', 'negative',\n",
       "       'negativeIncrease', 'onVentilatorCurrently', 'positive',\n",
       "       'positiveIncrease', 'recovered', 'totalTestEncountersViral',\n",
       "       'totalTestsPeopleViral', 'totalTestsPeopleViralIncrease'],\n",
       "      dtype='object')"
      ]
     },
     "execution_count": 15,
     "metadata": {},
     "output_type": "execute_result"
    }
   ],
   "source": [
    "dc_data.columns"
   ]
  },
  {
   "cell_type": "code",
   "execution_count": 16,
   "metadata": {},
   "outputs": [
    {
     "data": {
      "text/html": [
       "<div>\n",
       "<style scoped>\n",
       "    .dataframe tbody tr th:only-of-type {\n",
       "        vertical-align: middle;\n",
       "    }\n",
       "\n",
       "    .dataframe tbody tr th {\n",
       "        vertical-align: top;\n",
       "    }\n",
       "\n",
       "    .dataframe thead th {\n",
       "        text-align: right;\n",
       "    }\n",
       "</style>\n",
       "<table border=\"1\" class=\"dataframe\">\n",
       "  <thead>\n",
       "    <tr style=\"text-align: right;\">\n",
       "      <th></th>\n",
       "      <th>state</th>\n",
       "      <th>death</th>\n",
       "      <th>hospitalizedCurrently</th>\n",
       "      <th>inIcuCurrently</th>\n",
       "      <th>negative</th>\n",
       "      <th>negativeIncrease</th>\n",
       "      <th>onVentilatorCurrently</th>\n",
       "      <th>positive</th>\n",
       "      <th>positiveIncrease</th>\n",
       "      <th>recovered</th>\n",
       "      <th>totalTestEncountersViral</th>\n",
       "      <th>totalTestsPeopleViral</th>\n",
       "      <th>totalTestsPeopleViralIncrease</th>\n",
       "    </tr>\n",
       "    <tr>\n",
       "      <th>date</th>\n",
       "      <th></th>\n",
       "      <th></th>\n",
       "      <th></th>\n",
       "      <th></th>\n",
       "      <th></th>\n",
       "      <th></th>\n",
       "      <th></th>\n",
       "      <th></th>\n",
       "      <th></th>\n",
       "      <th></th>\n",
       "      <th></th>\n",
       "      <th></th>\n",
       "      <th></th>\n",
       "    </tr>\n",
       "  </thead>\n",
       "  <tbody>\n",
       "    <tr>\n",
       "      <th>2020-12-02</th>\n",
       "      <td>DC</td>\n",
       "      <td>690.0</td>\n",
       "      <td>165.0</td>\n",
       "      <td>41.0</td>\n",
       "      <td>679643.0</td>\n",
       "      <td>3919</td>\n",
       "      <td>18.0</td>\n",
       "      <td>21842.0</td>\n",
       "      <td>157</td>\n",
       "      <td>16070.0</td>\n",
       "      <td>701485.0</td>\n",
       "      <td>308164.0</td>\n",
       "      <td>828</td>\n",
       "    </tr>\n",
       "    <tr>\n",
       "      <th>2020-12-01</th>\n",
       "      <td>DC</td>\n",
       "      <td>685.0</td>\n",
       "      <td>160.0</td>\n",
       "      <td>43.0</td>\n",
       "      <td>675724.0</td>\n",
       "      <td>2020</td>\n",
       "      <td>18.0</td>\n",
       "      <td>21685.0</td>\n",
       "      <td>133</td>\n",
       "      <td>15914.0</td>\n",
       "      <td>697409.0</td>\n",
       "      <td>307336.0</td>\n",
       "      <td>889</td>\n",
       "    </tr>\n",
       "    <tr>\n",
       "      <th>2020-11-30</th>\n",
       "      <td>DC</td>\n",
       "      <td>680.0</td>\n",
       "      <td>158.0</td>\n",
       "      <td>43.0</td>\n",
       "      <td>673704.0</td>\n",
       "      <td>4810</td>\n",
       "      <td>17.0</td>\n",
       "      <td>21552.0</td>\n",
       "      <td>104</td>\n",
       "      <td>15746.0</td>\n",
       "      <td>695256.0</td>\n",
       "      <td>306447.0</td>\n",
       "      <td>884</td>\n",
       "    </tr>\n",
       "    <tr>\n",
       "      <th>2020-11-29</th>\n",
       "      <td>DC</td>\n",
       "      <td>680.0</td>\n",
       "      <td>145.0</td>\n",
       "      <td>42.0</td>\n",
       "      <td>668894.0</td>\n",
       "      <td>4864</td>\n",
       "      <td>21.0</td>\n",
       "      <td>21448.0</td>\n",
       "      <td>140</td>\n",
       "      <td>15671.0</td>\n",
       "      <td>690342.0</td>\n",
       "      <td>305563.0</td>\n",
       "      <td>1530</td>\n",
       "    </tr>\n",
       "    <tr>\n",
       "      <th>2020-11-28</th>\n",
       "      <td>DC</td>\n",
       "      <td>678.0</td>\n",
       "      <td>157.0</td>\n",
       "      <td>41.0</td>\n",
       "      <td>664030.0</td>\n",
       "      <td>12528</td>\n",
       "      <td>16.0</td>\n",
       "      <td>21308.0</td>\n",
       "      <td>371</td>\n",
       "      <td>15603.0</td>\n",
       "      <td>685338.0</td>\n",
       "      <td>304033.0</td>\n",
       "      <td>4071</td>\n",
       "    </tr>\n",
       "    <tr>\n",
       "      <th>2020-11-27</th>\n",
       "      <td>DC</td>\n",
       "      <td>677.0</td>\n",
       "      <td>149.0</td>\n",
       "      <td>34.0</td>\n",
       "      <td>651502.0</td>\n",
       "      <td>9037</td>\n",
       "      <td>18.0</td>\n",
       "      <td>20937.0</td>\n",
       "      <td>201</td>\n",
       "      <td>15476.0</td>\n",
       "      <td>672439.0</td>\n",
       "      <td>299962.0</td>\n",
       "      <td>2529</td>\n",
       "    </tr>\n",
       "    <tr>\n",
       "      <th>2020-11-26</th>\n",
       "      <td>DC</td>\n",
       "      <td>677.0</td>\n",
       "      <td>146.0</td>\n",
       "      <td>30.0</td>\n",
       "      <td>642465.0</td>\n",
       "      <td>12746</td>\n",
       "      <td>14.0</td>\n",
       "      <td>20736.0</td>\n",
       "      <td>220</td>\n",
       "      <td>15401.0</td>\n",
       "      <td>663201.0</td>\n",
       "      <td>297433.0</td>\n",
       "      <td>3136</td>\n",
       "    </tr>\n",
       "    <tr>\n",
       "      <th>2020-11-25</th>\n",
       "      <td>DC</td>\n",
       "      <td>677.0</td>\n",
       "      <td>134.0</td>\n",
       "      <td>36.0</td>\n",
       "      <td>629719.0</td>\n",
       "      <td>1206</td>\n",
       "      <td>19.0</td>\n",
       "      <td>20516.0</td>\n",
       "      <td>107</td>\n",
       "      <td>15281.0</td>\n",
       "      <td>650235.0</td>\n",
       "      <td>294297.0</td>\n",
       "      <td>1465</td>\n",
       "    </tr>\n",
       "    <tr>\n",
       "      <th>2020-11-24</th>\n",
       "      <td>DC</td>\n",
       "      <td>673.0</td>\n",
       "      <td>134.0</td>\n",
       "      <td>36.0</td>\n",
       "      <td>628513.0</td>\n",
       "      <td>9342</td>\n",
       "      <td>13.0</td>\n",
       "      <td>20409.0</td>\n",
       "      <td>119</td>\n",
       "      <td>15085.0</td>\n",
       "      <td>648922.0</td>\n",
       "      <td>292832.0</td>\n",
       "      <td>1804</td>\n",
       "    </tr>\n",
       "    <tr>\n",
       "      <th>2020-11-23</th>\n",
       "      <td>DC</td>\n",
       "      <td>672.0</td>\n",
       "      <td>135.0</td>\n",
       "      <td>34.0</td>\n",
       "      <td>619171.0</td>\n",
       "      <td>8790</td>\n",
       "      <td>13.0</td>\n",
       "      <td>20290.0</td>\n",
       "      <td>139</td>\n",
       "      <td>14935.0</td>\n",
       "      <td>639461.0</td>\n",
       "      <td>291028.0</td>\n",
       "      <td>2704</td>\n",
       "    </tr>\n",
       "  </tbody>\n",
       "</table>\n",
       "</div>"
      ],
      "text/plain": [
       "           state  death  hospitalizedCurrently  inIcuCurrently  negative  \\\n",
       "date                                                                       \n",
       "2020-12-02    DC  690.0                  165.0            41.0  679643.0   \n",
       "2020-12-01    DC  685.0                  160.0            43.0  675724.0   \n",
       "2020-11-30    DC  680.0                  158.0            43.0  673704.0   \n",
       "2020-11-29    DC  680.0                  145.0            42.0  668894.0   \n",
       "2020-11-28    DC  678.0                  157.0            41.0  664030.0   \n",
       "2020-11-27    DC  677.0                  149.0            34.0  651502.0   \n",
       "2020-11-26    DC  677.0                  146.0            30.0  642465.0   \n",
       "2020-11-25    DC  677.0                  134.0            36.0  629719.0   \n",
       "2020-11-24    DC  673.0                  134.0            36.0  628513.0   \n",
       "2020-11-23    DC  672.0                  135.0            34.0  619171.0   \n",
       "\n",
       "            negativeIncrease  onVentilatorCurrently  positive  \\\n",
       "date                                                            \n",
       "2020-12-02              3919                   18.0   21842.0   \n",
       "2020-12-01              2020                   18.0   21685.0   \n",
       "2020-11-30              4810                   17.0   21552.0   \n",
       "2020-11-29              4864                   21.0   21448.0   \n",
       "2020-11-28             12528                   16.0   21308.0   \n",
       "2020-11-27              9037                   18.0   20937.0   \n",
       "2020-11-26             12746                   14.0   20736.0   \n",
       "2020-11-25              1206                   19.0   20516.0   \n",
       "2020-11-24              9342                   13.0   20409.0   \n",
       "2020-11-23              8790                   13.0   20290.0   \n",
       "\n",
       "            positiveIncrease  recovered  totalTestEncountersViral  \\\n",
       "date                                                                \n",
       "2020-12-02               157    16070.0                  701485.0   \n",
       "2020-12-01               133    15914.0                  697409.0   \n",
       "2020-11-30               104    15746.0                  695256.0   \n",
       "2020-11-29               140    15671.0                  690342.0   \n",
       "2020-11-28               371    15603.0                  685338.0   \n",
       "2020-11-27               201    15476.0                  672439.0   \n",
       "2020-11-26               220    15401.0                  663201.0   \n",
       "2020-11-25               107    15281.0                  650235.0   \n",
       "2020-11-24               119    15085.0                  648922.0   \n",
       "2020-11-23               139    14935.0                  639461.0   \n",
       "\n",
       "            totalTestsPeopleViral  totalTestsPeopleViralIncrease  \n",
       "date                                                              \n",
       "2020-12-02               308164.0                            828  \n",
       "2020-12-01               307336.0                            889  \n",
       "2020-11-30               306447.0                            884  \n",
       "2020-11-29               305563.0                           1530  \n",
       "2020-11-28               304033.0                           4071  \n",
       "2020-11-27               299962.0                           2529  \n",
       "2020-11-26               297433.0                           3136  \n",
       "2020-11-25               294297.0                           1465  \n",
       "2020-11-24               292832.0                           1804  \n",
       "2020-11-23               291028.0                           2704  "
      ]
     },
     "execution_count": 16,
     "metadata": {},
     "output_type": "execute_result"
    }
   ],
   "source": [
    "#convert to time series:\n",
    "ts_dc = dc_data\n",
    "ts_dc.head(10)"
   ]
  },
  {
   "cell_type": "code",
   "execution_count": 17,
   "metadata": {},
   "outputs": [
    {
     "data": {
      "text/plain": [
       "date\n",
       "2020-12-02    690.0\n",
       "2020-12-01    685.0\n",
       "2020-11-30    680.0\n",
       "2020-11-29    680.0\n",
       "2020-11-28    678.0\n",
       "Name: death, dtype: float64"
      ]
     },
     "execution_count": 17,
     "metadata": {},
     "output_type": "execute_result"
    }
   ],
   "source": [
    "ts = dc_data['death']\n",
    "ts.head()"
   ]
  },
  {
   "cell_type": "code",
   "execution_count": 18,
   "metadata": {},
   "outputs": [
    {
     "data": {
      "text/plain": [
       "date\n",
       "2020-11-23    672.0\n",
       "Name: death, dtype: float64"
      ]
     },
     "execution_count": 18,
     "metadata": {},
     "output_type": "execute_result"
    }
   ],
   "source": [
    "#indexing techniques for TS data. \n",
    "#Lets start by selecting a particular value in the Series object.\n",
    "ts['2020-11-23']"
   ]
  },
  {
   "cell_type": "code",
   "execution_count": 19,
   "metadata": {},
   "outputs": [
    {
     "data": {
      "text/plain": [
       "Series([], Name: death, dtype: float64)"
      ]
     },
     "execution_count": 19,
     "metadata": {},
     "output_type": "execute_result"
    }
   ],
   "source": [
    "#Specify the entire range:\n",
    "ts['2020-01-22':]"
   ]
  },
  {
   "cell_type": "code",
   "execution_count": 20,
   "metadata": {},
   "outputs": [
    {
     "data": {
      "text/plain": [
       "[<matplotlib.lines.Line2D at 0x7ff70067ba50>]"
      ]
     },
     "execution_count": 20,
     "metadata": {},
     "output_type": "execute_result"
    },
    {
     "data": {
      "image/png": "[encoded data removed]",
      "text/plain": [
       "<Figure size 432x288 with 1 Axes>"
      ]
     },
     "metadata": {
      "needs_background": "light"
     },
     "output_type": "display_data"
    }
   ],
   "source": [
    "plt.ylabel('death')\n",
    "plt.xlabel('date')\n",
    "plt.plot(ts)"
   ]
  },
  {
   "cell_type": "markdown",
   "metadata": {},
   "source": [
    "##### It is clearly evident that there is an overall increasing trend in the data "
   ]
  },
  {
   "cell_type": "markdown",
   "metadata": {},
   "source": [
    "## Check Stationarity Time Series Data"
   ]
  },
  {
   "cell_type": "markdown",
   "metadata": {},
   "source": [
    "#### TS is said to be stationary if its statistical properties such as mean, variance remain constant over time\n",
    "- constant mean\n",
    "- constant variance\n",
    "- an autocovariance that does not depend on time."
   ]
  },
  {
   "cell_type": "code",
   "execution_count": 21,
   "metadata": {},
   "outputs": [],
   "source": [
    "from statsmodels.tsa.stattools import adfuller"
   ]
  },
  {
   "cell_type": "code",
   "execution_count": 22,
   "metadata": {},
   "outputs": [],
   "source": [
    "def test_stationarity(timeseries):\n",
    "    \n",
    "    #Determing rolling statistics\n",
    "    rolmean = pd.Series(timeseries).rolling(window=12).mean()\n",
    "    rolstd = pd.Series(timeseries).rolling(window=12).std()\n",
    "\n",
    "    #Plot rolling statistics:\n",
    "    orig = plt.plot(timeseries, color='blue',label='Original')\n",
    "    mean = plt.plot(rolmean, color='red', label='Rolling Mean')\n",
    "    std = plt.plot(rolstd, color='black', label = 'Rolling Std')\n",
    "    plt.legend(loc='best')\n",
    "    plt.title('Rolling Mean & Standard Deviation')\n",
    "    plt.show(block=False)\n",
    "    \n",
    "    #Perform Dickey-Fuller test:\n",
    "    print ('Results of Dickey-Fuller Test:')\n",
    "    dftest = adfuller(timeseries, autolag='AIC')\n",
    "    dfoutput = pd.Series(dftest[0:4], index=['Test Statistic','p-value','#Lags Used','Number of Observations Used'])\n",
    "    for key,value in dftest[4].items():\n",
    "        dfoutput['Critical Value (%s)'%key] = value\n",
    "    print(dfoutput)"
   ]
  },
  {
   "cell_type": "code",
   "execution_count": 23,
   "metadata": {},
   "outputs": [
    {
     "data": {
      "image/png": "[encoded data removed]",
      "text/plain": [
       "<Figure size 432x288 with 1 Axes>"
      ]
     },
     "metadata": {
      "needs_background": "light"
     },
     "output_type": "display_data"
    },
    {
     "name": "stdout",
     "output_type": "stream",
     "text": [
      "Results of Dickey-Fuller Test:\n",
      "Test Statistic                  -2.199744\n",
      "p-value                          0.206338\n",
      "#Lags Used                      11.000000\n",
      "Number of Observations Used    245.000000\n",
      "Critical Value (1%)             -3.457326\n",
      "Critical Value (5%)             -2.873410\n",
      "Critical Value (10%)            -2.573096\n",
      "dtype: float64\n"
     ]
    }
   ],
   "source": [
    "test_stationarity(ts)"
   ]
  },
  {
   "cell_type": "markdown",
   "metadata": {},
   "source": [
    "### The TS is stationary? the test statistic is smaller than 1% of the critical value."
   ]
  },
  {
   "cell_type": "markdown",
   "metadata": {},
   "source": [
    "### This TS is not stationary:\n",
    "- mean is increasing even though the std is small.\n",
    "- Test stat is > critical value."
   ]
  },
  {
   "cell_type": "markdown",
   "metadata": {},
   "source": [
    "### How to make the Time Series Stationary\n",
    "-The underlying principle is to model or estimate the trend and seasonality in the series and remove those from the series to get a stationary series. Then statistical forecasting techniques can be implemented on this series. The final step would be to convert the forecasted values into the original scale by applying trend and seasonality constraints back."
   ]
  },
  {
   "cell_type": "code",
   "execution_count": 24,
   "metadata": {},
   "outputs": [
    {
     "data": {
      "text/plain": [
       "[<matplotlib.lines.Line2D at 0x7ff700b21e90>]"
      ]
     },
     "execution_count": 24,
     "metadata": {},
     "output_type": "execute_result"
    },
    {
     "data": {
      "image/png": "[encoded data removed]",
      "text/plain": [
       "<Figure size 432x288 with 1 Axes>"
      ]
     },
     "metadata": {
      "needs_background": "light"
     },
     "output_type": "display_data"
    }
   ],
   "source": [
    "ts_log = np.log(ts)\n",
    "plt.plot(ts_log)"
   ]
  },
  {
   "cell_type": "markdown",
   "metadata": {},
   "source": [
    "## Moving Average"
   ]
  },
  {
   "cell_type": "code",
   "execution_count": 25,
   "metadata": {},
   "outputs": [
    {
     "data": {
      "text/plain": [
       "[<matplotlib.lines.Line2D at 0x7ff6e6109650>]"
      ]
     },
     "execution_count": 25,
     "metadata": {},
     "output_type": "execute_result"
    },
    {
     "data": {
      "image/png": "[encoded data removed]",
      "text/plain": [
       "<Figure size 432x288 with 1 Axes>"
      ]
     },
     "metadata": {
      "needs_background": "light"
     },
     "output_type": "display_data"
    }
   ],
   "source": [
    "moving_avg = pd.Series.rolling(ts_log,12).mean()\n",
    "plt.plot(ts_log)\n",
    "plt.plot(moving_avg, color='red')"
   ]
  },
  {
   "cell_type": "code",
   "execution_count": 26,
   "metadata": {},
   "outputs": [
    {
     "data": {
      "text/plain": [
       "date\n",
       "2020-12-02         NaN\n",
       "2020-12-01         NaN\n",
       "2020-11-30         NaN\n",
       "2020-11-29         NaN\n",
       "2020-11-28         NaN\n",
       "2020-11-27         NaN\n",
       "2020-11-26         NaN\n",
       "2020-11-25         NaN\n",
       "2020-11-24         NaN\n",
       "2020-11-23         NaN\n",
       "2020-11-22         NaN\n",
       "2020-11-21   -0.010974\n",
       "Name: death, dtype: float64"
      ]
     },
     "execution_count": 26,
     "metadata": {},
     "output_type": "execute_result"
    }
   ],
   "source": [
    "ts_log_moving_avg_diff = ts_log - moving_avg\n",
    "ts_log_moving_avg_diff.head(12)"
   ]
  },
  {
   "cell_type": "markdown",
   "metadata": {},
   "source": [
    "#### The reason there are null values is because we take the average of first 12 so 11 values are null. We can also see that in the visual representation. Thus it is dropped for further analysis. Now let’s parse it to the function to check for stationarity."
   ]
  },
  {
   "cell_type": "code",
   "execution_count": 27,
   "metadata": {},
   "outputs": [],
   "source": [
    "ts_log_moving_avg_diff.dropna(inplace=True)"
   ]
  },
  {
   "cell_type": "code",
   "execution_count": 28,
   "metadata": {},
   "outputs": [
    {
     "data": {
      "text/plain": [
       "0"
      ]
     },
     "execution_count": 28,
     "metadata": {},
     "output_type": "execute_result"
    }
   ],
   "source": [
    "ts_log_moving_avg_diff.isnull().sum()"
   ]
  },
  {
   "cell_type": "code",
   "execution_count": 29,
   "metadata": {},
   "outputs": [
    {
     "data": {
      "image/png": "[encoded data removed]",
      "text/plain": [
       "<Figure size 432x288 with 1 Axes>"
      ]
     },
     "metadata": {
      "needs_background": "light"
     },
     "output_type": "display_data"
    },
    {
     "name": "stdout",
     "output_type": "stream",
     "text": [
      "Results of Dickey-Fuller Test:\n",
      "Test Statistic                   3.205736\n",
      "p-value                          1.000000\n",
      "#Lags Used                      16.000000\n",
      "Number of Observations Used    229.000000\n",
      "Critical Value (1%)             -3.459233\n",
      "Critical Value (5%)             -2.874245\n",
      "Critical Value (10%)            -2.573541\n",
      "dtype: float64\n"
     ]
    }
   ],
   "source": [
    "test_stationarity(ts_log_moving_avg_diff)"
   ]
  },
  {
   "cell_type": "code",
   "execution_count": 30,
   "metadata": {},
   "outputs": [
    {
     "data": {
      "text/plain": [
       "[<matplotlib.lines.Line2D at 0x7ff6e6432c50>]"
      ]
     },
     "execution_count": 30,
     "metadata": {},
     "output_type": "execute_result"
    },
    {
     "data": {
      "image/png": "[encoded data removed]",
      "text/plain": [
       "<Figure size 432x288 with 1 Axes>"
      ]
     },
     "metadata": {
      "needs_background": "light"
     },
     "output_type": "display_data"
    }
   ],
   "source": [
    "#the parameter ‘halflife’ is used to define the amount of exponential decay\n",
    "#halflife? Is this the number of month/years data?\n",
    "expwighted_avg = ts_log.ewm(halflife=12).mean()\n",
    "plt.plot(ts_log)\n",
    "plt.plot(expwighted_avg, color='red')"
   ]
  },
  {
   "cell_type": "code",
   "execution_count": 31,
   "metadata": {},
   "outputs": [],
   "source": [
    "ts_log_ewma_diff = ts_log - expwighted_avg"
   ]
  },
  {
   "cell_type": "code",
   "execution_count": 32,
   "metadata": {},
   "outputs": [
    {
     "data": {
      "text/plain": [
       "date\n",
       "2020-12-02    0.000000\n",
       "2020-12-01   -0.003531\n",
       "2020-11-30   -0.007027\n",
       "2020-11-29   -0.005115\n",
       "2020-11-28   -0.006257\n",
       "                ...   \n",
       "2020-03-25   -2.501066\n",
       "2020-03-24   -2.360692\n",
       "2020-03-23   -2.228196\n",
       "2020-03-22   -2.757381\n",
       "2020-03-21   -2.602621\n",
       "Name: death, Length: 257, dtype: float64"
      ]
     },
     "execution_count": 32,
     "metadata": {},
     "output_type": "execute_result"
    }
   ],
   "source": [
    "ts_log_ewma_diff"
   ]
  },
  {
   "cell_type": "code",
   "execution_count": 33,
   "metadata": {},
   "outputs": [],
   "source": [
    "#ts_log_ewma_diff.replace([np.inf, -np.inf], np.nan)"
   ]
  },
  {
   "cell_type": "code",
   "execution_count": 34,
   "metadata": {},
   "outputs": [],
   "source": [
    "#ts_log_ewma_diff.fillna(0)"
   ]
  },
  {
   "cell_type": "code",
   "execution_count": 35,
   "metadata": {},
   "outputs": [
    {
     "data": {
      "image/png": "[encoded data removed]",
      "text/plain": [
       "<Figure size 432x288 with 1 Axes>"
      ]
     },
     "metadata": {
      "needs_background": "light"
     },
     "output_type": "display_data"
    },
    {
     "name": "stdout",
     "output_type": "stream",
     "text": [
      "Results of Dickey-Fuller Test:\n",
      "Test Statistic                   2.124553\n",
      "p-value                          0.998814\n",
      "#Lags Used                      16.000000\n",
      "Number of Observations Used    240.000000\n",
      "Critical Value (1%)             -3.457894\n",
      "Critical Value (5%)             -2.873659\n",
      "Critical Value (10%)            -2.573229\n",
      "dtype: float64\n"
     ]
    }
   ],
   "source": [
    "test_stationarity(ts_log_ewma_diff)"
   ]
  },
  {
   "cell_type": "markdown",
   "metadata": {},
   "source": [
    "### Differencing\n",
    "-One of the most common methods of dealing with both trend and seasonality is differencing"
   ]
  },
  {
   "cell_type": "code",
   "execution_count": 36,
   "metadata": {},
   "outputs": [
    {
     "data": {
      "text/plain": [
       "[<matplotlib.lines.Line2D at 0x7ff6e65cefd0>]"
      ]
     },
     "execution_count": 36,
     "metadata": {},
     "output_type": "execute_result"
    },
    {
     "data": {
      "image/png": "[encoded data removed]",
      "text/plain": [
       "<Figure size 432x288 with 1 Axes>"
      ]
     },
     "metadata": {
      "needs_background": "light"
     },
     "output_type": "display_data"
    }
   ],
   "source": [
    "ts_log_diff = ts_log - ts_log.shift()\n",
    "plt.plot(ts_log_diff)"
   ]
  },
  {
   "cell_type": "code",
   "execution_count": 37,
   "metadata": {},
   "outputs": [
    {
     "data": {
      "image/png": "[encoded data removed]",
      "text/plain": [
       "<Figure size 432x288 with 1 Axes>"
      ]
     },
     "metadata": {
      "needs_background": "light"
     },
     "output_type": "display_data"
    },
    {
     "name": "stdout",
     "output_type": "stream",
     "text": [
      "Results of Dickey-Fuller Test:\n",
      "Test Statistic                   7.689688\n",
      "p-value                          1.000000\n",
      "#Lags Used                      16.000000\n",
      "Number of Observations Used    239.000000\n",
      "Critical Value (1%)             -3.458011\n",
      "Critical Value (5%)             -2.873710\n",
      "Critical Value (10%)            -2.573256\n",
      "dtype: float64\n"
     ]
    }
   ],
   "source": [
    "ts_log_diff.dropna(inplace=True)\n",
    "test_stationarity(ts_log_diff)"
   ]
  },
  {
   "cell_type": "code",
   "execution_count": 38,
   "metadata": {},
   "outputs": [
    {
     "data": {
      "image/png": "[encoded data removed]",
      "text/plain": [
       "<Figure size 432x288 with 4 Axes>"
      ]
     },
     "metadata": {
      "needs_background": "light"
     },
     "output_type": "display_data"
    }
   ],
   "source": [
    "from statsmodels.tsa.seasonal import seasonal_decompose\n",
    "decomposition = seasonal_decompose(ts_log)\n",
    "\n",
    "trend = decomposition.trend\n",
    "seasonal = decomposition.seasonal\n",
    "residual = decomposition.resid\n",
    "\n",
    "plt.subplot(411)\n",
    "plt.plot(ts_log, label='Original')\n",
    "plt.legend(loc='best')\n",
    "plt.subplot(412)\n",
    "plt.plot(trend, label='Trend')\n",
    "plt.legend(loc='best')\n",
    "plt.subplot(413)\n",
    "plt.plot(seasonal,label='Seasonality')\n",
    "plt.legend(loc='best')\n",
    "plt.subplot(414)\n",
    "plt.plot(residual, label='Residuals')\n",
    "plt.legend(loc='best')\n",
    "plt.tight_layout()"
   ]
  },
  {
   "cell_type": "markdown",
   "metadata": {},
   "source": [
    "### Here we can see that the trend, seasonality are separated out from data and we can model the residuals."
   ]
  },
  {
   "cell_type": "code",
   "execution_count": 39,
   "metadata": {},
   "outputs": [
    {
     "data": {
      "image/png": "[encoded data removed]",
      "text/plain": [
       "<Figure size 432x288 with 1 Axes>"
      ]
     },
     "metadata": {
      "needs_background": "light"
     },
     "output_type": "display_data"
    },
    {
     "name": "stdout",
     "output_type": "stream",
     "text": [
      "Results of Dickey-Fuller Test:\n",
      "Test Statistic                   1.237139\n",
      "p-value                          0.996233\n",
      "#Lags Used                      16.000000\n",
      "Number of Observations Used    234.000000\n",
      "Critical Value (1%)             -3.458608\n",
      "Critical Value (5%)             -2.873972\n",
      "Critical Value (10%)            -2.573396\n",
      "dtype: float64\n"
     ]
    }
   ],
   "source": [
    "ts_log_decompose = residual\n",
    "ts_log_decompose.dropna(inplace=True)\n",
    "test_stationarity(ts_log_decompose)"
   ]
  },
  {
   "cell_type": "markdown",
   "metadata": {},
   "source": [
    "### Forecasting Time Series"
   ]
  },
  {
   "cell_type": "code",
   "execution_count": 40,
   "metadata": {},
   "outputs": [],
   "source": [
    "#ACF and PACF plots:\n",
    "from statsmodels.tsa.stattools import acf, pacf"
   ]
  },
  {
   "cell_type": "code",
   "execution_count": 41,
   "metadata": {},
   "outputs": [
    {
     "name": "stderr",
     "output_type": "stream",
     "text": [
      "/Applications/anaconda3/envs/PythonAdv/lib/python3.7/site-packages/statsmodels/tsa/stattools.py:669: FutureWarning: fft=True will become the default after the release of the 0.12 release of statsmodels. To suppress this warning, explicitly set fft=False.\n",
      "  FutureWarning,\n"
     ]
    }
   ],
   "source": [
    "lag_acf = acf(ts_log_diff, nlags=20)\n",
    "lag_pacf = pacf(ts_log_diff, nlags=20, method='ols')"
   ]
  },
  {
   "cell_type": "code",
   "execution_count": 42,
   "metadata": {},
   "outputs": [
    {
     "data": {
      "text/plain": [
       "Text(0.5, 1.0, 'Autocorrelation Function')"
      ]
     },
     "execution_count": 42,
     "metadata": {},
     "output_type": "execute_result"
    },
    {
     "data": {
      "image/png": "[encoded data removed]",
      "text/plain": [
       "<Figure size 432x288 with 1 Axes>"
      ]
     },
     "metadata": {
      "needs_background": "light"
     },
     "output_type": "display_data"
    }
   ],
   "source": [
    "#Plot ACF: \n",
    "plt.subplot(121) \n",
    "plt.plot(lag_acf)\n",
    "plt.axhline(y=0,linestyle='--',color='gray')\n",
    "plt.axhline(y=-1.96/np.sqrt(len(ts_log_diff)),linestyle='--',color='gray')\n",
    "plt.axhline(y=1.96/np.sqrt(len(ts_log_diff)),linestyle='--',color='gray')\n",
    "plt.title('Autocorrelation Function')"
   ]
  },
  {
   "cell_type": "code",
   "execution_count": 43,
   "metadata": {},
   "outputs": [
    {
     "data": {
      "image/png": "[encoded data removed]",
      "text/plain": [
       "<Figure size 432x288 with 1 Axes>"
      ]
     },
     "metadata": {
      "needs_background": "light"
     },
     "output_type": "display_data"
    }
   ],
   "source": [
    "#Plot PACF:\n",
    "plt.subplot(122)\n",
    "plt.plot(lag_pacf)\n",
    "plt.axhline(y=0,linestyle='--',color='gray')\n",
    "plt.axhline(y=-1.96/np.sqrt(len(ts_log_diff)),linestyle='--',color='gray')\n",
    "plt.axhline(y=1.96/np.sqrt(len(ts_log_diff)),linestyle='--',color='gray')\n",
    "plt.title('Partial Autocorrelation Function')\n",
    "plt.tight_layout()"
   ]
  },
  {
   "cell_type": "code",
   "execution_count": 44,
   "metadata": {},
   "outputs": [],
   "source": [
    "from statsmodels.tsa.arima_model import ARIMA"
   ]
  },
  {
   "cell_type": "code",
   "execution_count": 45,
   "metadata": {},
   "outputs": [
    {
     "name": "stderr",
     "output_type": "stream",
     "text": [
      "/Applications/anaconda3/envs/PythonAdv/lib/python3.7/site-packages/statsmodels/tsa/arima_model.py:472: FutureWarning: \n",
      "statsmodels.tsa.arima_model.ARMA and statsmodels.tsa.arima_model.ARIMA have\n",
      "been deprecated in favor of statsmodels.tsa.arima.model.ARIMA (note the .\n",
      "between arima and model) and\n",
      "statsmodels.tsa.SARIMAX. These will be removed after the 0.12 release.\n",
      "\n",
      "statsmodels.tsa.arima.model.ARIMA makes use of the statespace framework and\n",
      "is both well tested and maintained.\n",
      "\n",
      "To silence this warning and continue using ARMA and ARIMA until they are\n",
      "removed, use:\n",
      "\n",
      "import warnings\n",
      "warnings.filterwarnings('ignore', 'statsmodels.tsa.arima_model.ARMA',\n",
      "                        FutureWarning)\n",
      "warnings.filterwarnings('ignore', 'statsmodels.tsa.arima_model.ARIMA',\n",
      "                        FutureWarning)\n",
      "\n",
      "  warnings.warn(ARIMA_DEPRECATION_WARN, FutureWarning)\n",
      "/Applications/anaconda3/envs/PythonAdv/lib/python3.7/site-packages/statsmodels/tsa/base/tsa_model.py:527: ValueWarning: No frequency information was provided, so inferred frequency -1D will be used.\n",
      "  % freq, ValueWarning)\n",
      "/Applications/anaconda3/envs/PythonAdv/lib/python3.7/site-packages/statsmodels/tsa/base/tsa_model.py:587: ValueWarning: A date index has been provided, but it is not monotonic and so will be ignored when e.g. forecasting.\n",
      "  ' forecasting.', ValueWarning)\n",
      "/Applications/anaconda3/envs/PythonAdv/lib/python3.7/site-packages/statsmodels/tsa/base/tsa_model.py:527: ValueWarning: No frequency information was provided, so inferred frequency -1D will be used.\n",
      "  % freq, ValueWarning)\n",
      "/Applications/anaconda3/envs/PythonAdv/lib/python3.7/site-packages/statsmodels/tsa/base/tsa_model.py:587: ValueWarning: A date index has been provided, but it is not monotonic and so will be ignored when e.g. forecasting.\n",
      "  ' forecasting.', ValueWarning)\n"
     ]
    },
    {
     "data": {
      "text/plain": [
       "Text(0.5, 1.0, 'RSS: 1.1531')"
      ]
     },
     "execution_count": 45,
     "metadata": {},
     "output_type": "execute_result"
    },
    {
     "data": {
      "image/png": "[encoded data removed]",
      "text/plain": [
       "<Figure size 432x288 with 1 Axes>"
      ]
     },
     "metadata": {
      "needs_background": "light"
     },
     "output_type": "display_data"
    }
   ],
   "source": [
    "model = ARIMA(ts_log, order=(2, 1, 0))  \n",
    "results_AR = model.fit(disp=-1)  \n",
    "plt.plot(ts_log_diff)\n",
    "plt.plot(results_AR.fittedvalues, color='red')\n",
    "plt.title('RSS: %.4f'% sum((results_AR.fittedvalues-ts_log_diff)**2))"
   ]
  },
  {
   "cell_type": "markdown",
   "metadata": {},
   "source": [
    "## MA Model"
   ]
  },
  {
   "cell_type": "code",
   "execution_count": 46,
   "metadata": {},
   "outputs": [
    {
     "name": "stderr",
     "output_type": "stream",
     "text": [
      "/Applications/anaconda3/envs/PythonAdv/lib/python3.7/site-packages/statsmodels/tsa/base/tsa_model.py:527: ValueWarning: No frequency information was provided, so inferred frequency -1D will be used.\n",
      "  % freq, ValueWarning)\n",
      "/Applications/anaconda3/envs/PythonAdv/lib/python3.7/site-packages/statsmodels/tsa/base/tsa_model.py:587: ValueWarning: A date index has been provided, but it is not monotonic and so will be ignored when e.g. forecasting.\n",
      "  ' forecasting.', ValueWarning)\n",
      "/Applications/anaconda3/envs/PythonAdv/lib/python3.7/site-packages/statsmodels/tsa/base/tsa_model.py:527: ValueWarning: No frequency information was provided, so inferred frequency -1D will be used.\n",
      "  % freq, ValueWarning)\n",
      "/Applications/anaconda3/envs/PythonAdv/lib/python3.7/site-packages/statsmodels/tsa/base/tsa_model.py:587: ValueWarning: A date index has been provided, but it is not monotonic and so will be ignored when e.g. forecasting.\n",
      "  ' forecasting.', ValueWarning)\n"
     ]
    },
    {
     "data": {
      "text/plain": [
       "Text(0.5, 1.0, 'RSS: 1.2782')"
      ]
     },
     "execution_count": 46,
     "metadata": {},
     "output_type": "execute_result"
    },
    {
     "data": {
      "image/png": "[encoded data removed]",
      "text/plain": [
       "<Figure size 432x288 with 1 Axes>"
      ]
     },
     "metadata": {
      "needs_background": "light"
     },
     "output_type": "display_data"
    }
   ],
   "source": [
    "model = ARIMA(ts_log, order=(0, 1, 2))  \n",
    "results_MA = model.fit(disp=-1)  \n",
    "plt.plot(ts_log_diff)\n",
    "plt.plot(results_MA.fittedvalues, color='red')\n",
    "plt.title('RSS: %.4f'% sum((results_MA.fittedvalues-ts_log_diff)**2))"
   ]
  },
  {
   "cell_type": "code",
   "execution_count": 47,
   "metadata": {},
   "outputs": [
    {
     "name": "stdout",
     "output_type": "stream",
     "text": [
      "date\n",
      "2020-12-01   -0.026718\n",
      "2020-11-30   -0.026383\n",
      "2020-11-29   -0.019328\n",
      "2020-11-28   -0.019381\n",
      "2020-11-27   -0.018229\n",
      "dtype: float64\n"
     ]
    }
   ],
   "source": [
    "predictions_ARIMA_diff = pd.Series(results_MA.fittedvalues, copy=True)\n",
    "print(predictions_ARIMA_diff.head())"
   ]
  },
  {
   "cell_type": "code",
   "execution_count": 48,
   "metadata": {},
   "outputs": [
    {
     "name": "stdout",
     "output_type": "stream",
     "text": [
      "date\n",
      "2020-12-01   -0.026718\n",
      "2020-11-30   -0.053101\n",
      "2020-11-29   -0.072429\n",
      "2020-11-28   -0.091810\n",
      "2020-11-27   -0.110039\n",
      "dtype: float64\n"
     ]
    }
   ],
   "source": [
    "predictions_ARIMA_diff_cumsum = predictions_ARIMA_diff.cumsum()\n",
    "print(predictions_ARIMA_diff_cumsum.head())"
   ]
  },
  {
   "cell_type": "code",
   "execution_count": null,
   "metadata": {},
   "outputs": [],
   "source": []
  },
  {
   "cell_type": "code",
   "execution_count": null,
   "metadata": {},
   "outputs": [],
   "source": []
  }
 ],
 "metadata": {
  "colab": {
   "name": "Untitled14.ipynb",
   "provenance": []
  },
  "kernelspec": {
   "display_name": "Python 3",
   "language": "python",
   "name": "python3"
  },
  "language_info": {
   "codemirror_mode": {
    "name": "ipython",
    "version": 3
   },
   "file_extension": ".py",
   "mimetype": "text/x-python",
   "name": "python",
   "nbconvert_exporter": "python",
   "pygments_lexer": "ipython3",
   "version": "3.7.9"
  }
 },
 "nbformat": 4,
 "nbformat_minor": 1
}
